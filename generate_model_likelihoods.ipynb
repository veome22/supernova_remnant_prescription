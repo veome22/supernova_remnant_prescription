{
 "cells": [
  {
   "cell_type": "markdown",
   "metadata": {},
   "source": [
    "# Theory\n",
    "\n",
    "Let's call a given natal kick distribution model $M(\\vec{\\theta})$, where $\\vec{\\theta} = \\{v_{ns}, \\sigma_{ns}\\}$ for the Mandel Muller 2020 model.\n",
    "\n",
    "Any given pulsar data set from Deller can be expressed as a collection of equally likely data points $\\{d_i\\}$.\n",
    "\n",
    "Then, the likelihood of reproducing the data set using our model is given by:\n",
    "$$p(d_i | M) = \\int p(d_i | v_i) \\cdot p(v_i|M) \\cdot d v_i$$\n",
    "\n",
    "Using the data files from Deller, we can compute the posterior on the velocity distribution as: \n",
    "$$p(v_i | d_i) = \\frac{p(d_i | v_i) \\cdot \\pi(v_i)}{p(d_i)}$$\n",
    "where $\\pi(v_i)$ is our prior on the velocity distribution, and $p(d_i)$ is a normalization.\n"
   ]
  },
  {
   "cell_type": "markdown",
   "metadata": {},
   "source": [
    "We will assume a flat prior $\\pi$, and we will ignore the normalization factor $p(d_i)$ since it doesn't affect the probability distribution, i.e. it is independent of $v_i$.\n",
    "\n",
    "Therefore, we can make the simplifying assumption that \n",
    "$$p(v_i|d_i) = p(d_i|v_i).$$\n",
    "\n",
    "We can now re-write the likelihood equation as:\n",
    "$$p(d_i | M) \\approx \\int p(v_i | d_i) \\cdot p(v_i|M) \\cdot d v_i .$$\n",
    "\n",
    "$p(v_i | d_i)$ can be read off from the posterior data, since it is simply the probability distribution of the velocity measurements."
   ]
  },
  {
   "cell_type": "markdown",
   "metadata": {},
   "source": [
    "Thus, the probability of drawing a given pulsar $d_i$ from a model $M$ is given by:\n",
    "$$p(d_i|M) = \\langle p(v_i | M) \\rangle.$$\n",
    "\n",
    "Here, $p(v_i|M)$ is the probability of drawing a given velocity, which appears in the data set, from model $M$. The average over all these probabilities gives the overall probability of drawing this pulsar from the model.\n",
    "\n",
    "Finally, the probability of drawing all $N$ pulsars from model M is\n",
    "$$p(d|M) = \\prod_{i=1}^{N} p(d_i|M).$$"
   ]
  },
  {
   "cell_type": "markdown",
   "metadata": {},
   "source": [
    "(RESOLVED) To get $p(v_i|M)$, for now we will simply assume that the model velocities are transverse. **In general, this is a poor assumption**. We must project all the velocities along isotropically distributed planar directions to get a modeled probability distribution for Transverse Velocity. I expect that the current calculation **underestimates** the true velocity multiplier."
   ]
  },
  {
   "cell_type": "code",
   "execution_count": 1,
   "metadata": {},
   "outputs": [],
   "source": [
    "import numpy as np\n",
    "import matplotlib.pyplot as plt\n",
    "import glob\n",
    "from scipy.stats.kde import gaussian_kde\n",
    "from numpy import linspace\n",
    "import time\n",
    "from scipy import interpolate\n",
    "import os"
   ]
  },
  {
   "cell_type": "code",
   "execution_count": 2,
   "metadata": {},
   "outputs": [],
   "source": [
    "from natal_kick_tools import mandel_muller_likelihood_functions as mmf"
   ]
  },
  {
   "cell_type": "markdown",
   "metadata": {},
   "source": [
    "# Probability from COMPAS simulated models"
   ]
  },
  {
   "cell_type": "code",
   "execution_count": 3,
   "metadata": {},
   "outputs": [],
   "source": [
    "# Define the models of interest\n",
    "bh_kicks=[200]\n",
    "# ns_kicks = [300, 350, 400, 450, 500, 550, 600, 650, 700]\n",
    "ns_kicks=[400, 450, 550, 600, 650]\n",
    "sigmas = [0.1, 0.2, 0.3, 0.4, 0.5]\n",
    "\n",
    "# Define the location of the posterior data\n",
    "pulsar_data_dir = \"../correctedPulsarPosteriors/correctedVtData\""
   ]
  },
  {
   "cell_type": "markdown",
   "metadata": {},
   "source": [
    "# Generate 2D Projected velocities"
   ]
  },
  {
   "cell_type": "code",
   "execution_count": 4,
   "metadata": {
    "scrolled": true
   },
   "outputs": [
    {
     "name": "stdout",
     "output_type": "stream",
     "text": [
      "Loading Mandel Muller model data from /work2/08178/vkapil/frontera/supernova_remnant_bse/bh_200_ns_400_sigma_0.1_combined.h5\n",
      "Loading Mandel Muller model data from /work2/08178/vkapil/frontera/supernova_remnant_bse/bh_200_ns_400_sigma_0.2_combined.h5\n",
      "Loading Mandel Muller model data from /work2/08178/vkapil/frontera/supernova_remnant_bse/bh_200_ns_400_sigma_0.3_combined.h5\n",
      "Loading Mandel Muller model data from /work2/08178/vkapil/frontera/supernova_remnant_bse/bh_200_ns_400_sigma_0.4_combined.h5\n",
      "Loading Mandel Muller model data from /work2/08178/vkapil/frontera/supernova_remnant_bse/bh_200_ns_400_sigma_0.5_combined.h5\n",
      "Loading Mandel Muller model data from /work2/08178/vkapil/frontera/supernova_remnant_bse/bh_200_ns_450_sigma_0.1_combined.h5\n",
      "Loading Mandel Muller model data from /work2/08178/vkapil/frontera/supernova_remnant_bse/bh_200_ns_450_sigma_0.2_combined.h5\n",
      "Loading Mandel Muller model data from /work2/08178/vkapil/frontera/supernova_remnant_bse/bh_200_ns_450_sigma_0.3_combined.h5\n",
      "Loading Mandel Muller model data from /work2/08178/vkapil/frontera/supernova_remnant_bse/bh_200_ns_450_sigma_0.4_combined.h5\n",
      "Loading Mandel Muller model data from /work2/08178/vkapil/frontera/supernova_remnant_bse/bh_200_ns_450_sigma_0.5_combined.h5\n",
      "Loading Mandel Muller model data from /work2/08178/vkapil/frontera/supernova_remnant_bse/bh_200_ns_550_sigma_0.1_combined.h5\n",
      "Loading Mandel Muller model data from /work2/08178/vkapil/frontera/supernova_remnant_bse/bh_200_ns_550_sigma_0.2_combined.h5\n",
      "Loading Mandel Muller model data from /work2/08178/vkapil/frontera/supernova_remnant_bse/bh_200_ns_550_sigma_0.3_combined.h5\n",
      "Loading Mandel Muller model data from /work2/08178/vkapil/frontera/supernova_remnant_bse/bh_200_ns_550_sigma_0.4_combined.h5\n",
      "Loading Mandel Muller model data from /work2/08178/vkapil/frontera/supernova_remnant_bse/bh_200_ns_550_sigma_0.5_combined.h5\n",
      "Loading Mandel Muller model data from /work2/08178/vkapil/frontera/supernova_remnant_bse/bh_200_ns_600_sigma_0.1_combined.h5\n",
      "Loading Mandel Muller model data from /work2/08178/vkapil/frontera/supernova_remnant_bse/bh_200_ns_600_sigma_0.2_combined.h5\n",
      "Loading Mandel Muller model data from /work2/08178/vkapil/frontera/supernova_remnant_bse/bh_200_ns_600_sigma_0.3_combined.h5\n",
      "Loading Mandel Muller model data from /work2/08178/vkapil/frontera/supernova_remnant_bse/bh_200_ns_600_sigma_0.4_combined.h5\n",
      "Loading Mandel Muller model data from /work2/08178/vkapil/frontera/supernova_remnant_bse/bh_200_ns_600_sigma_0.5_combined.h5\n",
      "Loading Mandel Muller model data from /work2/08178/vkapil/frontera/supernova_remnant_bse/bh_200_ns_650_sigma_0.1_combined.h5\n",
      "Loading Mandel Muller model data from /work2/08178/vkapil/frontera/supernova_remnant_bse/bh_200_ns_650_sigma_0.2_combined.h5\n",
      "Loading Mandel Muller model data from /work2/08178/vkapil/frontera/supernova_remnant_bse/bh_200_ns_650_sigma_0.3_combined.h5\n",
      "Loading Mandel Muller model data from /work2/08178/vkapil/frontera/supernova_remnant_bse/bh_200_ns_650_sigma_0.4_combined.h5\n",
      "Loading Mandel Muller model data from /work2/08178/vkapil/frontera/supernova_remnant_bse/bh_200_ns_650_sigma_0.5_combined.h5\n",
      "Succesfully saved 2D projected velocity in model_velocities_bse/vns_400_sigma_0.1_velocities\n",
      "Succesfully saved 2D projected velocity in model_velocities_bse/vns_400_sigma_0.2_velocities\n",
      "Succesfully saved 2D projected velocity in model_velocities_bse/vns_400_sigma_0.3_velocities\n",
      "Succesfully saved 2D projected velocity in model_velocities_bse/vns_400_sigma_0.4_velocities\n",
      "Succesfully saved 2D projected velocity in model_velocities_bse/vns_400_sigma_0.5_velocities\n",
      "Succesfully saved 2D projected velocity in model_velocities_bse/vns_450_sigma_0.1_velocities\n",
      "Succesfully saved 2D projected velocity in model_velocities_bse/vns_450_sigma_0.2_velocities\n",
      "Succesfully saved 2D projected velocity in model_velocities_bse/vns_450_sigma_0.3_velocities\n",
      "Succesfully saved 2D projected velocity in model_velocities_bse/vns_450_sigma_0.4_velocities\n",
      "Succesfully saved 2D projected velocity in model_velocities_bse/vns_450_sigma_0.5_velocities\n",
      "Succesfully saved 2D projected velocity in model_velocities_bse/vns_550_sigma_0.1_velocities\n",
      "Succesfully saved 2D projected velocity in model_velocities_bse/vns_550_sigma_0.2_velocities\n",
      "Succesfully saved 2D projected velocity in model_velocities_bse/vns_550_sigma_0.3_velocities\n",
      "Succesfully saved 2D projected velocity in model_velocities_bse/vns_550_sigma_0.4_velocities\n",
      "Succesfully saved 2D projected velocity in model_velocities_bse/vns_550_sigma_0.5_velocities\n",
      "Succesfully saved 2D projected velocity in model_velocities_bse/vns_600_sigma_0.1_velocities\n",
      "Succesfully saved 2D projected velocity in model_velocities_bse/vns_600_sigma_0.2_velocities\n",
      "Succesfully saved 2D projected velocity in model_velocities_bse/vns_600_sigma_0.3_velocities\n",
      "Succesfully saved 2D projected velocity in model_velocities_bse/vns_600_sigma_0.4_velocities\n",
      "Succesfully saved 2D projected velocity in model_velocities_bse/vns_600_sigma_0.5_velocities\n",
      "Succesfully saved 2D projected velocity in model_velocities_bse/vns_650_sigma_0.1_velocities\n",
      "Succesfully saved 2D projected velocity in model_velocities_bse/vns_650_sigma_0.2_velocities\n",
      "Succesfully saved 2D projected velocity in model_velocities_bse/vns_650_sigma_0.3_velocities\n",
      "Succesfully saved 2D projected velocity in model_velocities_bse/vns_650_sigma_0.4_velocities\n",
      "Succesfully saved 2D projected velocity in model_velocities_bse/vns_650_sigma_0.5_velocities\n"
     ]
    }
   ],
   "source": [
    "mmf.v3d_to_v2d(bh_kicks=bh_kicks, ns_kicks=ns_kicks, sigmas=sigmas, mode='bse', \\\n",
    "               work_dir = os.environ['WORK'] + f'/supernova_remnant_bse', output_dir='model_velocities_bse')"
   ]
  },
  {
   "cell_type": "markdown",
   "metadata": {},
   "source": [
    "# Compute all the likelihoods for the 89 pulsars"
   ]
  },
  {
   "cell_type": "code",
   "execution_count": 5,
   "metadata": {
    "scrolled": true
   },
   "outputs": [
    {
     "name": "stdout",
     "output_type": "stream",
     "text": [
      "Loading projected model data from model_velocities_bse/vns_400_sigma_0.1_velocities\n",
      "Loading projected model data from model_velocities_bse/vns_400_sigma_0.2_velocities\n",
      "Loading projected model data from model_velocities_bse/vns_400_sigma_0.3_velocities\n",
      "Loading projected model data from model_velocities_bse/vns_400_sigma_0.4_velocities\n",
      "Loading projected model data from model_velocities_bse/vns_400_sigma_0.5_velocities\n",
      "Loading projected model data from model_velocities_bse/vns_450_sigma_0.1_velocities\n",
      "Loading projected model data from model_velocities_bse/vns_450_sigma_0.2_velocities\n",
      "Loading projected model data from model_velocities_bse/vns_450_sigma_0.3_velocities\n",
      "Loading projected model data from model_velocities_bse/vns_450_sigma_0.4_velocities\n",
      "Loading projected model data from model_velocities_bse/vns_450_sigma_0.5_velocities\n",
      "Loading projected model data from model_velocities_bse/vns_550_sigma_0.1_velocities\n",
      "Loading projected model data from model_velocities_bse/vns_550_sigma_0.2_velocities\n",
      "Loading projected model data from model_velocities_bse/vns_550_sigma_0.3_velocities\n",
      "Loading projected model data from model_velocities_bse/vns_550_sigma_0.4_velocities\n",
      "Loading projected model data from model_velocities_bse/vns_550_sigma_0.5_velocities\n",
      "Loading projected model data from model_velocities_bse/vns_600_sigma_0.1_velocities\n",
      "Loading projected model data from model_velocities_bse/vns_600_sigma_0.2_velocities\n",
      "Loading projected model data from model_velocities_bse/vns_600_sigma_0.3_velocities\n",
      "Loading projected model data from model_velocities_bse/vns_600_sigma_0.4_velocities\n",
      "Loading projected model data from model_velocities_bse/vns_600_sigma_0.5_velocities\n",
      "Loading projected model data from model_velocities_bse/vns_650_sigma_0.1_velocities\n",
      "Loading projected model data from model_velocities_bse/vns_650_sigma_0.2_velocities\n",
      "Loading projected model data from model_velocities_bse/vns_650_sigma_0.3_velocities\n",
      "Loading projected model data from model_velocities_bse/vns_650_sigma_0.4_velocities\n",
      "Loading projected model data from model_velocities_bse/vns_650_sigma_0.5_velocities\n",
      "\n",
      " Successfully read 89 pulsar data files\n",
      "\n",
      "Likelihood calculation for vns_400_sigma_0.1 completed in: 0.6882612705230713 s\n",
      "Writing pulsar probabilities to file: calculatedModelLikelihoods_bse/vns_400_sigma_0.1\n",
      "Calculation Complete!\n",
      "\n",
      "Likelihood calculation for vns_400_sigma_0.2 completed in: 0.2505948543548584 s\n",
      "Writing pulsar probabilities to file: calculatedModelLikelihoods_bse/vns_400_sigma_0.2\n",
      "Calculation Complete!\n",
      "\n",
      "Likelihood calculation for vns_400_sigma_0.3 completed in: 0.24689435958862305 s\n",
      "Writing pulsar probabilities to file: calculatedModelLikelihoods_bse/vns_400_sigma_0.3\n",
      "Calculation Complete!\n",
      "\n",
      "Likelihood calculation for vns_400_sigma_0.4 completed in: 0.24278831481933594 s\n",
      "Writing pulsar probabilities to file: calculatedModelLikelihoods_bse/vns_400_sigma_0.4\n",
      "Calculation Complete!\n",
      "\n",
      "Likelihood calculation for vns_400_sigma_0.5 completed in: 0.23849844932556152 s\n",
      "Writing pulsar probabilities to file: calculatedModelLikelihoods_bse/vns_400_sigma_0.5\n",
      "Calculation Complete!\n",
      "\n",
      "Likelihood calculation for vns_450_sigma_0.1 completed in: 0.24489092826843262 s\n",
      "Writing pulsar probabilities to file: calculatedModelLikelihoods_bse/vns_450_sigma_0.1\n",
      "Calculation Complete!\n",
      "\n",
      "Likelihood calculation for vns_450_sigma_0.2 completed in: 0.24294304847717285 s\n",
      "Writing pulsar probabilities to file: calculatedModelLikelihoods_bse/vns_450_sigma_0.2\n",
      "Calculation Complete!\n",
      "\n",
      "Likelihood calculation for vns_450_sigma_0.3 completed in: 0.2397770881652832 s\n",
      "Writing pulsar probabilities to file: calculatedModelLikelihoods_bse/vns_450_sigma_0.3\n",
      "Calculation Complete!\n",
      "\n",
      "Likelihood calculation for vns_450_sigma_0.4 completed in: 0.2353658676147461 s\n",
      "Writing pulsar probabilities to file: calculatedModelLikelihoods_bse/vns_450_sigma_0.4\n",
      "Calculation Complete!\n",
      "\n",
      "Likelihood calculation for vns_450_sigma_0.5 completed in: 0.23102498054504395 s\n",
      "Writing pulsar probabilities to file: calculatedModelLikelihoods_bse/vns_450_sigma_0.5\n",
      "Calculation Complete!\n",
      "\n",
      "Likelihood calculation for vns_550_sigma_0.1 completed in: 0.2312304973602295 s\n",
      "Writing pulsar probabilities to file: calculatedModelLikelihoods_bse/vns_550_sigma_0.1\n",
      "Calculation Complete!\n",
      "\n",
      "Likelihood calculation for vns_550_sigma_0.2 completed in: 0.2290053367614746 s\n",
      "Writing pulsar probabilities to file: calculatedModelLikelihoods_bse/vns_550_sigma_0.2\n",
      "Calculation Complete!\n",
      "\n",
      "Likelihood calculation for vns_550_sigma_0.3 completed in: 0.22688722610473633 s\n",
      "Writing pulsar probabilities to file: calculatedModelLikelihoods_bse/vns_550_sigma_0.3\n",
      "Calculation Complete!\n",
      "\n",
      "Likelihood calculation for vns_550_sigma_0.4 completed in: 0.22388529777526855 s\n",
      "Writing pulsar probabilities to file: calculatedModelLikelihoods_bse/vns_550_sigma_0.4\n",
      "Calculation Complete!\n",
      "\n",
      "Likelihood calculation for vns_550_sigma_0.5 completed in: 0.21892213821411133 s\n",
      "Writing pulsar probabilities to file: calculatedModelLikelihoods_bse/vns_550_sigma_0.5\n",
      "Calculation Complete!\n",
      "\n",
      "Likelihood calculation for vns_600_sigma_0.1 completed in: 0.22662734985351562 s\n",
      "Writing pulsar probabilities to file: calculatedModelLikelihoods_bse/vns_600_sigma_0.1\n",
      "Calculation Complete!\n",
      "\n",
      "Likelihood calculation for vns_600_sigma_0.2 completed in: 0.22601532936096191 s\n",
      "Writing pulsar probabilities to file: calculatedModelLikelihoods_bse/vns_600_sigma_0.2\n",
      "Calculation Complete!\n",
      "\n",
      "Likelihood calculation for vns_600_sigma_0.3 completed in: 0.2227330207824707 s\n",
      "Writing pulsar probabilities to file: calculatedModelLikelihoods_bse/vns_600_sigma_0.3\n",
      "Calculation Complete!\n",
      "\n",
      "Likelihood calculation for vns_600_sigma_0.4 completed in: 0.2181711196899414 s\n",
      "Writing pulsar probabilities to file: calculatedModelLikelihoods_bse/vns_600_sigma_0.4\n",
      "Calculation Complete!\n",
      "\n",
      "Likelihood calculation for vns_600_sigma_0.5 completed in: 0.21594810485839844 s\n",
      "Writing pulsar probabilities to file: calculatedModelLikelihoods_bse/vns_600_sigma_0.5\n",
      "Calculation Complete!\n",
      "\n",
      "Likelihood calculation for vns_650_sigma_0.1 completed in: 0.22195863723754883 s\n",
      "Writing pulsar probabilities to file: calculatedModelLikelihoods_bse/vns_650_sigma_0.1\n",
      "Calculation Complete!\n",
      "\n",
      "Likelihood calculation for vns_650_sigma_0.2 completed in: 0.2203526496887207 s\n",
      "Writing pulsar probabilities to file: calculatedModelLikelihoods_bse/vns_650_sigma_0.2\n",
      "Calculation Complete!\n",
      "\n",
      "Likelihood calculation for vns_650_sigma_0.3 completed in: 0.21710538864135742 s\n",
      "Writing pulsar probabilities to file: calculatedModelLikelihoods_bse/vns_650_sigma_0.3\n",
      "Calculation Complete!\n",
      "\n",
      "Likelihood calculation for vns_650_sigma_0.4 completed in: 0.21448779106140137 s\n",
      "Writing pulsar probabilities to file: calculatedModelLikelihoods_bse/vns_650_sigma_0.4\n",
      "Calculation Complete!\n",
      "\n",
      "Likelihood calculation for vns_650_sigma_0.5 completed in: 0.21004343032836914 s\n",
      "Writing pulsar probabilities to file: calculatedModelLikelihoods_bse/vns_650_sigma_0.5\n",
      "Calculation Complete!\n",
      "\n",
      "Complete calculation completed in: 79.50333523750305 s\n"
     ]
    }
   ],
   "source": [
    "start = time.time() \n",
    "p_models = mmf.get_pulsar_probability(pulsar_data_dir, model_data_dir='model_velocities_bse',\\\n",
    "                                      bh_kicks=bh_kicks, ns_kicks=ns_kicks, sigmas=sigmas,\\\n",
    "                                      output_dir='calculatedModelLikelihoods_bse')\n",
    "end = time.time()\n",
    "\n",
    "print(\"Complete calculation completed in:\", end - start, \"s\")"
   ]
  },
  {
   "cell_type": "code",
   "execution_count": 6,
   "metadata": {},
   "outputs": [
    {
     "name": "stdout",
     "output_type": "stream",
     "text": [
      "[5.54491425e-05 2.23984211e-03 1.26487081e-02 1.57425538e-02\n",
      " 4.47632271e-03 6.05361857e-04 1.73817189e-02 9.67498706e-02\n",
      " 1.31940540e-01 3.01785019e-02 1.09045503e-03 2.22550880e-02\n",
      " 1.75064199e-01 2.26402782e-01 5.26120319e-02 3.02567078e-04\n",
      " 5.75912916e-03 6.35295518e-02 8.59275786e-02 2.07456470e-02\n",
      " 4.39806983e-05 7.95990721e-04 9.36552231e-03 1.99913066e-02\n",
      " 4.09530098e-03]\n"
     ]
    }
   ],
   "source": [
    "p_models = p_models/np.sum(p_models)\n",
    "print(p_models)"
   ]
  },
  {
   "cell_type": "code",
   "execution_count": null,
   "metadata": {},
   "outputs": [],
   "source": []
  }
 ],
 "metadata": {
  "kernelspec": {
   "display_name": "Python 3",
   "language": "python",
   "name": "python3"
  },
  "language_info": {
   "codemirror_mode": {
    "name": "ipython",
    "version": 3
   },
   "file_extension": ".py",
   "mimetype": "text/x-python",
   "name": "python",
   "nbconvert_exporter": "python",
   "pygments_lexer": "ipython3",
   "version": "3.7.0"
  },
  "latex_envs": {
   "LaTeX_envs_menu_present": true,
   "autoclose": false,
   "autocomplete": true,
   "bibliofile": "biblio.bib",
   "cite_by": "apalike",
   "current_citInitial": 1,
   "eqLabelWithNumbers": true,
   "eqNumInitial": 1,
   "hotkeys": {
    "equation": "Ctrl-E",
    "itemize": "Ctrl-I"
   },
   "labels_anchors": false,
   "latex_user_defs": false,
   "report_style_numbering": false,
   "user_envs_cfg": false
  },
  "toc": {
   "base_numbering": 1,
   "nav_menu": {},
   "number_sections": true,
   "sideBar": true,
   "skip_h1_title": false,
   "title_cell": "Table of Contents",
   "title_sidebar": "Contents",
   "toc_cell": false,
   "toc_position": {},
   "toc_section_display": true,
   "toc_window_display": false
  }
 },
 "nbformat": 4,
 "nbformat_minor": 2
}
