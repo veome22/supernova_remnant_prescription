{
 "cells": [
  {
   "cell_type": "markdown",
   "metadata": {},
   "source": [
    "# Theory\n",
    "\n",
    "Let's call a given natal kick distribution model $M(\\vec{\\theta})$, where $\\vec{\\theta} = \\{v_{ns}, \\sigma_{ns}\\}$ for the Mandel Muller 2020 model.\n",
    "\n",
    "Any given pulsar data set from Deller can be expressed as a collection of equally likely data points $\\{d_i\\}$.\n",
    "\n",
    "Then, the likelihood of reproducing the data set using our model is given by:\n",
    "$$p(d_i | M) = \\int p(d_i | v_i) \\cdot p(v_i|M) \\cdot d v_i$$\n",
    "\n",
    "Using the data files from Deller, we can compute the posterior on the velocity distribution as: \n",
    "$$p(v_i | d_i) = \\frac{p(d_i | v_i) \\cdot \\pi(v_i)}{p(d_i)}$$\n",
    "where $\\pi(v_i)$ is our prior on the velocity distribution, and $p(d_i)$ is a normalization.\n"
   ]
  },
  {
   "cell_type": "markdown",
   "metadata": {},
   "source": [
    "We will assume a flat prior $\\pi$, and we will ignore the normalization factor $p(d_i)$ since it doesn't affect the probability distribution, i.e. it is independent of $v_i$.\n",
    "\n",
    "Therefore, we can make the simplifying assumption that \n",
    "$$p(v_i|d_i) = p(d_i|v_i).$$\n",
    "\n",
    "We can now re-write the likelihood equation as:\n",
    "$$p(d_i | M) \\approx \\int p(v_i | d_i) \\cdot p(v_i|M) \\cdot d v_i .$$\n",
    "\n",
    "$p(v_i | d_i)$ can be read off from the posterior data, since it is simply the probability distribution of the velocity measurements."
   ]
  },
  {
   "cell_type": "markdown",
   "metadata": {},
   "source": [
    "Thus, the probability of drawing a given pulsar $d_i$ from a model $M$ is given by:\n",
    "$$p(d_i|M) = \\langle p(v_i | M) \\rangle.$$\n",
    "\n",
    "Here, $p(v_i|M)$ is the probability of drawing a given velocity, which appears in the data set, from model $M$. The average over all these probabilities gives the overall probability of drawing this pulsar from the model.\n",
    "\n",
    "Finally, the probability of drawing all $N$ pulsars from model M is\n",
    "$$p(d|M) = \\prod_{i=1}^{N} p(d_i|M).$$"
   ]
  },
  {
   "cell_type": "markdown",
   "metadata": {},
   "source": [
    "To get $p(v_i|M)$, for now we will simply assume that the model velocities are transverse. **In general, this is a poor assumption**. We must project all the velocities along isotropically distributed planar directions to get a modeled probability distribution for Transverse Velocity. I expect that the current calculation **underestimates** the true velocity multiplier."
   ]
  },
  {
   "cell_type": "code",
   "execution_count": 1,
   "metadata": {},
   "outputs": [],
   "source": [
    "import numpy as np\n",
    "import matplotlib.pyplot as plt\n",
    "import glob\n",
    "from scipy.stats.kde import gaussian_kde\n",
    "from numpy import linspace\n",
    "import time\n",
    "from scipy import interpolate"
   ]
  },
  {
   "cell_type": "code",
   "execution_count": 2,
   "metadata": {},
   "outputs": [],
   "source": [
    "from natal_kick_tools import mandel_muller_likelihood_functions as mmf"
   ]
  },
  {
   "cell_type": "code",
   "execution_count": 3,
   "metadata": {},
   "outputs": [],
   "source": [
    "# this is just a little function that we will use to make the plot more beautiful (bigger ticks, labels)\n",
    "# However, you do not have to use this (just uncommoment \"layoutAxes\" everywhere)\n",
    "from matplotlib.ticker import (FormatStrFormatter,\n",
    "                               AutoMinorLocator)\n",
    "\n",
    "def layoutAxes(ax, nameX='', nameY='', \\\n",
    "               labelSizeMajor = 10, fontsize = 18, second=False, labelpad=None, setMinor=True):\n",
    "    \"\"\"\n",
    "    Tiny code to do the layout for axes in matplotlib\n",
    "    \"\"\"\n",
    "    tickLengthMajor = 10\n",
    "    tickLengthMinor = 5\n",
    "    tickWidthMajor  = 1.5\n",
    "    tickWidthMinor  = 1.5\n",
    "    \n",
    "    #rc('axes', linewidth=2)\n",
    "    #label1 always refers to first axis not the twin \n",
    "    if not second:\n",
    "        for tick in ax.xaxis.get_major_ticks():\n",
    "            tick.label1.set_fontsize(fontsize)\n",
    "            #tick.label1.set_fontweight('bold')\n",
    "        for tick in ax.yaxis.get_major_ticks():\n",
    "            tick.label1.set_fontsize(fontsize)\n",
    "            #tick.label1.set_fontweight('bold')\n",
    "    if second:\n",
    "        for tick in ax.xaxis.get_major_ticks():\n",
    "            tick.label2.set_fontsize(fontsize)\n",
    "            #tick.label1.set_fontweight('bold')\n",
    "        for tick in ax.yaxis.get_major_ticks():\n",
    "            tick.label2.set_fontsize(fontsize)\n",
    "            #tick.label1.set_fontweight('bold')\n",
    "    for axis in ['top','bottom','left','right']:\n",
    "        ax.spines[axis].set_linewidth(1.2)\n",
    "    ax.tick_params(length=tickLengthMajor, width=tickWidthMajor, which='major')\n",
    "    ax.tick_params(length=tickLengthMinor, width=tickWidthMinor, which='minor')\n",
    "    ax.set_xlabel(nameX, fontsize=fontsize,labelpad=labelpad)#,fontweight='bold')\n",
    "    ax.set_ylabel(nameY, fontsize=fontsize,labelpad=labelpad)#, fontweight='bold')    \n",
    "    \n",
    "    if setMinor==True:\n",
    "        # add minor ticks:\n",
    "        ax.xaxis.set_minor_locator(AutoMinorLocator())\n",
    "        ax.yaxis.set_minor_locator(AutoMinorLocator())\n",
    "\n",
    "    return ax\n"
   ]
  },
  {
   "cell_type": "markdown",
   "metadata": {},
   "source": [
    "# Probability from COMPAS simulated models"
   ]
  },
  {
   "cell_type": "code",
   "execution_count": 4,
   "metadata": {},
   "outputs": [],
   "source": [
    "# Define the models of interest\n",
    "bh_kicks=[200]\n",
    "ns_kicks = [200, 400, 800]\n",
    "sigmas = [0.01, 0.3, 0.7]\n",
    "\n",
    "# Define the location of the posterior data\n",
    "pulsar_data_loc = \"../correctedPulsarPosteriors/correctedVtData\""
   ]
  },
  {
   "cell_type": "markdown",
   "metadata": {},
   "source": [
    "## Compute all the likelihoods for the 89 pulsars"
   ]
  },
  {
   "cell_type": "code",
   "execution_count": 5,
   "metadata": {},
   "outputs": [],
   "source": [
    "# start = time.time() \n",
    "# p_models = mmf.get_pulsar_probability(pulsar_data_loc, bh_kicks=bh_kicks, ns_kicks=ns_kicks, sigmas=sigmas)\n",
    "# end = time.time()\n",
    "\n",
    "# print(\"Complete calculation completed in:\", end - start, \"s\")"
   ]
  },
  {
   "cell_type": "markdown",
   "metadata": {},
   "source": [
    "## Read likelihoods from files instead"
   ]
  },
  {
   "cell_type": "code",
   "execution_count": 7,
   "metadata": {},
   "outputs": [],
   "source": [
    "p_models = []\n",
    "columns = [] # labels for plotting later\n",
    "for ns_kick in ns_kicks:\n",
    "    for sigma in sigmas:\n",
    "        fname = f\"calculatedModelLikelihoods/vns_{ns_kick}_sigma_{sigma}\"\n",
    "        all_likelihoods = np.loadtxt(fname)\n",
    "        p_models.append(np.prod(all_likelihoods))\n",
    "        \n",
    "        col_name = f\"vns_{ns_kick}_sigma_{sigma}\"\n",
    "        columns.append(col_name)\n",
    "        \n",
    "# normalize the array\n",
    "p_models = p_models/np.sum(p_models)"
   ]
  },
  {
   "cell_type": "code",
   "execution_count": 8,
   "metadata": {},
   "outputs": [
    {
     "data": {
      "text/plain": [
       "array([0.00000000e+00, 2.60732210e-10, 1.77628101e-09, 0.00000000e+00,\n",
       "       9.00375023e-01, 9.96249744e-02, 0.00000000e+00, 1.32867375e-13,\n",
       "       1.25746712e-10])"
      ]
     },
     "execution_count": 8,
     "metadata": {},
     "output_type": "execute_result"
    }
   ],
   "source": [
    "p_models"
   ]
  },
  {
   "cell_type": "code",
   "execution_count": 14,
   "metadata": {},
   "outputs": [
    {
     "data": {
      "image/png": "[encoded data removed]",
      "text/plain": [
       "<Figure size 720x432 with 1 Axes>"
      ]
     },
     "metadata": {
      "needs_background": "light"
     },
     "output_type": "display_data"
    }
   ],
   "source": [
    "f, ax= plt.subplots(1, 1,  figsize=(10,6)) \n",
    "\n",
    "x_range = np.linspace(0, len(p_models), len(p_models))\n",
    "plt.bar(x_range, p_models, tick_label=columns)\n",
    "\n",
    "layoutAxes(ax=ax, nameX='Model',\\\n",
    "           nameY='Likelihood')\n",
    "plt.xticks(rotation=45)\n",
    "plt.semilogy()\n",
    "\n",
    "plt.title(\"Model Likelihoods\", fontsize=18)\n",
    "\n",
    "plt.show()"
   ]
  },
  {
   "cell_type": "code",
   "execution_count": null,
   "metadata": {},
   "outputs": [],
   "source": []
  }
 ],
 "metadata": {
  "kernelspec": {
   "display_name": "Python 3",
   "language": "python",
   "name": "python3"
  },
  "language_info": {
   "codemirror_mode": {
    "name": "ipython",
    "version": 3
   },
   "file_extension": ".py",
   "mimetype": "text/x-python",
   "name": "python",
   "nbconvert_exporter": "python",
   "pygments_lexer": "ipython3",
   "version": "3.9.7"
  },
  "latex_envs": {
   "LaTeX_envs_menu_present": true,
   "autoclose": false,
   "autocomplete": true,
   "bibliofile": "biblio.bib",
   "cite_by": "apalike",
   "current_citInitial": 1,
   "eqLabelWithNumbers": true,
   "eqNumInitial": 1,
   "hotkeys": {
    "equation": "Ctrl-E",
    "itemize": "Ctrl-I"
   },
   "labels_anchors": false,
   "latex_user_defs": false,
   "report_style_numbering": false,
   "user_envs_cfg": false
  },
  "toc": {
   "base_numbering": 1,
   "nav_menu": {},
   "number_sections": true,
   "sideBar": true,
   "skip_h1_title": false,
   "title_cell": "Table of Contents",
   "title_sidebar": "Contents",
   "toc_cell": false,
   "toc_position": {},
   "toc_section_display": true,
   "toc_window_display": false
  }
 },
 "nbformat": 4,
 "nbformat_minor": 2
}
