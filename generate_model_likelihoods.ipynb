{
 "cells": [
  {
   "cell_type": "markdown",
   "metadata": {},
   "source": [
    "# Theory\n",
    "\n",
    "Let's call a given natal kick distribution model $M(\\vec{\\theta})$, where $\\vec{\\theta} = \\{v_{ns}, \\sigma_{ns}\\}$ for the Mandel Muller 2020 model.\n",
    "\n",
    "Any given pulsar data set from Deller can be expressed as a collection of equally likely data points $\\{d_i\\}$.\n",
    "\n",
    "Then, the likelihood of reproducing the data set using our model is given by:\n",
    "$$p(d_i | M) = \\int p(d_i | v_i) \\cdot p(v_i|M) \\cdot d v_i$$\n",
    "\n",
    "Using the data files from Deller, we can compute the posterior on the velocity distribution as: \n",
    "$$p(v_i | d_i) = \\frac{p(d_i | v_i) \\cdot \\pi(v_i)}{p(d_i)}$$\n",
    "where $\\pi(v_i)$ is our prior on the velocity distribution, and $p(d_i)$ is a normalization.\n"
   ]
  },
  {
   "cell_type": "markdown",
   "metadata": {},
   "source": [
    "We will assume a flat prior $\\pi$, and we will ignore the normalization factor $p(d_i)$ since it doesn't affect the probability distribution, i.e. it is independent of $v_i$.\n",
    "\n",
    "Therefore, we can make the simplifying assumption that \n",
    "$$p(v_i|d_i) = p(d_i|v_i).$$\n",
    "\n",
    "We can now re-write the likelihood equation as:\n",
    "$$p(d_i | M) \\approx \\int p(v_i | d_i) \\cdot p(v_i|M) \\cdot d v_i .$$\n",
    "\n",
    "$p(v_i | d_i)$ can be read off from the posterior data, since it is simply the probability distribution of the velocity measurements."
   ]
  },
  {
   "cell_type": "markdown",
   "metadata": {},
   "source": [
    "Thus, the probability of drawing a given pulsar $d_i$ from a model $M$ is given by:\n",
    "$$p(d_i|M) = \\langle p(v_i | M) \\rangle.$$\n",
    "\n",
    "Here, $p(v_i|M)$ is the probability of drawing a given velocity, which appears in the data set, from model $M$. The average over all these probabilities gives the overall probability of drawing this pulsar from the model.\n",
    "\n",
    "Finally, the probability of drawing all $N$ pulsars from model M is\n",
    "$$p(d|M) = \\prod_{i=1}^{N} p(d_i|M).$$"
   ]
  },
  {
   "cell_type": "markdown",
   "metadata": {},
   "source": [
    "(RESOLVED) To get $p(v_i|M)$, for now we will simply assume that the model velocities are transverse. **In general, this is a poor assumption**. We must project all the velocities along isotropically distributed planar directions to get a modeled probability distribution for Transverse Velocity. I expect that the current calculation **underestimates** the true velocity multiplier."
   ]
  },
  {
   "cell_type": "code",
   "execution_count": 1,
   "metadata": {},
   "outputs": [],
   "source": [
    "import numpy as np\n",
    "import matplotlib.pyplot as plt\n",
    "import glob\n",
    "from scipy.stats.kde import gaussian_kde\n",
    "from numpy import linspace\n",
    "import time\n",
    "from scipy import interpolate\n",
    "import os"
   ]
  },
  {
   "cell_type": "code",
   "execution_count": 2,
   "metadata": {},
   "outputs": [],
   "source": [
    "from natal_kick_tools import mandel_muller_likelihood_functions as mmf"
   ]
  },
  {
   "cell_type": "markdown",
   "metadata": {},
   "source": [
    "# Probability from COMPAS simulated models"
   ]
  },
  {
   "cell_type": "code",
   "execution_count": 3,
   "metadata": {},
   "outputs": [],
   "source": [
    "# Define the models of interest\n",
    "bh_kicks=[200]\n",
    "# ns_kicks = [300, 350, 400, 450, 500, 550, 600, 650, 700]\n",
    "ns_kicks=[400, 450, 500, 550, 600, 650]\n",
    "sigmas = [0.1, 0.2, 0.3, 0.4, 0.5]\n",
    "\n",
    "# Define the location of the posterior data\n",
    "pulsar_data_dir = \"../correctedPulsarPosteriors/correctedVtData\""
   ]
  },
  {
   "cell_type": "markdown",
   "metadata": {},
   "source": [
    "# Generate 2D Projected velocities"
   ]
  },
  {
   "cell_type": "code",
   "execution_count": 4,
   "metadata": {
    "scrolled": true
   },
   "outputs": [
    {
     "ename": "KeyError",
     "evalue": "'WORK'",
     "output_type": "error",
     "traceback": [
      "\u001b[0;31m---------------------------------------------------------------------------\u001b[0m",
      "\u001b[0;31mKeyError\u001b[0m                                  Traceback (most recent call last)",
      "\u001b[0;32m<ipython-input-4-d551f500f666>\u001b[0m in \u001b[0;36m<module>\u001b[0;34m\u001b[0m\n\u001b[1;32m      1\u001b[0m mmf.v3d_to_v2d(bh_kicks=bh_kicks, ns_kicks=ns_kicks, sigmas=sigmas, mode='bse', \\\n\u001b[0;32m----> 2\u001b[0;31m                work_dir = os.environ['WORK'] + f'/supernova_remnant_bse', output_dir='model_velocities_bse')\n\u001b[0m",
      "\u001b[0;32m~/anaconda3/envs/bayesian/lib/python3.9/os.py\u001b[0m in \u001b[0;36m__getitem__\u001b[0;34m(self, key)\u001b[0m\n\u001b[1;32m    677\u001b[0m         \u001b[0;32mexcept\u001b[0m \u001b[0mKeyError\u001b[0m\u001b[0;34m:\u001b[0m\u001b[0;34m\u001b[0m\u001b[0;34m\u001b[0m\u001b[0m\n\u001b[1;32m    678\u001b[0m             \u001b[0;31m# raise KeyError with the original key value\u001b[0m\u001b[0;34m\u001b[0m\u001b[0;34m\u001b[0m\u001b[0m\n\u001b[0;32m--> 679\u001b[0;31m             \u001b[0;32mraise\u001b[0m \u001b[0mKeyError\u001b[0m\u001b[0;34m(\u001b[0m\u001b[0mkey\u001b[0m\u001b[0;34m)\u001b[0m \u001b[0;32mfrom\u001b[0m \u001b[0;32mNone\u001b[0m\u001b[0;34m\u001b[0m\u001b[0;34m\u001b[0m\u001b[0m\n\u001b[0m\u001b[1;32m    680\u001b[0m         \u001b[0;32mreturn\u001b[0m \u001b[0mself\u001b[0m\u001b[0;34m.\u001b[0m\u001b[0mdecodevalue\u001b[0m\u001b[0;34m(\u001b[0m\u001b[0mvalue\u001b[0m\u001b[0;34m)\u001b[0m\u001b[0;34m\u001b[0m\u001b[0;34m\u001b[0m\u001b[0m\n\u001b[1;32m    681\u001b[0m \u001b[0;34m\u001b[0m\u001b[0m\n",
      "\u001b[0;31mKeyError\u001b[0m: 'WORK'"
     ]
    }
   ],
   "source": [
    "mmf.v3d_to_v2d(bh_kicks=bh_kicks, ns_kicks=ns_kicks, sigmas=sigmas, mode='bse', \\\n",
    "               work_dir = os.environ['WORK'] + f'/supernova_remnant_bse', output_dir='model_velocities_bse')"
   ]
  },
  {
   "cell_type": "markdown",
   "metadata": {},
   "source": [
    "# Compute all the likelihoods for the 89 pulsars"
   ]
  },
  {
   "cell_type": "code",
   "execution_count": 5,
   "metadata": {
    "scrolled": true
   },
   "outputs": [
    {
     "name": "stdout",
     "output_type": "stream",
     "text": [
      "Loading projected model data from model_velocities_bse/vns_400_sigma_0.1_velocities\n",
      "Loading projected model data from model_velocities_bse/vns_400_sigma_0.2_velocities\n",
      "Loading projected model data from model_velocities_bse/vns_400_sigma_0.3_velocities\n",
      "Loading projected model data from model_velocities_bse/vns_400_sigma_0.4_velocities\n",
      "Loading projected model data from model_velocities_bse/vns_400_sigma_0.5_velocities\n",
      "Loading projected model data from model_velocities_bse/vns_450_sigma_0.1_velocities\n",
      "Loading projected model data from model_velocities_bse/vns_450_sigma_0.2_velocities\n",
      "Loading projected model data from model_velocities_bse/vns_450_sigma_0.3_velocities\n",
      "Loading projected model data from model_velocities_bse/vns_450_sigma_0.4_velocities\n",
      "Loading projected model data from model_velocities_bse/vns_450_sigma_0.5_velocities\n",
      "Loading projected model data from model_velocities_bse/vns_500_sigma_0.1_velocities\n",
      "Loading projected model data from model_velocities_bse/vns_500_sigma_0.2_velocities\n",
      "Loading projected model data from model_velocities_bse/vns_500_sigma_0.3_velocities\n",
      "Loading projected model data from model_velocities_bse/vns_500_sigma_0.4_velocities\n",
      "Loading projected model data from model_velocities_bse/vns_500_sigma_0.5_velocities\n",
      "Loading projected model data from model_velocities_bse/vns_550_sigma_0.1_velocities\n",
      "Loading projected model data from model_velocities_bse/vns_550_sigma_0.2_velocities\n",
      "Loading projected model data from model_velocities_bse/vns_550_sigma_0.3_velocities\n",
      "Loading projected model data from model_velocities_bse/vns_550_sigma_0.4_velocities\n",
      "Loading projected model data from model_velocities_bse/vns_550_sigma_0.5_velocities\n",
      "Loading projected model data from model_velocities_bse/vns_600_sigma_0.1_velocities\n",
      "Loading projected model data from model_velocities_bse/vns_600_sigma_0.2_velocities\n",
      "Loading projected model data from model_velocities_bse/vns_600_sigma_0.3_velocities\n",
      "Loading projected model data from model_velocities_bse/vns_600_sigma_0.4_velocities\n",
      "Loading projected model data from model_velocities_bse/vns_600_sigma_0.5_velocities\n",
      "Loading projected model data from model_velocities_bse/vns_650_sigma_0.1_velocities\n",
      "Loading projected model data from model_velocities_bse/vns_650_sigma_0.2_velocities\n",
      "Loading projected model data from model_velocities_bse/vns_650_sigma_0.3_velocities\n",
      "Loading projected model data from model_velocities_bse/vns_650_sigma_0.4_velocities\n",
      "Loading projected model data from model_velocities_bse/vns_650_sigma_0.5_velocities\n",
      "\n",
      " Successfully read 89 pulsar data files\n",
      "\n",
      "Likelihood calculation for vns_400_sigma_0.1 completed in: 0.2535121440887451 s\n",
      "Writing pulsar probabilities to file: calculatedModelLikelihoods_bse/vns_400_sigma_0.1\n",
      "Calculation Complete!\n",
      "\n",
      "Likelihood calculation for vns_400_sigma_0.2 completed in: 0.2615535259246826 s\n",
      "Writing pulsar probabilities to file: calculatedModelLikelihoods_bse/vns_400_sigma_0.2\n",
      "Calculation Complete!\n",
      "\n",
      "Likelihood calculation for vns_400_sigma_0.3 completed in: 0.2525339126586914 s\n",
      "Writing pulsar probabilities to file: calculatedModelLikelihoods_bse/vns_400_sigma_0.3\n",
      "Calculation Complete!\n",
      "\n",
      "Likelihood calculation for vns_400_sigma_0.4 completed in: 0.2440638542175293 s\n",
      "Writing pulsar probabilities to file: calculatedModelLikelihoods_bse/vns_400_sigma_0.4\n",
      "Calculation Complete!\n",
      "\n",
      "Likelihood calculation for vns_400_sigma_0.5 completed in: 0.2532820701599121 s\n",
      "Writing pulsar probabilities to file: calculatedModelLikelihoods_bse/vns_400_sigma_0.5\n",
      "Calculation Complete!\n",
      "\n",
      "Likelihood calculation for vns_450_sigma_0.1 completed in: 0.3212723731994629 s\n",
      "Writing pulsar probabilities to file: calculatedModelLikelihoods_bse/vns_450_sigma_0.1\n",
      "Calculation Complete!\n",
      "\n",
      "Likelihood calculation for vns_450_sigma_0.2 completed in: 0.31288743019104004 s\n",
      "Writing pulsar probabilities to file: calculatedModelLikelihoods_bse/vns_450_sigma_0.2\n",
      "Calculation Complete!\n",
      "\n",
      "Likelihood calculation for vns_450_sigma_0.3 completed in: 0.24868083000183105 s\n",
      "Writing pulsar probabilities to file: calculatedModelLikelihoods_bse/vns_450_sigma_0.3\n",
      "Calculation Complete!\n",
      "\n",
      "Likelihood calculation for vns_450_sigma_0.4 completed in: 0.272768497467041 s\n",
      "Writing pulsar probabilities to file: calculatedModelLikelihoods_bse/vns_450_sigma_0.4\n",
      "Calculation Complete!\n",
      "\n",
      "Likelihood calculation for vns_450_sigma_0.5 completed in: 0.29003047943115234 s\n",
      "Writing pulsar probabilities to file: calculatedModelLikelihoods_bse/vns_450_sigma_0.5\n",
      "Calculation Complete!\n",
      "\n",
      "Likelihood calculation for vns_500_sigma_0.1 completed in: 0.26099085807800293 s\n",
      "Writing pulsar probabilities to file: calculatedModelLikelihoods_bse/vns_500_sigma_0.1\n",
      "Calculation Complete!\n",
      "\n",
      "Likelihood calculation for vns_500_sigma_0.2 completed in: 0.29785799980163574 s\n",
      "Writing pulsar probabilities to file: calculatedModelLikelihoods_bse/vns_500_sigma_0.2\n",
      "Calculation Complete!\n",
      "\n",
      "Likelihood calculation for vns_500_sigma_0.3 completed in: 0.2546651363372803 s\n",
      "Writing pulsar probabilities to file: calculatedModelLikelihoods_bse/vns_500_sigma_0.3\n",
      "Calculation Complete!\n",
      "\n",
      "Likelihood calculation for vns_500_sigma_0.4 completed in: 0.29570722579956055 s\n",
      "Writing pulsar probabilities to file: calculatedModelLikelihoods_bse/vns_500_sigma_0.4\n",
      "Calculation Complete!\n",
      "\n",
      "Likelihood calculation for vns_500_sigma_0.5 completed in: 0.22419309616088867 s\n",
      "Writing pulsar probabilities to file: calculatedModelLikelihoods_bse/vns_500_sigma_0.5\n",
      "Calculation Complete!\n",
      "\n",
      "Likelihood calculation for vns_550_sigma_0.1 completed in: 0.28953123092651367 s\n",
      "Writing pulsar probabilities to file: calculatedModelLikelihoods_bse/vns_550_sigma_0.1\n",
      "Calculation Complete!\n",
      "\n",
      "Likelihood calculation for vns_550_sigma_0.2 completed in: 0.25097179412841797 s\n",
      "Writing pulsar probabilities to file: calculatedModelLikelihoods_bse/vns_550_sigma_0.2\n",
      "Calculation Complete!\n",
      "\n",
      "Likelihood calculation for vns_550_sigma_0.3 completed in: 0.22452807426452637 s\n",
      "Writing pulsar probabilities to file: calculatedModelLikelihoods_bse/vns_550_sigma_0.3\n",
      "Calculation Complete!\n",
      "\n",
      "Likelihood calculation for vns_550_sigma_0.4 completed in: 0.27932262420654297 s\n",
      "Writing pulsar probabilities to file: calculatedModelLikelihoods_bse/vns_550_sigma_0.4\n",
      "Calculation Complete!\n",
      "\n",
      "Likelihood calculation for vns_550_sigma_0.5 completed in: 0.2717607021331787 s\n",
      "Writing pulsar probabilities to file: calculatedModelLikelihoods_bse/vns_550_sigma_0.5\n",
      "Calculation Complete!\n",
      "\n",
      "Likelihood calculation for vns_600_sigma_0.1 completed in: 0.20851969718933105 s\n",
      "Writing pulsar probabilities to file: calculatedModelLikelihoods_bse/vns_600_sigma_0.1\n",
      "Calculation Complete!\n",
      "\n",
      "Likelihood calculation for vns_600_sigma_0.2 completed in: 0.26574206352233887 s\n",
      "Writing pulsar probabilities to file: calculatedModelLikelihoods_bse/vns_600_sigma_0.2\n",
      "Calculation Complete!\n",
      "\n",
      "Likelihood calculation for vns_600_sigma_0.3 completed in: 0.2392270565032959 s\n",
      "Writing pulsar probabilities to file: calculatedModelLikelihoods_bse/vns_600_sigma_0.3\n",
      "Calculation Complete!\n",
      "\n",
      "Likelihood calculation for vns_600_sigma_0.4 completed in: 0.19873833656311035 s\n",
      "Writing pulsar probabilities to file: calculatedModelLikelihoods_bse/vns_600_sigma_0.4\n",
      "Calculation Complete!\n",
      "\n",
      "Likelihood calculation for vns_600_sigma_0.5 completed in: 0.2066047191619873 s\n",
      "Writing pulsar probabilities to file: calculatedModelLikelihoods_bse/vns_600_sigma_0.5\n",
      "Calculation Complete!\n",
      "\n",
      "Likelihood calculation for vns_650_sigma_0.1 completed in: 0.2451176643371582 s\n",
      "Writing pulsar probabilities to file: calculatedModelLikelihoods_bse/vns_650_sigma_0.1\n",
      "Calculation Complete!\n",
      "\n",
      "Likelihood calculation for vns_650_sigma_0.2 completed in: 0.21942853927612305 s\n",
      "Writing pulsar probabilities to file: calculatedModelLikelihoods_bse/vns_650_sigma_0.2\n",
      "Calculation Complete!\n",
      "\n",
      "Likelihood calculation for vns_650_sigma_0.3 completed in: 0.21991968154907227 s\n",
      "Writing pulsar probabilities to file: calculatedModelLikelihoods_bse/vns_650_sigma_0.3\n",
      "Calculation Complete!\n",
      "\n",
      "Likelihood calculation for vns_650_sigma_0.4 completed in: 0.21455860137939453 s\n",
      "Writing pulsar probabilities to file: calculatedModelLikelihoods_bse/vns_650_sigma_0.4\n",
      "Calculation Complete!\n",
      "\n",
      "Likelihood calculation for vns_650_sigma_0.5 completed in: 0.23226690292358398 s\n",
      "Writing pulsar probabilities to file: calculatedModelLikelihoods_bse/vns_650_sigma_0.5\n",
      "Calculation Complete!\n",
      "\n",
      "Complete calculation completed in: 54.04629373550415 s\n"
     ]
    }
   ],
   "source": [
    "start = time.time() \n",
    "p_models = mmf.get_pulsar_probability(pulsar_data_dir, model_data_dir='model_velocities_bse',\\\n",
    "                                      bh_kicks=bh_kicks, ns_kicks=ns_kicks, sigmas=sigmas,\\\n",
    "                                      output_dir='calculatedModelLikelihoods_bse')\n",
    "end = time.time()\n",
    "\n",
    "print(\"Complete calculation completed in:\", end - start, \"s\")"
   ]
  },
  {
   "cell_type": "code",
   "execution_count": 6,
   "metadata": {},
   "outputs": [
    {
     "name": "stdout",
     "output_type": "stream",
     "text": [
      "[[0.000 0.009 0.049 0.062 0.017]\n",
      " [0.002 0.068 0.378 0.516 0.118]\n",
      " [0.004 0.096 0.758 1.000 0.247]\n",
      " [0.004 0.087 0.684 0.885 0.206]\n",
      " [0.001 0.023 0.248 0.336 0.081]\n",
      " [0.000 0.003 0.037 0.078 0.016]]\n"
     ]
    }
   ],
   "source": [
    "p_models = p_models/np.max(p_models)\n",
    "p_models_2d = p_models.reshape([len(ns_kicks), len(sigmas)])\n",
    "print(np.array2string(p_models_2d, formatter={'float_kind': '{0:.3f}'.format}))"
   ]
  },
  {
   "cell_type": "code",
   "execution_count": null,
   "metadata": {},
   "outputs": [],
   "source": []
  }
 ],
 "metadata": {
  "kernelspec": {
   "display_name": "Python 3",
   "language": "python",
   "name": "python3"
  },
  "language_info": {
   "codemirror_mode": {
    "name": "ipython",
    "version": 3
   },
   "file_extension": ".py",
   "mimetype": "text/x-python",
   "name": "python",
   "nbconvert_exporter": "python",
   "pygments_lexer": "ipython3",
   "version": "3.9.7"
  },
  "latex_envs": {
   "LaTeX_envs_menu_present": true,
   "autoclose": false,
   "autocomplete": true,
   "bibliofile": "biblio.bib",
   "cite_by": "apalike",
   "current_citInitial": 1,
   "eqLabelWithNumbers": true,
   "eqNumInitial": 1,
   "hotkeys": {
    "equation": "Ctrl-E",
    "itemize": "Ctrl-I"
   },
   "labels_anchors": false,
   "latex_user_defs": false,
   "report_style_numbering": false,
   "user_envs_cfg": false
  },
  "toc": {
   "base_numbering": 1,
   "nav_menu": {},
   "number_sections": true,
   "sideBar": true,
   "skip_h1_title": false,
   "title_cell": "Table of Contents",
   "title_sidebar": "Contents",
   "toc_cell": false,
   "toc_position": {},
   "toc_section_display": true,
   "toc_window_display": false
  }
 },
 "nbformat": 4,
 "nbformat_minor": 2
}
