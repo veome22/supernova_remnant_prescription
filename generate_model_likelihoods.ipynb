{
 "cells": [
  {
   "cell_type": "markdown",
   "metadata": {},
   "source": [
    "# Theory\n",
    "\n",
    "Let's call a given natal kick distribution model $M(\\vec{\\theta})$, where $\\vec{\\theta} = \\{v_{ns}, \\sigma_{ns}\\}$ for the Mandel Muller 2020 model.\n",
    "\n",
    "Any given pulsar data set from Deller can be expressed as a collection of equally likely data points $\\{d_i\\}$.\n",
    "\n",
    "Then, the likelihood of reproducing the data set using our model is given by:\n",
    "$$p(d_i | M) = \\int p(d_i | v_i) \\cdot p(v_i|M) \\cdot d v_i$$\n",
    "\n",
    "Using the data files from Deller, we can compute the posterior on the velocity distribution as: \n",
    "$$p(v_i | d_i) = \\frac{p(d_i | v_i) \\cdot \\pi(v_i)}{p(d_i)}$$\n",
    "where $\\pi(v_i)$ is our prior on the velocity distribution, and $p(d_i)$ is a normalization.\n"
   ]
  },
  {
   "cell_type": "markdown",
   "metadata": {},
   "source": [
    "We will assume a flat prior $\\pi$, and we will ignore the normalization factor $p(d_i)$ since it doesn't affect the probability distribution, i.e. it is independent of $v_i$.\n",
    "\n",
    "Therefore, we can make the simplifying assumption that \n",
    "$$p(v_i|d_i) = p(d_i|v_i).$$\n",
    "\n",
    "We can now re-write the likelihood equation as:\n",
    "$$p(d_i | M) \\approx \\int p(v_i | d_i) \\cdot p(v_i|M) \\cdot d v_i .$$\n",
    "\n",
    "$p(v_i | d_i)$ can be read off from the posterior data, since it is simply the probability distribution of the velocity measurements."
   ]
  },
  {
   "cell_type": "markdown",
   "metadata": {},
   "source": [
    "Thus, the probability of drawing a given pulsar $d_i$ from a model $M$ is given by:\n",
    "$$p(d_i|M) = \\langle p(v_i | M) \\rangle.$$\n",
    "\n",
    "Here, $p(v_i|M)$ is the probability of drawing a given velocity, which appears in the data set, from model $M$. The average over all these probabilities gives the overall probability of drawing this pulsar from the model.\n",
    "\n",
    "Finally, the probability of drawing all $N$ pulsars from model M is\n",
    "$$p(d|M) = \\prod_{i=1}^{N} p(d_i|M).$$"
   ]
  },
  {
   "cell_type": "markdown",
   "metadata": {},
   "source": [
    "(RESOLVED) To get $p(v_i|M)$, for now we will simply assume that the model velocities are transverse. **In general, this is a poor assumption**. We must project all the velocities along isotropically distributed planar directions to get a modeled probability distribution for Transverse Velocity. I expect that the current calculation **underestimates** the true velocity multiplier."
   ]
  },
  {
   "cell_type": "code",
   "execution_count": 1,
   "metadata": {},
   "outputs": [],
   "source": [
    "import numpy as np\n",
    "import matplotlib.pyplot as plt\n",
    "import glob\n",
    "from scipy.stats.kde import gaussian_kde\n",
    "from numpy import linspace\n",
    "import time\n",
    "from scipy import interpolate\n",
    "import os"
   ]
  },
  {
   "cell_type": "code",
   "execution_count": 2,
   "metadata": {},
   "outputs": [],
   "source": [
    "from natal_kick_tools import mandel_muller_likelihood_functions as mmf"
   ]
  },
  {
   "cell_type": "markdown",
   "metadata": {},
   "source": [
    "# Probability from COMPAS simulated models"
   ]
  },
  {
   "cell_type": "code",
   "execution_count": 3,
   "metadata": {},
   "outputs": [],
   "source": [
    "# Define the models of interest\n",
    "bh_kicks=[200]\n",
    "# ns_kicks = [300, 350, 400, 450, 500, 550, 600, 650, 700]\n",
    "ns_kicks=[400, 450, 550, 600, 650]\n",
    "sigmas = [0.1, 0.2, 0.3, 0.4, 0.5]\n",
    "\n",
    "# Define the location of the posterior data\n",
    "pulsar_data_dir = \"../correctedPulsarPosteriors/correctedVtData\""
   ]
  },
  {
   "cell_type": "markdown",
   "metadata": {},
   "source": [
    "# Generate 2D Projected velocities"
   ]
  },
  {
   "cell_type": "code",
   "execution_count": 4,
   "metadata": {
    "scrolled": true
   },
   "outputs": [
    {
     "name": "stdout",
     "output_type": "stream",
     "text": [
      "Loading Mandel Muller model data from /work2/08178/vkapil/frontera/supernova_remnant_bse/bh_200_ns_400_sigma_0.1_combined.h5\n",
      "Loading Mandel Muller model data from /work2/08178/vkapil/frontera/supernova_remnant_bse/bh_200_ns_400_sigma_0.2_combined.h5\n",
      "Loading Mandel Muller model data from /work2/08178/vkapil/frontera/supernova_remnant_bse/bh_200_ns_400_sigma_0.3_combined.h5\n",
      "Loading Mandel Muller model data from /work2/08178/vkapil/frontera/supernova_remnant_bse/bh_200_ns_400_sigma_0.4_combined.h5\n",
      "Loading Mandel Muller model data from /work2/08178/vkapil/frontera/supernova_remnant_bse/bh_200_ns_400_sigma_0.5_combined.h5\n",
      "Loading Mandel Muller model data from /work2/08178/vkapil/frontera/supernova_remnant_bse/bh_200_ns_450_sigma_0.1_combined.h5\n",
      "Loading Mandel Muller model data from /work2/08178/vkapil/frontera/supernova_remnant_bse/bh_200_ns_450_sigma_0.2_combined.h5\n",
      "Loading Mandel Muller model data from /work2/08178/vkapil/frontera/supernova_remnant_bse/bh_200_ns_450_sigma_0.3_combined.h5\n",
      "Loading Mandel Muller model data from /work2/08178/vkapil/frontera/supernova_remnant_bse/bh_200_ns_450_sigma_0.4_combined.h5\n",
      "Loading Mandel Muller model data from /work2/08178/vkapil/frontera/supernova_remnant_bse/bh_200_ns_450_sigma_0.5_combined.h5\n",
      "Loading Mandel Muller model data from /work2/08178/vkapil/frontera/supernova_remnant_bse/bh_200_ns_550_sigma_0.1_combined.h5\n",
      "Loading Mandel Muller model data from /work2/08178/vkapil/frontera/supernova_remnant_bse/bh_200_ns_550_sigma_0.2_combined.h5\n",
      "Loading Mandel Muller model data from /work2/08178/vkapil/frontera/supernova_remnant_bse/bh_200_ns_550_sigma_0.3_combined.h5\n",
      "Loading Mandel Muller model data from /work2/08178/vkapil/frontera/supernova_remnant_bse/bh_200_ns_550_sigma_0.4_combined.h5\n",
      "Loading Mandel Muller model data from /work2/08178/vkapil/frontera/supernova_remnant_bse/bh_200_ns_550_sigma_0.5_combined.h5\n",
      "Loading Mandel Muller model data from /work2/08178/vkapil/frontera/supernova_remnant_bse/bh_200_ns_600_sigma_0.1_combined.h5\n",
      "Loading Mandel Muller model data from /work2/08178/vkapil/frontera/supernova_remnant_bse/bh_200_ns_600_sigma_0.2_combined.h5\n",
      "Loading Mandel Muller model data from /work2/08178/vkapil/frontera/supernova_remnant_bse/bh_200_ns_600_sigma_0.3_combined.h5\n",
      "Loading Mandel Muller model data from /work2/08178/vkapil/frontera/supernova_remnant_bse/bh_200_ns_600_sigma_0.4_combined.h5\n",
      "Loading Mandel Muller model data from /work2/08178/vkapil/frontera/supernova_remnant_bse/bh_200_ns_600_sigma_0.5_combined.h5\n",
      "Loading Mandel Muller model data from /work2/08178/vkapil/frontera/supernova_remnant_bse/bh_200_ns_650_sigma_0.1_combined.h5\n",
      "Loading Mandel Muller model data from /work2/08178/vkapil/frontera/supernova_remnant_bse/bh_200_ns_650_sigma_0.2_combined.h5\n",
      "Loading Mandel Muller model data from /work2/08178/vkapil/frontera/supernova_remnant_bse/bh_200_ns_650_sigma_0.3_combined.h5\n",
      "Loading Mandel Muller model data from /work2/08178/vkapil/frontera/supernova_remnant_bse/bh_200_ns_650_sigma_0.4_combined.h5\n",
      "Loading Mandel Muller model data from /work2/08178/vkapil/frontera/supernova_remnant_bse/bh_200_ns_650_sigma_0.5_combined.h5\n",
      "Succesfully saved 2D projected velocity in model_velocities_bse/vns_400_sigma_0.1_velocities\n",
      "Succesfully saved 2D projected velocity in model_velocities_bse/vns_400_sigma_0.2_velocities\n",
      "Succesfully saved 2D projected velocity in model_velocities_bse/vns_400_sigma_0.3_velocities\n",
      "Succesfully saved 2D projected velocity in model_velocities_bse/vns_400_sigma_0.4_velocities\n",
      "Succesfully saved 2D projected velocity in model_velocities_bse/vns_400_sigma_0.5_velocities\n",
      "Succesfully saved 2D projected velocity in model_velocities_bse/vns_450_sigma_0.1_velocities\n",
      "Succesfully saved 2D projected velocity in model_velocities_bse/vns_450_sigma_0.2_velocities\n",
      "Succesfully saved 2D projected velocity in model_velocities_bse/vns_450_sigma_0.3_velocities\n",
      "Succesfully saved 2D projected velocity in model_velocities_bse/vns_450_sigma_0.4_velocities\n",
      "Succesfully saved 2D projected velocity in model_velocities_bse/vns_450_sigma_0.5_velocities\n",
      "Succesfully saved 2D projected velocity in model_velocities_bse/vns_550_sigma_0.1_velocities\n",
      "Succesfully saved 2D projected velocity in model_velocities_bse/vns_550_sigma_0.2_velocities\n",
      "Succesfully saved 2D projected velocity in model_velocities_bse/vns_550_sigma_0.3_velocities\n",
      "Succesfully saved 2D projected velocity in model_velocities_bse/vns_550_sigma_0.4_velocities\n",
      "Succesfully saved 2D projected velocity in model_velocities_bse/vns_550_sigma_0.5_velocities\n",
      "Succesfully saved 2D projected velocity in model_velocities_bse/vns_600_sigma_0.1_velocities\n",
      "Succesfully saved 2D projected velocity in model_velocities_bse/vns_600_sigma_0.2_velocities\n",
      "Succesfully saved 2D projected velocity in model_velocities_bse/vns_600_sigma_0.3_velocities\n",
      "Succesfully saved 2D projected velocity in model_velocities_bse/vns_600_sigma_0.4_velocities\n",
      "Succesfully saved 2D projected velocity in model_velocities_bse/vns_600_sigma_0.5_velocities\n",
      "Succesfully saved 2D projected velocity in model_velocities_bse/vns_650_sigma_0.1_velocities\n",
      "Succesfully saved 2D projected velocity in model_velocities_bse/vns_650_sigma_0.2_velocities\n",
      "Succesfully saved 2D projected velocity in model_velocities_bse/vns_650_sigma_0.3_velocities\n",
      "Succesfully saved 2D projected velocity in model_velocities_bse/vns_650_sigma_0.4_velocities\n",
      "Succesfully saved 2D projected velocity in model_velocities_bse/vns_650_sigma_0.5_velocities\n"
     ]
    }
   ],
   "source": [
    "mmf.v3d_to_v2d(bh_kicks=bh_kicks, ns_kicks=ns_kicks, sigmas=sigmas, mode='bse', \\\n",
    "               work_dir = os.environ['WORK'] + f'/supernova_remnant_bse', output_dir='model_velocities_bse')"
   ]
  },
  {
   "cell_type": "markdown",
   "metadata": {},
   "source": [
    "# Compute all the likelihoods for the 89 pulsars"
   ]
  },
  {
   "cell_type": "code",
   "execution_count": 13,
   "metadata": {
    "scrolled": true
   },
   "outputs": [
    {
     "name": "stdout",
     "output_type": "stream",
     "text": [
      "Loading projected model data from model_velocities_bse/vns_400_sigma_0.1_velocities\n",
      "Loading projected model data from model_velocities_bse/vns_400_sigma_0.2_velocities\n",
      "Loading projected model data from model_velocities_bse/vns_400_sigma_0.3_velocities\n",
      "Loading projected model data from model_velocities_bse/vns_400_sigma_0.4_velocities\n",
      "Loading projected model data from model_velocities_bse/vns_400_sigma_0.5_velocities\n",
      "Loading projected model data from model_velocities_bse/vns_450_sigma_0.1_velocities\n",
      "Loading projected model data from model_velocities_bse/vns_450_sigma_0.2_velocities\n",
      "Loading projected model data from model_velocities_bse/vns_450_sigma_0.3_velocities\n",
      "Loading projected model data from model_velocities_bse/vns_450_sigma_0.4_velocities\n",
      "Loading projected model data from model_velocities_bse/vns_450_sigma_0.5_velocities\n",
      "Loading projected model data from model_velocities_bse/vns_550_sigma_0.1_velocities\n",
      "Loading projected model data from model_velocities_bse/vns_550_sigma_0.2_velocities\n",
      "Loading projected model data from model_velocities_bse/vns_550_sigma_0.3_velocities\n",
      "Loading projected model data from model_velocities_bse/vns_550_sigma_0.4_velocities\n",
      "Loading projected model data from model_velocities_bse/vns_550_sigma_0.5_velocities\n",
      "Loading projected model data from model_velocities_bse/vns_600_sigma_0.1_velocities\n",
      "Loading projected model data from model_velocities_bse/vns_600_sigma_0.2_velocities\n",
      "Loading projected model data from model_velocities_bse/vns_600_sigma_0.3_velocities\n",
      "Loading projected model data from model_velocities_bse/vns_600_sigma_0.4_velocities\n",
      "Loading projected model data from model_velocities_bse/vns_600_sigma_0.5_velocities\n",
      "Loading projected model data from model_velocities_bse/vns_650_sigma_0.1_velocities\n",
      "Loading projected model data from model_velocities_bse/vns_650_sigma_0.2_velocities\n",
      "Loading projected model data from model_velocities_bse/vns_650_sigma_0.3_velocities\n",
      "Loading projected model data from model_velocities_bse/vns_650_sigma_0.4_velocities\n",
      "Loading projected model data from model_velocities_bse/vns_650_sigma_0.5_velocities\n",
      "\n",
      " Successfully read 89 pulsar data files\n",
      "\n",
      "Likelihood calculation for vns_400_sigma_0.1 completed in: 0.312152624130249 s\n",
      "Writing pulsar probabilities to file: calculatedModelLikelihoods_bse/vns_400_sigma_0.1\n",
      "Calculation Complete!\n",
      "\n",
      "Likelihood calculation for vns_400_sigma_0.2 completed in: 0.2786133289337158 s\n",
      "Writing pulsar probabilities to file: calculatedModelLikelihoods_bse/vns_400_sigma_0.2\n",
      "Calculation Complete!\n",
      "\n",
      "Likelihood calculation for vns_400_sigma_0.3 completed in: 0.23506593704223633 s\n",
      "Writing pulsar probabilities to file: calculatedModelLikelihoods_bse/vns_400_sigma_0.3\n",
      "Calculation Complete!\n",
      "\n",
      "Likelihood calculation for vns_400_sigma_0.4 completed in: 0.23319339752197266 s\n",
      "Writing pulsar probabilities to file: calculatedModelLikelihoods_bse/vns_400_sigma_0.4\n",
      "Calculation Complete!\n",
      "\n",
      "Likelihood calculation for vns_400_sigma_0.5 completed in: 0.24675488471984863 s\n",
      "Writing pulsar probabilities to file: calculatedModelLikelihoods_bse/vns_400_sigma_0.5\n",
      "Calculation Complete!\n",
      "\n",
      "Likelihood calculation for vns_450_sigma_0.1 completed in: 0.27369093894958496 s\n",
      "Writing pulsar probabilities to file: calculatedModelLikelihoods_bse/vns_450_sigma_0.1\n",
      "Calculation Complete!\n",
      "\n",
      "Likelihood calculation for vns_450_sigma_0.2 completed in: 0.256328821182251 s\n",
      "Writing pulsar probabilities to file: calculatedModelLikelihoods_bse/vns_450_sigma_0.2\n",
      "Calculation Complete!\n",
      "\n",
      "Likelihood calculation for vns_450_sigma_0.3 completed in: 0.2494974136352539 s\n",
      "Writing pulsar probabilities to file: calculatedModelLikelihoods_bse/vns_450_sigma_0.3\n",
      "Calculation Complete!\n",
      "\n",
      "Likelihood calculation for vns_450_sigma_0.4 completed in: 0.24399399757385254 s\n",
      "Writing pulsar probabilities to file: calculatedModelLikelihoods_bse/vns_450_sigma_0.4\n",
      "Calculation Complete!\n",
      "\n",
      "Likelihood calculation for vns_450_sigma_0.5 completed in: 0.2472994327545166 s\n",
      "Writing pulsar probabilities to file: calculatedModelLikelihoods_bse/vns_450_sigma_0.5\n",
      "Calculation Complete!\n",
      "\n",
      "Likelihood calculation for vns_550_sigma_0.1 completed in: 0.2252817153930664 s\n",
      "Writing pulsar probabilities to file: calculatedModelLikelihoods_bse/vns_550_sigma_0.1\n",
      "Calculation Complete!\n",
      "\n",
      "Likelihood calculation for vns_550_sigma_0.2 completed in: 0.2460155487060547 s\n",
      "Writing pulsar probabilities to file: calculatedModelLikelihoods_bse/vns_550_sigma_0.2\n",
      "Calculation Complete!\n",
      "\n",
      "Likelihood calculation for vns_550_sigma_0.3 completed in: 0.23298406600952148 s\n",
      "Writing pulsar probabilities to file: calculatedModelLikelihoods_bse/vns_550_sigma_0.3\n",
      "Calculation Complete!\n",
      "\n",
      "Likelihood calculation for vns_550_sigma_0.4 completed in: 0.22466301918029785 s\n",
      "Writing pulsar probabilities to file: calculatedModelLikelihoods_bse/vns_550_sigma_0.4\n",
      "Calculation Complete!\n",
      "\n",
      "Likelihood calculation for vns_550_sigma_0.5 completed in: 0.2314748764038086 s\n",
      "Writing pulsar probabilities to file: calculatedModelLikelihoods_bse/vns_550_sigma_0.5\n",
      "Calculation Complete!\n",
      "\n",
      "Likelihood calculation for vns_600_sigma_0.1 completed in: 0.23004364967346191 s\n",
      "Writing pulsar probabilities to file: calculatedModelLikelihoods_bse/vns_600_sigma_0.1\n",
      "Calculation Complete!\n",
      "\n",
      "Likelihood calculation for vns_600_sigma_0.2 completed in: 0.23985648155212402 s\n",
      "Writing pulsar probabilities to file: calculatedModelLikelihoods_bse/vns_600_sigma_0.2\n",
      "Calculation Complete!\n",
      "\n",
      "Likelihood calculation for vns_600_sigma_0.3 completed in: 0.20964860916137695 s\n",
      "Writing pulsar probabilities to file: calculatedModelLikelihoods_bse/vns_600_sigma_0.3\n",
      "Calculation Complete!\n",
      "\n",
      "Likelihood calculation for vns_600_sigma_0.4 completed in: 0.2123429775238037 s\n",
      "Writing pulsar probabilities to file: calculatedModelLikelihoods_bse/vns_600_sigma_0.4\n",
      "Calculation Complete!\n",
      "\n",
      "Likelihood calculation for vns_600_sigma_0.5 completed in: 0.211029052734375 s\n",
      "Writing pulsar probabilities to file: calculatedModelLikelihoods_bse/vns_600_sigma_0.5\n",
      "Calculation Complete!\n",
      "\n",
      "Likelihood calculation for vns_650_sigma_0.1 completed in: 0.2097313404083252 s\n",
      "Writing pulsar probabilities to file: calculatedModelLikelihoods_bse/vns_650_sigma_0.1\n",
      "Calculation Complete!\n",
      "\n",
      "Likelihood calculation for vns_650_sigma_0.2 completed in: 0.20781564712524414 s\n",
      "Writing pulsar probabilities to file: calculatedModelLikelihoods_bse/vns_650_sigma_0.2\n",
      "Calculation Complete!\n",
      "\n",
      "Likelihood calculation for vns_650_sigma_0.3 completed in: 0.250079870223999 s\n",
      "Writing pulsar probabilities to file: calculatedModelLikelihoods_bse/vns_650_sigma_0.3\n",
      "Calculation Complete!\n",
      "\n",
      "Likelihood calculation for vns_650_sigma_0.4 completed in: 0.22848725318908691 s\n",
      "Writing pulsar probabilities to file: calculatedModelLikelihoods_bse/vns_650_sigma_0.4\n",
      "Calculation Complete!\n",
      "\n",
      "Likelihood calculation for vns_650_sigma_0.5 completed in: 0.19809317588806152 s\n",
      "Writing pulsar probabilities to file: calculatedModelLikelihoods_bse/vns_650_sigma_0.5\n",
      "Calculation Complete!\n",
      "\n",
      "Complete calculation completed in: 46.3981831073761 s\n"
     ]
    }
   ],
   "source": [
    "start = time.time() \n",
    "p_models = mmf.get_pulsar_probability(pulsar_data_dir, model_data_dir='model_velocities_bse',\\\n",
    "                                      bh_kicks=bh_kicks, ns_kicks=ns_kicks, sigmas=sigmas,\\\n",
    "                                      output_dir='calculatedModelLikelihoods_bse')\n",
    "end = time.time()\n",
    "\n",
    "print(\"Complete calculation completed in:\", end - start, \"s\")"
   ]
  },
  {
   "cell_type": "code",
   "execution_count": 14,
   "metadata": {},
   "outputs": [
    {
     "name": "stdout",
     "output_type": "stream",
     "text": [
      "[[0.000 0.010 0.056 0.070 0.020]\n",
      " [0.003 0.077 0.427 0.583 0.133]\n",
      " [0.005 0.098 0.773 1.000 0.232]\n",
      " [0.001 0.025 0.281 0.380 0.092]\n",
      " [0.000 0.004 0.041 0.088 0.018]]\n"
     ]
    }
   ],
   "source": [
    "p_models = p_models/np.max(p_models)\n",
    "p_models_2d = p_models.reshape([len(ns_kicks), len(sigmas)])\n",
    "print(np.array2string(p_models_2d, formatter={'float_kind': '{0:.3f}'.format}))"
   ]
  },
  {
   "cell_type": "code",
   "execution_count": null,
   "metadata": {},
   "outputs": [],
   "source": []
  }
 ],
 "metadata": {
  "kernelspec": {
   "display_name": "Python 3",
   "language": "python",
   "name": "python3"
  },
  "language_info": {
   "codemirror_mode": {
    "name": "ipython",
    "version": 3
   },
   "file_extension": ".py",
   "mimetype": "text/x-python",
   "name": "python",
   "nbconvert_exporter": "python",
   "pygments_lexer": "ipython3",
   "version": "3.9.7"
  },
  "latex_envs": {
   "LaTeX_envs_menu_present": true,
   "autoclose": false,
   "autocomplete": true,
   "bibliofile": "biblio.bib",
   "cite_by": "apalike",
   "current_citInitial": 1,
   "eqLabelWithNumbers": true,
   "eqNumInitial": 1,
   "hotkeys": {
    "equation": "Ctrl-E",
    "itemize": "Ctrl-I"
   },
   "labels_anchors": false,
   "latex_user_defs": false,
   "report_style_numbering": false,
   "user_envs_cfg": false
  },
  "toc": {
   "base_numbering": 1,
   "nav_menu": {},
   "number_sections": true,
   "sideBar": true,
   "skip_h1_title": false,
   "title_cell": "Table of Contents",
   "title_sidebar": "Contents",
   "toc_cell": false,
   "toc_position": {},
   "toc_section_display": true,
   "toc_window_display": false
  }
 },
 "nbformat": 4,
 "nbformat_minor": 2
}
