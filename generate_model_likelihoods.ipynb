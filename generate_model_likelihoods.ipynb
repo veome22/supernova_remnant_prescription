{
 "cells": [
  {
   "cell_type": "markdown",
   "metadata": {},
   "source": [
    "# Theory\n",
    "\n",
    "Let's call a given natal kick distribution model $M(\\vec{\\theta})$, where $\\vec{\\theta} = \\{v_{ns}, \\sigma_{ns}\\}$ for the Mandel Muller 2020 model.\n",
    "\n",
    "Any given pulsar data set from Deller can be expressed as a collection of equally likely data points $\\{d_i\\}$.\n",
    "\n",
    "Then, the likelihood of reproducing the data set using our model is given by:\n",
    "$$p(d_i | M) = \\int p(d_i | v_i) \\cdot p(v_i|M) \\cdot d v_i$$\n",
    "\n",
    "Using the data files from Deller, we can compute the posterior on the velocity distribution as: \n",
    "$$p(v_i | d_i) = \\frac{p(d_i | v_i) \\cdot \\pi(v_i)}{p(d_i)}$$\n",
    "where $\\pi(v_i)$ is our prior on the velocity distribution, and $p(d_i)$ is a normalization.\n"
   ]
  },
  {
   "cell_type": "markdown",
   "metadata": {},
   "source": [
    "We will assume a flat prior $\\pi$, and we will ignore the normalization factor $p(d_i)$ since it doesn't affect the probability distribution, i.e. it is independent of $v_i$.\n",
    "\n",
    "Therefore, we can make the simplifying assumption that \n",
    "$$p(v_i|d_i) = p(d_i|v_i).$$\n",
    "\n",
    "We can now re-write the likelihood equation as:\n",
    "$$p(d_i | M) \\approx \\int p(v_i | d_i) \\cdot p(v_i|M) \\cdot d v_i .$$\n",
    "\n",
    "$p(v_i | d_i)$ can be read off from the posterior data, since it is simply the probability distribution of the velocity measurements."
   ]
  },
  {
   "cell_type": "markdown",
   "metadata": {},
   "source": [
    "Thus, the probability of drawing a given pulsar $d_i$ from a model $M$ is given by:\n",
    "$$p(d_i|M) = \\langle p(v_i | M) \\rangle.$$\n",
    "\n",
    "Here, $p(v_i|M)$ is the probability of drawing a given velocity, which appears in the data set, from model $M$. The average over all these probabilities gives the overall probability of drawing this pulsar from the model.\n",
    "\n",
    "Finally, the probability of drawing all $N$ pulsars from model M is\n",
    "$$p(d|M) = \\prod_{i=1}^{N} p(d_i|M).$$"
   ]
  },
  {
   "cell_type": "markdown",
   "metadata": {},
   "source": [
    "To get $p(v_i|M)$, for now we will simply assume that the model velocities are transverse. **In general, this is a poor assumption**. We must project all the velocities along isotropically distributed planar directions to get a modeled probability distribution for Transverse Velocity. I expect that the current calculation **underestimates** the true velocity multiplier."
   ]
  },
  {
   "cell_type": "code",
   "execution_count": 1,
   "metadata": {},
   "outputs": [],
   "source": [
    "import numpy as np\n",
    "import matplotlib.pyplot as plt\n",
    "import glob\n",
    "from scipy.stats.kde import gaussian_kde\n",
    "from numpy import linspace\n",
    "import time\n",
    "from scipy import interpolate"
   ]
  },
  {
   "cell_type": "code",
   "execution_count": 2,
   "metadata": {},
   "outputs": [],
   "source": [
    "from natal_kick_tools import mandel_muller_likelihood_functions as mmf"
   ]
  },
  {
   "cell_type": "markdown",
   "metadata": {},
   "source": [
    "# Probability from COMPAS simulated models"
   ]
  },
  {
   "cell_type": "code",
   "execution_count": 3,
   "metadata": {},
   "outputs": [],
   "source": [
    "# Define the models of interest\n",
    "bh_kicks=[200]\n",
    "ns_kicks = [200, 400, 800]\n",
    "sigmas = [0.01, 0.3, 0.7]\n",
    "\n",
    "# Define the location of the posterior data\n",
    "pulsar_data_loc = \"../correctedPulsarPosteriors/correctedVtData\""
   ]
  },
  {
   "cell_type": "markdown",
   "metadata": {},
   "source": [
    "## Compute all the likelihoods for the 89 pulsars"
   ]
  },
  {
   "cell_type": "code",
   "execution_count": 4,
   "metadata": {},
   "outputs": [
    {
     "name": "stdout",
     "output_type": "stream",
     "text": [
      "Loading Mandel Muller model data from /work2/08178/vkapil/frontera/supernova_remnant/bh_200_ns_200_sigma_0.01_combined.h5\n",
      "Loading Mandel Muller model data from /work2/08178/vkapil/frontera/supernova_remnant/bh_200_ns_200_sigma_0.3_combined.h5\n",
      "Loading Mandel Muller model data from /work2/08178/vkapil/frontera/supernova_remnant/bh_200_ns_200_sigma_0.7_combined.h5\n",
      "Loading Mandel Muller model data from /work2/08178/vkapil/frontera/supernova_remnant/bh_200_ns_400_sigma_0.01_combined.h5\n",
      "Loading Mandel Muller model data from /work2/08178/vkapil/frontera/supernova_remnant/bh_200_ns_400_sigma_0.3_combined.h5\n",
      "Loading Mandel Muller model data from /work2/08178/vkapil/frontera/supernova_remnant/bh_200_ns_400_sigma_0.7_combined.h5\n",
      "Loading Mandel Muller model data from /work2/08178/vkapil/frontera/supernova_remnant/bh_200_ns_800_sigma_0.01_combined.h5\n",
      "Loading Mandel Muller model data from /work2/08178/vkapil/frontera/supernova_remnant/bh_200_ns_800_sigma_0.3_combined.h5\n",
      "Loading Mandel Muller model data from /work2/08178/vkapil/frontera/supernova_remnant/bh_200_ns_800_sigma_0.7_combined.h5\n",
      "\n",
      " Successfully read 89 pulsar data files\n",
      "\n",
      "Likelihood calculation for vns_200_sigma_0.01 completed in: 0.23216772079467773 s\n",
      "Writing pulsar probabilities to file: calculatedModelLikelihoods/vns_200_sigma_0.01\n",
      "Calculation Complete!\n",
      "\n",
      "Likelihood calculation for vns_200_sigma_0.3 completed in: 0.20038175582885742 s\n",
      "Writing pulsar probabilities to file: calculatedModelLikelihoods/vns_200_sigma_0.3\n",
      "Calculation Complete!\n",
      "\n",
      "Likelihood calculation for vns_200_sigma_0.7 completed in: 0.21878480911254883 s\n",
      "Writing pulsar probabilities to file: calculatedModelLikelihoods/vns_200_sigma_0.7\n",
      "Calculation Complete!\n",
      "\n",
      "Likelihood calculation for vns_400_sigma_0.01 completed in: 0.16998672485351562 s\n",
      "Writing pulsar probabilities to file: calculatedModelLikelihoods/vns_400_sigma_0.01\n",
      "Calculation Complete!\n",
      "\n",
      "Likelihood calculation for vns_400_sigma_0.3 completed in: 0.19358253479003906 s\n",
      "Writing pulsar probabilities to file: calculatedModelLikelihoods/vns_400_sigma_0.3\n",
      "Calculation Complete!\n",
      "\n",
      "Likelihood calculation for vns_400_sigma_0.7 completed in: 0.15065908432006836 s\n",
      "Writing pulsar probabilities to file: calculatedModelLikelihoods/vns_400_sigma_0.7\n",
      "Calculation Complete!\n",
      "\n",
      "Likelihood calculation for vns_800_sigma_0.01 completed in: 0.13419771194458008 s\n",
      "Writing pulsar probabilities to file: calculatedModelLikelihoods/vns_800_sigma_0.01\n",
      "Calculation Complete!\n",
      "\n",
      "Likelihood calculation for vns_800_sigma_0.3 completed in: 0.12838172912597656 s\n",
      "Writing pulsar probabilities to file: calculatedModelLikelihoods/vns_800_sigma_0.3\n",
      "Calculation Complete!\n",
      "\n",
      "Likelihood calculation for vns_800_sigma_0.7 completed in: 0.11915469169616699 s\n",
      "Writing pulsar probabilities to file: calculatedModelLikelihoods/vns_800_sigma_0.7\n",
      "Calculation Complete!\n",
      "\n",
      "Complete calculation completed in: 30.544872283935547 s\n"
     ]
    }
   ],
   "source": [
    "start = time.time() \n",
    "p_models = mmf.get_pulsar_probability(pulsar_data_loc, bh_kicks=bh_kicks, ns_kicks=ns_kicks, sigmas=sigmas, local=False)\n",
    "end = time.time()\n",
    "\n",
    "print(\"Complete calculation completed in:\", end - start, \"s\")"
   ]
  },
  {
   "cell_type": "code",
   "execution_count": null,
   "metadata": {},
   "outputs": [],
   "source": []
  }
 ],
 "metadata": {
  "kernelspec": {
   "display_name": "Python 3",
   "language": "python",
   "name": "python3"
  },
  "language_info": {
   "codemirror_mode": {
    "name": "ipython",
    "version": 3
   },
   "file_extension": ".py",
   "mimetype": "text/x-python",
   "name": "python",
   "nbconvert_exporter": "python",
   "pygments_lexer": "ipython3",
   "version": "3.7.0"
  },
  "latex_envs": {
   "LaTeX_envs_menu_present": true,
   "autoclose": false,
   "autocomplete": true,
   "bibliofile": "biblio.bib",
   "cite_by": "apalike",
   "current_citInitial": 1,
   "eqLabelWithNumbers": true,
   "eqNumInitial": 1,
   "hotkeys": {
    "equation": "Ctrl-E",
    "itemize": "Ctrl-I"
   },
   "labels_anchors": false,
   "latex_user_defs": false,
   "report_style_numbering": false,
   "user_envs_cfg": false
  },
  "toc": {
   "base_numbering": 1,
   "nav_menu": {},
   "number_sections": true,
   "sideBar": true,
   "skip_h1_title": false,
   "title_cell": "Table of Contents",
   "title_sidebar": "Contents",
   "toc_cell": false,
   "toc_position": {},
   "toc_section_display": true,
   "toc_window_display": false
  }
 },
 "nbformat": 4,
 "nbformat_minor": 2
}
