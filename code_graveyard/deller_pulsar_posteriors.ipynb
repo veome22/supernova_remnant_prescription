{
 "cells": [
  {
   "cell_type": "markdown",
   "id": "d890eb00",
   "metadata": {},
   "source": [
    "# Theory\n",
    "\n",
    "Let's call a given natal kick distribution model $M(\\vec{\\theta})$, where $\\vec{\\theta} = \\{v_{ns}, \\sigma_{ns}\\}$ for the Mandel Muller 2020 model.\n",
    "\n",
    "Any given pulsar data set from Deller can be expressed as a collection of equally likely data points $\\{d_i\\}$.\n",
    "\n",
    "Then, the likelihood of reproducing the data set using our model is given by:\n",
    "$$p(d_i | M) = \\int p(d_i | v_i) \\cdot p(v_i|M) \\cdot d v_i$$\n",
    "\n",
    "Using the data files from Deller, we can compute the posterior on the velocity distribution as: \n",
    "$$p(v_i | d_i) = \\frac{p(d_i | v_i) \\cdot \\pi(v_i)}{p(d_i)}$$\n",
    "where $\\pi(v_i)$ is our prior on the velocity distribution, and $p(d_i)$ is a normalization.\n"
   ]
  },
  {
   "cell_type": "markdown",
   "id": "4f77ed35",
   "metadata": {},
   "source": [
    "We will assume a flat prior $\\pi$, and we will ignore the normalization factor $p(d_i)$ since it doesn't affect the probability distribution, i.e. it is independent of $v_i$.\n",
    "\n",
    "Therefore, we can make the simplifying assumption that \n",
    "$$p(v_i|d_i) = p(d_i|v_i).$$\n",
    "\n",
    "We can now re-write the likelihood equation as:\n",
    "$$p(d_i | M) \\approx \\int p(v_i | d_i) \\cdot p(v_i|M) \\cdot d v_i .$$\n",
    "\n",
    "$p(v_i | d_i)$ can be read off from the posterior data, since it is simply the probability distribution of the velocity measurements."
   ]
  },
  {
   "cell_type": "markdown",
   "id": "ecba228b",
   "metadata": {},
   "source": [
    "Thus, the probability of drawing a given pulsar $d_i$ from a model $M$ is given by:\n",
    "$$p(d_i|M) = \\langle p(v_i | M) \\rangle.$$\n",
    "\n",
    "Here, $p(v_i|M)$ is the probability of drawing a given velocity, which appears in the data set, from model $M$. The average over all these probabilities gives the overall probability of drawing this pulsar from the model.\n",
    "\n",
    "Finally, the probability of drawing all $N$ pulsars from model M is\n",
    "$$p(d|M) = \\prod_{i=1}^{N} p(d_i|M).$$"
   ]
  },
  {
   "cell_type": "markdown",
   "id": "30a0a473",
   "metadata": {},
   "source": [
    "To get $p(v_i|M)$, for now we will simply assume that the model velocities are transverse. In general, this is a poor assumption. We must project all the velocities along isotropically distributed planar directions to get a modeled probability distribution for Transverse Velocity."
   ]
  },
  {
   "cell_type": "markdown",
   "id": "393843eb",
   "metadata": {},
   "source": [
    "# Code"
   ]
  },
  {
   "cell_type": "code",
   "execution_count": 1,
   "id": "ffdf9724",
   "metadata": {},
   "outputs": [],
   "source": [
    "import numpy as np\n",
    "import matplotlib.pyplot as plt\n",
    "import glob\n",
    "from scipy.stats.kde import gaussian_kde\n",
    "from numpy import linspace\n",
    "import time"
   ]
  },
  {
   "cell_type": "code",
   "execution_count": 2,
   "id": "07de682e",
   "metadata": {},
   "outputs": [],
   "source": [
    "from natal_kick_tools import mandel_muller_sim_functions as msf"
   ]
  },
  {
   "cell_type": "code",
   "execution_count": 3,
   "id": "e76bd252",
   "metadata": {},
   "outputs": [],
   "source": [
    "# this is just a little function that we will use to make the plot more beautiful (bigger ticks, labels)\n",
    "# However, you do not have to use this (just uncommoment \"layoutAxes\" everywhere)\n",
    "from matplotlib.ticker import (FormatStrFormatter,\n",
    "                               AutoMinorLocator)\n",
    "def layoutAxes(ax, nameX='', nameY='', \\\n",
    "               labelSizeMajor = 10, fontsize = 18, second=False, labelpad=None, setMinor=True):\n",
    "    \"\"\"\n",
    "    Tiny code to do the layout for axes in matplotlib\n",
    "    \"\"\"\n",
    "    tickLengthMajor = 10\n",
    "    tickLengthMinor = 5\n",
    "    tickWidthMajor  = 1.5\n",
    "    tickWidthMinor  = 1.5\n",
    "    \n",
    "    #rc('axes', linewidth=2)\n",
    "    #label1 always refers to first axis not the twin \n",
    "    if not second:\n",
    "        for tick in ax.xaxis.get_major_ticks():\n",
    "            tick.label1.set_fontsize(fontsize)\n",
    "            #tick.label1.set_fontweight('bold')\n",
    "        for tick in ax.yaxis.get_major_ticks():\n",
    "            tick.label1.set_fontsize(fontsize)\n",
    "            #tick.label1.set_fontweight('bold')\n",
    "    if second:\n",
    "        for tick in ax.xaxis.get_major_ticks():\n",
    "            tick.label2.set_fontsize(fontsize)\n",
    "            #tick.label1.set_fontweight('bold')\n",
    "        for tick in ax.yaxis.get_major_ticks():\n",
    "            tick.label2.set_fontsize(fontsize)\n",
    "            #tick.label1.set_fontweight('bold')\n",
    "    for axis in ['top','bottom','left','right']:\n",
    "        ax.spines[axis].set_linewidth(1.2)\n",
    "    ax.tick_params(length=tickLengthMajor, width=tickWidthMajor, which='major')\n",
    "    ax.tick_params(length=tickLengthMinor, width=tickWidthMinor, which='minor')\n",
    "    ax.set_xlabel(nameX, fontsize=fontsize,labelpad=labelpad)#,fontweight='bold')\n",
    "    ax.set_ylabel(nameY, fontsize=fontsize,labelpad=labelpad)#, fontweight='bold')    \n",
    "    \n",
    "    if setMinor==True:\n",
    "        # add minor ticks:\n",
    "        ax.xaxis.set_minor_locator(AutoMinorLocator())\n",
    "        ax.yaxis.set_minor_locator(AutoMinorLocator())\n",
    "\n",
    "    return ax\n"
   ]
  },
  {
   "cell_type": "markdown",
   "id": "fc200ed3",
   "metadata": {},
   "source": [
    "# Combined Probability using all Pulsars (Library implementation)"
   ]
  },
  {
   "cell_type": "code",
   "execution_count": 4,
   "id": "a5d2fd25",
   "metadata": {},
   "outputs": [],
   "source": [
    "# Define the models of interest\n",
    "bh_kicks=[200]\n",
    "ns_kicks = [400]\n",
    "sigmas = [0.3]\n",
    "\n",
    "# Define the location of the posterior data\n",
    "pulsar_data_loc = \"../correctedPulsarPosteriors/correctedVtData\""
   ]
  },
  {
   "cell_type": "code",
   "execution_count": 5,
   "id": "0092066b",
   "metadata": {},
   "outputs": [
    {
     "name": "stdout",
     "output_type": "stream",
     "text": [
      "Loading Mandel Muller model data from ../COMPAS_runs/bh_200_ns_400_sigma_0.3_combined.h5\n",
      "Successfully read 89 data files\n",
      "Calculated likelihoods for 89 pulsars in: 0.17701458930969238 s\n",
      "Writing pulsar probabilities to file: ../calculatedModelLikelihoods/v_ns_400_sigma_0.3\n",
      "Calculation Complete!\n",
      "Calculation completed in: 20.820785999298096 s\n"
     ]
    }
   ],
   "source": [
    "start = time.time() \n",
    "p_pulsar_given_model = msf.get_pulsar_probability(pulsar_data_loc, bh_kick=200, ns_kick=400, sigma=0.3)\n",
    "end = time.time()\n",
    "print(\"Calculation completed in:\", end - start, \"s\")"
   ]
  },
  {
   "cell_type": "markdown",
   "id": "25c831d6",
   "metadata": {},
   "source": [
    "# Probability for a single pulsar (Library implementation)"
   ]
  },
  {
   "cell_type": "code",
   "execution_count": 6,
   "id": "55cc5607",
   "metadata": {},
   "outputs": [
    {
     "name": "stdout",
     "output_type": "stream",
     "text": [
      "Loading Mandel Muller model data from ../COMPAS_runs/bh_200_ns_400_sigma_0.3_combined.h5\n"
     ]
    }
   ],
   "source": [
    "# Pulsar Data\n",
    "file = \"../correctedPulsarPosteriors/correctedVtData/J0034-0721.corr-vT.bootstraps\"\n",
    "ra, dec, pmra, pmdec, px, vt = np.loadtxt(file, unpack=True)\n",
    "\n",
    "# Model Data\n",
    "SN_KICKS_NS, SN_KICKS_BH, NS_KICK_MULT, SIGMAS = msf.load_local_sim_data(sigmas=[0.3])"
   ]
  },
  {
   "cell_type": "code",
   "execution_count": 7,
   "id": "2cbbb36a",
   "metadata": {},
   "outputs": [],
   "source": [
    "p_vi_M = msf.p_vi_from_model(vt, SN_KICKS_NS)"
   ]
  },
  {
   "cell_type": "code",
   "execution_count": 8,
   "id": "5a4061fa",
   "metadata": {},
   "outputs": [
    {
     "data": {
      "image/png": "[encoded data removed]",
      "text/plain": [
       "<Figure size 720x432 with 1 Axes>"
      ]
     },
     "metadata": {
      "needs_background": "light"
     },
     "output_type": "display_data"
    }
   ],
   "source": [
    "f, ax= plt.subplots(1, 1,  figsize=(10,6)) \n",
    "\n",
    "plt.scatter(vt, p_vi_M)\n",
    "\n",
    "layoutAxes(ax=ax, nameX='Observed Kick velocity [km/s]',\\\n",
    "           nameY='p(v|M)')\n",
    "\n",
    "plt.title(f\"v_ns={NS_KICK_MULT[0]}, sigma={SIGMAS[0]}\")\n",
    "          \n",
    "plt.show()"
   ]
  },
  {
   "cell_type": "code",
   "execution_count": 9,
   "id": "be4c0b55",
   "metadata": {},
   "outputs": [
    {
     "name": "stdout",
     "output_type": "stream",
     "text": [
      "Probability of drawing Pulsar J0034-0721 from Mandel Muller with v_ns=400, sigma=0.3 = 0.0024279563020852437\n"
     ]
    }
   ],
   "source": [
    "p_v_M_avg = np.average(p_vi_M)\n",
    "print(\"Probability of drawing Pulsar J0034-0721 from Mandel Muller with v_ns=400, sigma=0.3 =\", p_v_M_avg)"
   ]
  },
  {
   "cell_type": "markdown",
   "id": "babe536b",
   "metadata": {},
   "source": [
    "# Visualizing the Data"
   ]
  },
  {
   "cell_type": "markdown",
   "id": "84a3ee6e",
   "metadata": {},
   "source": [
    "## Deller Data"
   ]
  },
  {
   "cell_type": "markdown",
   "id": "69073108",
   "metadata": {},
   "source": [
    "The data is organized as:\n",
    "\n",
    "ra (deg), dec (hr), pmra (mas/yr), pmdec (mas/yr), px (mas), corrected vTrans (km/s) "
   ]
  },
  {
   "cell_type": "code",
   "execution_count": 10,
   "id": "0f26b3ca",
   "metadata": {},
   "outputs": [],
   "source": [
    "file = \"../correctedPulsarPosteriors/correctedVtData/J0034-0721.corr-vT.bootstraps\"\n",
    "ra, dec, pmra, pmdec, px, vt = np.loadtxt(file, unpack=True)"
   ]
  },
  {
   "cell_type": "code",
   "execution_count": 11,
   "id": "db95b76e",
   "metadata": {},
   "outputs": [
    {
     "data": {
      "image/png": "[encoded data removed]",
      "text/plain": [
       "<Figure size 720x432 with 1 Axes>"
      ]
     },
     "metadata": {
      "needs_background": "light"
     },
     "output_type": "display_data"
    }
   ],
   "source": [
    "f, ax= plt.subplots(1, 1,  figsize=(10,6)) \n",
    "\n",
    "plt.hist(vt, density=True, bins=\"scott\") # Set optimal bins using Scott's rule\n",
    "\n",
    "layoutAxes(ax=ax, nameX='Transverse velocity [km/s]',\\\n",
    "           nameY='Probability')\n",
    "\n",
    "plt.title(\"J0034-0721.corr-vT.bootstraps\")\n",
    "plt.show()"
   ]
  },
  {
   "cell_type": "markdown",
   "id": "4c97a7f4",
   "metadata": {},
   "source": [
    "## COMPAS Simulation of Model(v_ns=400, sigma=0.3) "
   ]
  },
  {
   "cell_type": "code",
   "execution_count": 12,
   "id": "5648043a",
   "metadata": {},
   "outputs": [
    {
     "name": "stdout",
     "output_type": "stream",
     "text": [
      "Loading Mandel Muller model data from ../COMPAS_runs/bh_200_ns_400_sigma_0.3_combined.h5\n"
     ]
    }
   ],
   "source": [
    "SN_KICKS_NS, SN_KICKS_BH, NS_KICK_MULT, SIGMAS = msf.load_local_sim_data(sigmas=[0.3])"
   ]
  },
  {
   "cell_type": "code",
   "execution_count": 13,
   "id": "87b68b2e",
   "metadata": {},
   "outputs": [
    {
     "data": {
      "image/png": "[encoded data removed]",
      "text/plain": [
       "<Figure size 720x432 with 1 Axes>"
      ]
     },
     "metadata": {
      "needs_background": "light"
     },
     "output_type": "display_data"
    }
   ],
   "source": [
    "f, ax= plt.subplots(1, 1,  figsize=(10,6)) \n",
    "\n",
    "plt.hist(SN_KICKS_NS, density=True, bins=\"scott\") # Set optimal bins using Scott's rule\n",
    "\n",
    "layoutAxes(ax=ax, nameX='Natal Kick velocity [km/s]',\\\n",
    "           nameY='Probability')\n",
    "\n",
    "plt.title(f\"v_ns={NS_KICK_MULT[0]}, sigma={SIGMAS[0]}\")\n",
    "          \n",
    "plt.show()"
   ]
  },
  {
   "cell_type": "markdown",
   "id": "bc51c188",
   "metadata": {},
   "source": [
    "# [DEPRECATED] Computing the probability of Model(v_ns=400, sigma=0.3) "
   ]
  },
  {
   "cell_type": "code",
   "execution_count": 14,
   "id": "25c85eca",
   "metadata": {},
   "outputs": [],
   "source": [
    "from scipy import interpolate"
   ]
  },
  {
   "cell_type": "code",
   "execution_count": 15,
   "id": "67e1575a",
   "metadata": {},
   "outputs": [],
   "source": [
    "y,x = np.histogram(SN_KICKS_NS, density=True, bins=\"scott\")\n",
    "prob_M = interpolate.interp1d(x[:-1], y, bounds_error=False, fill_value=0)"
   ]
  },
  {
   "cell_type": "code",
   "execution_count": 16,
   "id": "52d51ef0",
   "metadata": {},
   "outputs": [
    {
     "data": {
      "image/png": "[encoded data removed]",
      "text/plain": [
       "<Figure size 720x432 with 1 Axes>"
      ]
     },
     "metadata": {
      "needs_background": "light"
     },
     "output_type": "display_data"
    }
   ],
   "source": [
    "x_grid = np.linspace(0, 1500, 1000)\n",
    "f, ax= plt.subplots(1, 1,  figsize=(10,6)) \n",
    "\n",
    "plt.hist(SN_KICKS_NS, density=True, bins=\"scott\", label='COMPAS data') # Set optimal bins using Scott's rule\n",
    "\n",
    "layoutAxes(ax=ax, nameX='Natal Kick velocity [km/s]',\\\n",
    "           nameY='Probability')\n",
    "\n",
    "plt.plot(x_grid, prob_M(x_grid), label='Interpolated pdf')\n",
    "\n",
    "plt.legend()\n",
    "\n",
    "plt.show()"
   ]
  },
  {
   "cell_type": "code",
   "execution_count": 17,
   "id": "d4165462",
   "metadata": {},
   "outputs": [
    {
     "name": "stdout",
     "output_type": "stream",
     "text": [
      "time elapsed: 0.0017819404602050781\n"
     ]
    }
   ],
   "source": [
    "start = time.time() \n",
    "\n",
    "p_vi_M = prob_M(vt)\n",
    "\n",
    "end = time.time()\n",
    "print(\"time elapsed:\", end - start)"
   ]
  },
  {
   "cell_type": "code",
   "execution_count": 18,
   "id": "e2b746d0",
   "metadata": {},
   "outputs": [
    {
     "data": {
      "image/png": "[encoded data removed]",
      "text/plain": [
       "<Figure size 432x288 with 1 Axes>"
      ]
     },
     "metadata": {
      "needs_background": "light"
     },
     "output_type": "display_data"
    }
   ],
   "source": [
    "plt.hist(p_vi_M, bins=100)\n",
    "plt.show()"
   ]
  },
  {
   "cell_type": "code",
   "execution_count": 19,
   "id": "741de401",
   "metadata": {},
   "outputs": [],
   "source": [
    "p_v_M_avg = np.average(p_vi_M)"
   ]
  },
  {
   "cell_type": "code",
   "execution_count": 20,
   "id": "f2227c4d",
   "metadata": {},
   "outputs": [
    {
     "name": "stdout",
     "output_type": "stream",
     "text": [
      "Probability of drawing Pulsar J0034-0721 from Mandel Muller with v_ns=400, sigma=0.3 = 0.0024279563020852437\n"
     ]
    }
   ],
   "source": [
    "print(\"Probability of drawing Pulsar J0034-0721 from Mandel Muller with v_ns=400, sigma=0.3 =\", p_v_M_avg)"
   ]
  },
  {
   "cell_type": "code",
   "execution_count": null,
   "id": "94b84a55",
   "metadata": {},
   "outputs": [],
   "source": []
  },
  {
   "cell_type": "code",
   "execution_count": null,
   "id": "0bdfb3a4",
   "metadata": {},
   "outputs": [],
   "source": []
  },
  {
   "cell_type": "markdown",
   "id": "aa25d5e8",
   "metadata": {},
   "source": [
    "# [DEPRECATED] Calculating the Probabilities of all 89 pulsars"
   ]
  },
  {
   "cell_type": "code",
   "execution_count": 21,
   "id": "1eb43f02",
   "metadata": {},
   "outputs": [
    {
     "name": "stdout",
     "output_type": "stream",
     "text": [
      "21.38395404815674\n"
     ]
    }
   ],
   "source": [
    "# Takes about 20 s\n",
    "start = time.time()\n",
    "\n",
    "vt_all = []\n",
    "\n",
    "for file in glob.glob('../correctedPulsarPosteriors/correctedVtData/*.bootstraps'):\n",
    "    vt_all.append(np.loadtxt(file, unpack=True, usecols=5))\n",
    "\n",
    "end = time.time()\n",
    "print(end - start)"
   ]
  },
  {
   "cell_type": "code",
   "execution_count": 22,
   "id": "b0219241",
   "metadata": {},
   "outputs": [
    {
     "name": "stdout",
     "output_type": "stream",
     "text": [
      "Loading Mandel Muller model data from ../COMPAS_runs/bh_200_ns_400_sigma_0.3_combined.h5\n"
     ]
    }
   ],
   "source": [
    "ns_kicks = [400]\n",
    "sigmas = [0.3]\n",
    "SN_KICKS_NS, SN_KICKS_BH, NS_KICK_MULT, SIGMAS = msf.load_local_sim_data(ns_kicks=ns_kicks, sigmas=sigmas)"
   ]
  },
  {
   "cell_type": "code",
   "execution_count": 23,
   "id": "218c21f8",
   "metadata": {},
   "outputs": [
    {
     "data": {
      "text/plain": [
       "89"
      ]
     },
     "execution_count": 23,
     "metadata": {},
     "output_type": "execute_result"
    }
   ],
   "source": [
    "len(vt_all)"
   ]
  },
  {
   "cell_type": "code",
   "execution_count": 24,
   "id": "2df03922",
   "metadata": {},
   "outputs": [],
   "source": [
    "model = SN_KICKS_NS[0]\n",
    "p_vi_M_all = np.empty(len(vt_all), dtype=object)"
   ]
  },
  {
   "cell_type": "code",
   "execution_count": 25,
   "id": "ca8bb4c3",
   "metadata": {},
   "outputs": [
    {
     "name": "stdout",
     "output_type": "stream",
     "text": [
      "time elapsed: 84.41941905021667 s\n"
     ]
    }
   ],
   "source": [
    "start = time.time()    \n",
    "\n",
    "for i in range(len(vt_all)):\n",
    "    p_vi_M_all[i] = msf.p_vi_from_model(vt_all[i], model)\n",
    "\n",
    "end = time.time()\n",
    "print(\"time elapsed:\", end - start, \"s\")"
   ]
  },
  {
   "cell_type": "code",
   "execution_count": 26,
   "id": "ffe381b4",
   "metadata": {},
   "outputs": [
    {
     "data": {
      "text/plain": [
       "0.0024279563020852437"
      ]
     },
     "execution_count": 26,
     "metadata": {},
     "output_type": "execute_result"
    }
   ],
   "source": [
    "np.average(p_vi_M_all[0])"
   ]
  },
  {
   "cell_type": "code",
   "execution_count": 27,
   "id": "bcfecd66",
   "metadata": {},
   "outputs": [],
   "source": [
    "p_di_M = np.empty(len(p_vi_M_all))\n",
    "\n",
    "for i in range(len(p_vi_M_all)):\n",
    "    p_di_M[i] = np.average(p_vi_M_all[i])"
   ]
  },
  {
   "cell_type": "code",
   "execution_count": 28,
   "id": "512cf495",
   "metadata": {},
   "outputs": [
    {
     "data": {
      "text/plain": [
       "array([0.00242796, 0.00032709, 0.00173972, 0.00372461, 0.00035675,\n",
       "       0.00290942, 0.00095204, 0.00268389, 0.00219919, 0.00156724,\n",
       "       0.00042119, 0.00357174, 0.00377762, 0.00160566, 0.00129943,\n",
       "       0.00025594, 0.0035562 , 0.00339915, 0.00185545, 0.00111157,\n",
       "       0.00155921, 0.00140774, 0.00370491, 0.00200183, 0.00345265,\n",
       "       0.00224218, 0.00078849, 0.00350983, 0.00208862, 0.00356859,\n",
       "       0.00338458, 0.00146335, 0.00038943, 0.00374489, 0.00314342,\n",
       "       0.00355867, 0.00035179, 0.00176633, 0.00122712, 0.00041748,\n",
       "       0.00036346, 0.00088756, 0.00074806, 0.00261528, 0.00014128,\n",
       "       0.00344983, 0.00116209, 0.00226101, 0.00301678, 0.00322556,\n",
       "       0.0027163 , 0.00045804, 0.00139555, 0.00031496, 0.00357766,\n",
       "       0.00039768, 0.00326663, 0.00366113, 0.00126739, 0.00137308,\n",
       "       0.00137231, 0.00072704, 0.00296822, 0.00024119, 0.00089274,\n",
       "       0.00161837, 0.00386243, 0.00171981, 0.00322423, 0.00123921,\n",
       "       0.00025367, 0.00104359, 0.00271874, 0.00236872, 0.00216407,\n",
       "       0.00052325, 0.00039634, 0.0008433 , 0.00043662, 0.00346181,\n",
       "       0.00033064, 0.00291824, 0.00281184, 0.00256194, 0.00348268,\n",
       "       0.00316423, 0.00037951, 0.00062147, 0.00156061])"
      ]
     },
     "execution_count": 28,
     "metadata": {},
     "output_type": "execute_result"
    }
   ],
   "source": [
    "p_di_M"
   ]
  },
  {
   "cell_type": "code",
   "execution_count": 29,
   "id": "0d1a66a8",
   "metadata": {},
   "outputs": [
    {
     "name": "stdout",
     "output_type": "stream",
     "text": [
      "v_ns_400_sigma_0.3\n"
     ]
    }
   ],
   "source": [
    "print(f\"v_ns_{NS_KICK_MULT[0]}_sigma_{SIGMAS[0]}\")"
   ]
  },
  {
   "cell_type": "code",
   "execution_count": 30,
   "id": "9587618a",
   "metadata": {},
   "outputs": [],
   "source": [
    "file = f\"../calculatedModelLikelihoods/v_ns_{NS_KICK_MULT[0]}_sigma_{SIGMAS[0]}\"\n",
    "np.savetxt(file, p_di_M)"
   ]
  },
  {
   "cell_type": "code",
   "execution_count": null,
   "id": "889b65c2",
   "metadata": {},
   "outputs": [],
   "source": []
  }
 ],
 "metadata": {
  "kernelspec": {
   "display_name": "Python 3",
   "language": "python",
   "name": "python3"
  },
  "language_info": {
   "codemirror_mode": {
    "name": "ipython",
    "version": 3
   },
   "file_extension": ".py",
   "mimetype": "text/x-python",
   "name": "python",
   "nbconvert_exporter": "python",
   "pygments_lexer": "ipython3",
   "version": "3.9.7"
  },
  "latex_envs": {
   "LaTeX_envs_menu_present": true,
   "autoclose": false,
   "autocomplete": true,
   "bibliofile": "biblio.bib",
   "cite_by": "apalike",
   "current_citInitial": 1,
   "eqLabelWithNumbers": true,
   "eqNumInitial": 1,
   "hotkeys": {
    "equation": "Ctrl-E",
    "itemize": "Ctrl-I"
   },
   "labels_anchors": false,
   "latex_user_defs": false,
   "report_style_numbering": false,
   "user_envs_cfg": false
  },
  "toc": {
   "base_numbering": 1,
   "nav_menu": {},
   "number_sections": true,
   "sideBar": true,
   "skip_h1_title": false,
   "title_cell": "Table of Contents",
   "title_sidebar": "Contents",
   "toc_cell": false,
   "toc_position": {},
   "toc_section_display": true,
   "toc_window_display": false
  }
 },
 "nbformat": 4,
 "nbformat_minor": 5
}
