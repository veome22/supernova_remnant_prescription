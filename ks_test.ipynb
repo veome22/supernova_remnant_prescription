{
 "cells": [
  {
   "cell_type": "code",
   "execution_count": 1,
   "metadata": {},
   "outputs": [],
   "source": [
    "import numpy as np\n",
    "import math\n",
    "import matplotlib.pyplot as plt\n",
    "import glob\n",
    "from scipy.stats.kde import gaussian_kde\n",
    "from numpy import linspace\n",
    "import time\n",
    "from scipy import interpolate\n",
    "import seaborn as sns\n",
    "from matplotlib.colors import LogNorm, Normalize\n",
    "from scipy.stats import *\n",
    "\n",
    "from ipywidgets import IntProgress\n",
    "from IPython.display import display"
   ]
  },
  {
   "cell_type": "code",
   "execution_count": 2,
   "metadata": {},
   "outputs": [],
   "source": [
    "from natal_kick_tools import mandel_muller_likelihood_functions as mmf\n",
    "from natal_kick_tools import likelihood_plot_functions as lpf"
   ]
  },
  {
   "cell_type": "code",
   "execution_count": 3,
   "metadata": {},
   "outputs": [],
   "source": [
    "import matplotlib\n",
    "#Set latex environment for plots/labels\n",
    "# matplotlib.rc('font', **{'family': 'serif'})\n",
    "matplotlib.rc('text', usetex=False)\n",
    "matplotlib.rcParams['text.latex.preamble'] = [r'\\boldmath']\n",
    "plt.rcParams.update({'font.family':'serif'})\n",
    "\n",
    "\n",
    "fl=22\n",
    "fm=18\n",
    "fs=16\n",
    "\n",
    "sns.set_style(\"white\")"
   ]
  },
  {
   "cell_type": "code",
   "execution_count": 4,
   "metadata": {},
   "outputs": [],
   "source": [
    "# this is just a little function that we will use to make the plot more beautiful (bigger ticks, labels)\n",
    "# However, you do not have to use this (just uncommoment \"layoutAxes\" everywhere)\n",
    "from matplotlib.ticker import (FormatStrFormatter,\n",
    "                               AutoMinorLocator)\n",
    "\n",
    "def layoutAxes(ax, nameX='', nameY='', \\\n",
    "               labelSizeMajor = 10, fontsize = 18, second=False, labelpad=None, setMinor=True):\n",
    "    \"\"\"\n",
    "    Tiny code to do the layout for axes in matplotlib\n",
    "    \"\"\"\n",
    "    tickLengthMajor = 10\n",
    "    tickLengthMinor = 5\n",
    "    tickWidthMajor  = 1.5\n",
    "    tickWidthMinor  = 1.5\n",
    "    \n",
    "    #rc('axes', linewidth=2)\n",
    "    #label1 always refers to first axis not the twin \n",
    "    if not second:\n",
    "        for tick in ax.xaxis.get_major_ticks():\n",
    "            tick.label1.set_fontsize(fontsize)\n",
    "            #tick.label1.set_fontweight('bold')\n",
    "        for tick in ax.yaxis.get_major_ticks():\n",
    "            tick.label1.set_fontsize(fontsize)\n",
    "            #tick.label1.set_fontweight('bold')\n",
    "    if second:\n",
    "        for tick in ax.xaxis.get_major_ticks():\n",
    "            tick.label2.set_fontsize(fontsize)\n",
    "            #tick.label1.set_fontweight('bold')\n",
    "        for tick in ax.yaxis.get_major_ticks():\n",
    "            tick.label2.set_fontsize(fontsize)\n",
    "            #tick.label1.set_fontweight('bold')\n",
    "    for axis in ['top','bottom','left','right']:\n",
    "        ax.spines[axis].set_linewidth(1.2)\n",
    "    ax.tick_params(length=tickLengthMajor, width=tickWidthMajor, which='major')\n",
    "    ax.tick_params(length=tickLengthMinor, width=tickWidthMinor, which='minor')\n",
    "    ax.set_xlabel(nameX, fontsize=fontsize,labelpad=labelpad)#,fontweight='bold')\n",
    "    ax.set_ylabel(nameY, fontsize=fontsize,labelpad=labelpad)#, fontweight='bold')    \n",
    "    \n",
    "    if setMinor==True:\n",
    "        # add minor ticks:\n",
    "        ax.xaxis.set_minor_locator(AutoMinorLocator())\n",
    "        ax.yaxis.set_minor_locator(AutoMinorLocator())\n",
    "\n",
    "    return ax\n"
   ]
  },
  {
   "cell_type": "code",
   "execution_count": 5,
   "metadata": {},
   "outputs": [],
   "source": [
    "# Define the models of interest\n",
    "bh_kicks=[200]\n",
    "# ns_kicks = [300, 350, 400, 450, 500, 550, 600, 650, 700]\n",
    "ns_kicks = [400, 425, 450, 475, 500, 525, 550, 575, 600, 625, 650, 675, 700]\n",
    "\n",
    "sigmas = [0.1, 0.2, 0.3, 0.4, 0.5]\n",
    "\n",
    "# Define the location of the posterior data\n",
    "pulsar_data_loc = \"../correctedPulsarPosteriors/correctedVtData\""
   ]
  },
  {
   "cell_type": "code",
   "execution_count": 6,
   "metadata": {},
   "outputs": [],
   "source": [
    "# Define a dictionary to map v_ns and sigma to their arrays\n",
    "kick_models = {}\n",
    "sig = len(sigmas)\n",
    "vns = len(ns_kicks)\n",
    "\n",
    "for i in range(len(ns_kicks)):\n",
    "    kick_models[f\"NS_{ns_kicks[i]}_RANGE\"] = np.arange(i*sig, (i*sig)+sig, 1)\n",
    "\n",
    "for i in range(len(sigmas)):\n",
    "    kick_models[f\"SIGMA_{sigmas[i]}_RANGE\"] = np.arange(i, (vns*sig) + i, sig)\n",
    "\n",
    "kick_models[\"ALL\"] = np.arange(0, vns*sig, 1)"
   ]
  },
  {
   "cell_type": "markdown",
   "metadata": {},
   "source": [
    "# Load Pulsar Data"
   ]
  },
  {
   "cell_type": "code",
   "execution_count": 7,
   "metadata": {},
   "outputs": [
    {
     "data": {
      "application/vnd.jupyter.widget-view+json": {
       "model_id": "9e431442e89241a6b29c597cefe57f42",
       "version_major": 2,
       "version_minor": 0
      },
      "text/plain": [
       "IntProgress(value=0, max=81)"
      ]
     },
     "metadata": {},
     "output_type": "display_data"
    },
    {
     "name": "stdout",
     "output_type": "stream",
     "text": [
      "38.98351263999939 s\n"
     ]
    }
   ],
   "source": [
    "# Takes about 30 s\n",
    "start = time.time()\n",
    "\n",
    "vt_all = []\n",
    "\n",
    "f = IntProgress(min=0, max=81) # instantiate the bar\n",
    "display(f) # display the bar\n",
    "\n",
    "for file in glob.glob('../correctedPulsarPosteriors/correctedVtData/*.bootstraps'):\n",
    "    vt_all.append(np.loadtxt(file, unpack=True, usecols=5))\n",
    "    f.value +=1\n",
    "\n",
    "end = time.time()\n",
    "print(end - start, \"s\")"
   ]
  },
  {
   "cell_type": "markdown",
   "metadata": {},
   "source": [
    "# SSE"
   ]
  },
  {
   "cell_type": "markdown",
   "metadata": {},
   "source": [
    "## Read Model Velocities"
   ]
  },
  {
   "cell_type": "code",
   "execution_count": 8,
   "metadata": {},
   "outputs": [
    {
     "data": {
      "application/vnd.jupyter.widget-view+json": {
       "model_id": "98cb4c9f881f478f842a0c7c0e3a41c5",
       "version_major": 2,
       "version_minor": 0
      },
      "text/plain": [
       "IntProgress(value=0, max=65)"
      ]
     },
     "metadata": {},
     "output_type": "display_data"
    },
    {
     "name": "stdout",
     "output_type": "stream",
     "text": [
      "130.7731318473816 s\n"
     ]
    }
   ],
   "source": [
    "# Read model velocity data (takes ~3 min)\n",
    "\n",
    "start = time.time()\n",
    "\n",
    "NS_KICKS_3D_SSE = []\n",
    "NS_KICKS_2D_SSE = []\n",
    "NS_KICK_MULT = [] \n",
    "SIGMAS = []\n",
    "\n",
    "f = IntProgress(min=0, max=len(ns_kicks) * len(sigmas)) # instantiate the bar\n",
    "display(f) # display the bar\n",
    "\n",
    "for ns_kick in ns_kicks:\n",
    "    for sigma in sigmas:\n",
    "        f.value +=1\n",
    "        fname = f\"model_velocities/vns_{ns_kick}_sigma_{sigma}_velocities\"\n",
    "        v_3d, v_2d = np.loadtxt(fname, skiprows=1, unpack=True)\n",
    "        NS_KICKS_3D_SSE.append(v_3d)\n",
    "        NS_KICKS_2D_SSE.append(v_2d)\n",
    "        NS_KICK_MULT.append(ns_kick)\n",
    "        SIGMAS.append(sigma)    \n",
    "        \n",
    "end = time.time()\n",
    "print(end - start, \"s\")"
   ]
  },
  {
   "cell_type": "markdown",
   "metadata": {},
   "source": [
    "# Read Likelihood Data"
   ]
  },
  {
   "cell_type": "code",
   "execution_count": 10,
   "metadata": {},
   "outputs": [],
   "source": [
    "p_models_sse = []\n",
    "columns_sse = [] # labels for plotting model likelihoods in next cell\n",
    "for ns_kick in ns_kicks:\n",
    "    for sigma in sigmas:\n",
    "        fname = f\"calculatedModelLikelihoods/vns_{ns_kick}_sigma_{sigma}\"\n",
    "\n",
    "        all_likelihoods = np.loadtxt(fname)\n",
    "        p_models_sse.append(np.prod(all_likelihoods))\n",
    "        \n",
    "        col_name = f\"vns_{ns_kick}_sigma_{sigma}\"\n",
    "        columns_sse.append(col_name)\n",
    "        \n",
    "# normalize the array\n",
    "p_models_sse = p_models_sse/np.sum(p_models_sse)"
   ]
  },
  {
   "cell_type": "code",
   "execution_count": 11,
   "metadata": {},
   "outputs": [
    {
     "name": "stdout",
     "output_type": "stream",
     "text": [
      "[32 27 37 22 42]\n"
     ]
    }
   ],
   "source": [
    "# Identify the 5 most likely models\n",
    "M = sorted(zip(p_models_sse), reverse=True)[:5]\n",
    "MAX_INDICES_SSE = np.where(p_models_sse==M)[1]\n",
    "print(MAX_INDICES_SSE)"
   ]
  },
  {
   "cell_type": "code",
   "execution_count": 12,
   "metadata": {},
   "outputs": [],
   "source": [
    "PLOT_DATA = [vt_all, NS_KICKS_2D_SSE, NS_KICK_MULT, SIGMAS] # Needed to make all the cdf functions work"
   ]
  },
  {
   "cell_type": "markdown",
   "metadata": {},
   "source": [
    "# KS Test (scipy)"
   ]
  },
  {
   "cell_type": "code",
   "execution_count": 13,
   "metadata": {},
   "outputs": [],
   "source": [
    "N_TESTS = 500\n",
    "\n",
    "ks_stats_sse = np.zeros((len(MAX_INDICES_SSE), N_TESTS))\n",
    "p_values_sse = np.zeros((len(MAX_INDICES_SSE), N_TESTS))"
   ]
  },
  {
   "cell_type": "code",
   "execution_count": 14,
   "metadata": {},
   "outputs": [
    {
     "name": "stdout",
     "output_type": "stream",
     "text": [
      "Performing KS-Test\n"
     ]
    },
    {
     "data": {
      "application/vnd.jupyter.widget-view+json": {
       "model_id": "142f11dde0d448448c04d059a71802e5",
       "version_major": 2,
       "version_minor": 0
      },
      "text/plain": [
       "IntProgress(value=0, max=2500)"
      ]
     },
     "metadata": {},
     "output_type": "display_data"
    },
    {
     "name": "stdout",
     "output_type": "stream",
     "text": [
      "KS-Test completed in 99.653111 s\n"
     ]
    }
   ],
   "source": [
    "print(\"Performing KS-Test\")\n",
    "start = time.time()\n",
    "f = IntProgress(min=0, max=len(MAX_INDICES_SSE)*N_TESTS) # instantiate the bar\n",
    "display(f) # display the bar\n",
    "\n",
    "for i in range(len(MAX_INDICES_SSE)):\n",
    "    model_data_sse = NS_KICKS_2D_SSE[MAX_INDICES_SSE[i]]\n",
    "    for n_test in range(N_TESTS):\n",
    "        f.value += 1 \n",
    "        # Draw posterior sample\n",
    "        vt_draw = np.zeros(len(vt_all))        \n",
    "        for j in range(len(vt_draw)):\n",
    "            vt_draw[j] = vt_all[j][np.random.randint(len(vt_all[j]))]\n",
    "            \n",
    "        ks_stats_sse[i, n_test], p_values_sse[i, n_test] = ks_2samp(vt_draw, model_data_sse)\n",
    "                             \n",
    "end = time.time()\n",
    "print(f\"KS-Test completed in {end - start:2f} s\")"
   ]
  },
  {
   "cell_type": "code",
   "execution_count": 15,
   "metadata": {},
   "outputs": [
    {
     "data": {
      "image/png": "[encoded data removed]",
      "text/plain": [
       "<Figure size 864x576 with 1 Axes>"
      ]
     },
     "metadata": {},
     "output_type": "display_data"
    }
   ],
   "source": [
    "f, ax= plt.subplots(1, 1,  figsize=(12,8)) \n",
    "for i in range(len(MAX_INDICES_SSE)):\n",
    "    plt.hist(ks_stats_sse[i], histtype='step', label=f'({NS_KICK_MULT[MAX_INDICES_SSE[i]]}, {SIGMAS[MAX_INDICES_SSE[i]]})')\n",
    "\n",
    "layoutAxes(ax=ax, nameX='KS-Statistic',\\\n",
    "                   nameY='Number')\n",
    "plt.legend(fontsize=16)\n",
    "plt.show()"
   ]
  },
  {
   "cell_type": "markdown",
   "metadata": {},
   "source": [
    "## Results"
   ]
  },
  {
   "cell_type": "code",
   "execution_count": 17,
   "metadata": {},
   "outputs": [
    {
     "name": "stdout",
     "output_type": "stream",
     "text": [
      "Sc KS Test for 550, 0.3:  ks_stat = 0.082 +/- 0.017,  p_value = 0.644+/-0.214\n",
      "Sc KS Test for 525, 0.3:  ks_stat = 0.097 +/- 0.022,  p_value = 0.475+/-0.248\n",
      "Sc KS Test for 575, 0.3:  ks_stat = 0.078 +/- 0.011,  p_value = 0.702+/-0.154\n",
      "Sc KS Test for 500, 0.3:  ks_stat = 0.123 +/- 0.024,  p_value = 0.224+/-0.178\n",
      "Sc KS Test for 600, 0.3:  ks_stat = 0.088 +/- 0.013,  p_value = 0.570+/-0.171\n"
     ]
    }
   ],
   "source": [
    "for i in range(len(MAX_INDICES_SSE)):    \n",
    "    print(f\"Sc KS Test for {NS_KICK_MULT[MAX_INDICES_SSE[i]]}, {SIGMAS[MAX_INDICES_SSE[i]]}:\",\\\n",
    "          f\" ks_stat = {np.mean(ks_stats_sse[i]):.3f} +/- {np.std(ks_stats_sse[i]):.3f}, \", \\\n",
    "          f\"p_value = {np.mean(p_values_sse[i]):.3f}+/-{np.std(p_values_sse[i]):.3f}\")"
   ]
  },
  {
   "cell_type": "code",
   "execution_count": null,
   "metadata": {},
   "outputs": [],
   "source": []
  },
  {
   "cell_type": "markdown",
   "metadata": {},
   "source": [
    "# BSE"
   ]
  },
  {
   "cell_type": "markdown",
   "metadata": {},
   "source": [
    "## Read Model Velocities"
   ]
  },
  {
   "cell_type": "code",
   "execution_count": 8,
   "metadata": {},
   "outputs": [
    {
     "data": {
      "application/vnd.jupyter.widget-view+json": {
       "model_id": "3b69353fef1b45fdb739635e8aa2b58d",
       "version_major": 2,
       "version_minor": 0
      },
      "text/plain": [
       "IntProgress(value=0, max=45)"
      ]
     },
     "metadata": {},
     "output_type": "display_data"
    },
    {
     "name": "stdout",
     "output_type": "stream",
     "text": [
      "146.71342778205872 s\n"
     ]
    }
   ],
   "source": [
    "# Read model velocity data (takes ~2 min)\n",
    "\n",
    "start = time.time()\n",
    "\n",
    "NS_KICKS_3D_BSE = []\n",
    "NS_KICKS_2D_BSE = []\n",
    "NS_KICK_MULT = [] \n",
    "SIGMAS = []\n",
    "\n",
    "f = IntProgress(min=0, max=len(ns_kicks)*len(sigmas)) # instantiate the bar\n",
    "display(f)\n",
    "\n",
    "for ns_kick in ns_kicks:\n",
    "    for sigma in sigmas:\n",
    "        f.value +=1\n",
    "        fname = f\"model_velocities_bse/vns_{ns_kick}_sigma_{sigma}_velocities\"\n",
    "        v_3d, v_2d = np.loadtxt(fname, skiprows=1, unpack=True)\n",
    "        NS_KICKS_3D_BSE.append(v_3d)\n",
    "        NS_KICKS_2D_BSE.append(v_2d)\n",
    "        NS_KICK_MULT.append(ns_kick)\n",
    "        SIGMAS.append(sigma)    \n",
    "        \n",
    "end = time.time()\n",
    "print(end - start, \"s\")"
   ]
  },
  {
   "cell_type": "markdown",
   "metadata": {},
   "source": [
    "# Read Likelihood Data"
   ]
  },
  {
   "cell_type": "code",
   "execution_count": 9,
   "metadata": {},
   "outputs": [],
   "source": [
    "p_models_bse = []\n",
    "columns = [] # labels for plotting model likelihoods in next cell\n",
    "for ns_kick in ns_kicks:\n",
    "    for sigma in sigmas:\n",
    "        fname = f\"calculatedModelLikelihoods_bse/vns_{ns_kick}_sigma_{sigma}\"\n",
    "\n",
    "        all_likelihoods = np.loadtxt(fname)\n",
    "        p_models_bse.append(np.prod(all_likelihoods))\n",
    "        \n",
    "        col_name = f\"vns_{ns_kick}_sigma_{sigma}\"\n",
    "        columns.append(col_name)\n",
    "        \n",
    "# normalize the array\n",
    "p_models_bse = p_models_bse/np.sum(p_models_bse)"
   ]
  },
  {
   "cell_type": "code",
   "execution_count": 10,
   "metadata": {},
   "outputs": [
    {
     "name": "stdout",
     "output_type": "stream",
     "text": [
      "[22 27 21 26 17]\n"
     ]
    }
   ],
   "source": [
    "# Identify the 5 most likely models\n",
    "M = sorted(zip(p_models_bse), reverse=True)[:5]\n",
    "MAX_INDICES_BSE = np.where(p_models_bse==M)[1]\n",
    "print(MAX_INDICES_BSE)"
   ]
  },
  {
   "cell_type": "code",
   "execution_count": 11,
   "metadata": {},
   "outputs": [],
   "source": [
    "PLOT_DATA_BSE = [vt_all, NS_KICKS_2D_BSE, NS_KICK_MULT, SIGMAS] # Needed to make all the cdf functions work"
   ]
  },
  {
   "cell_type": "markdown",
   "metadata": {},
   "source": [
    "# KS Test (scipy)"
   ]
  },
  {
   "cell_type": "code",
   "execution_count": 12,
   "metadata": {},
   "outputs": [],
   "source": [
    "N_TESTS = 500\n",
    "\n",
    "ks_stats_bse = np.zeros((len(MAX_INDICES_BSE), N_TESTS))\n",
    "p_values_bse = np.zeros((len(MAX_INDICES_BSE), N_TESTS))"
   ]
  },
  {
   "cell_type": "code",
   "execution_count": 13,
   "metadata": {},
   "outputs": [
    {
     "name": "stdout",
     "output_type": "stream",
     "text": [
      "Performing KS-Test\n"
     ]
    },
    {
     "data": {
      "application/vnd.jupyter.widget-view+json": {
       "model_id": "9b01b1dfd9984615a8daab37a3bb39d9",
       "version_major": 2,
       "version_minor": 0
      },
      "text/plain": [
       "IntProgress(value=0, max=2500)"
      ]
     },
     "metadata": {},
     "output_type": "display_data"
    },
    {
     "name": "stdout",
     "output_type": "stream",
     "text": [
      "KS-Test completed in 121.727482 s\n"
     ]
    }
   ],
   "source": [
    "print(\"Performing KS-Test\")\n",
    "start = time.time()\n",
    "f = IntProgress(min=0, max=len(MAX_INDICES_BSE)*N_TESTS) # instantiate the bar\n",
    "display(f) # display the bar\n",
    "\n",
    "for i in range(len(MAX_INDICES_BSE)):\n",
    "    model_data_bse = NS_KICKS_2D_BSE[MAX_INDICES_BSE[i]]\n",
    "    for n_test in range(N_TESTS):\n",
    "        f.value += 1 \n",
    "        # Draw posterior sample\n",
    "        vt_draw = np.zeros(len(vt_all))        \n",
    "        for j in range(len(vt_draw)):\n",
    "            vt_draw[j] = vt_all[j][np.random.randint(len(vt_all[j]))]\n",
    "            \n",
    "        ks_stats_bse[i, n_test], p_values_bse[i, n_test] = ks_2samp(vt_draw, model_data_bse)\n",
    "                             \n",
    "end = time.time()\n",
    "print(f\"KS-Test completed in {end - start:2f} s\")"
   ]
  },
  {
   "cell_type": "code",
   "execution_count": 14,
   "metadata": {},
   "outputs": [
    {
     "data": {
      "image/png": "[encoded data removed]",
      "text/plain": [
       "<Figure size 864x576 with 1 Axes>"
      ]
     },
     "metadata": {},
     "output_type": "display_data"
    }
   ],
   "source": [
    "f, ax= plt.subplots(1, 1,  figsize=(12,8)) \n",
    "for i in range(len(MAX_INDICES_BSE)):\n",
    "    plt.hist(ks_stats_bse[i], histtype='step', label=f'({NS_KICK_MULT[MAX_INDICES_BSE[i]]}, {SIGMAS[MAX_INDICES_BSE[i]]})')\n",
    "\n",
    "layoutAxes(ax=ax, nameX='KS-Statistic',\\\n",
    "                   nameY='Number')\n",
    "plt.legend(fontsize=16)\n",
    "plt.show()"
   ]
  },
  {
   "cell_type": "markdown",
   "metadata": {},
   "source": [
    "## Results"
   ]
  },
  {
   "cell_type": "code",
   "execution_count": 15,
   "metadata": {},
   "outputs": [
    {
     "name": "stdout",
     "output_type": "stream",
     "text": [
      "Sc KS Test for 500, 0.3:  ks_stat = 0.100 +/- 0.019,  p_value = 0.426+/-0.212\n",
      "Sc KS Test for 550, 0.3:  ks_stat = 0.089 +/- 0.013,  p_value = 0.547+/-0.178\n",
      "Sc KS Test for 500, 0.2:  ks_stat = 0.109 +/- 0.022,  p_value = 0.342+/-0.206\n",
      "Sc KS Test for 550, 0.2:  ks_stat = 0.098 +/- 0.013,  p_value = 0.440+/-0.165\n",
      "Sc KS Test for 450, 0.3:  ks_stat = 0.145 +/- 0.021,  p_value = 0.091+/-0.080\n"
     ]
    }
   ],
   "source": [
    "for i in range(len(MAX_INDICES_BSE)):    \n",
    "    print(f\"Sc KS Test for {NS_KICK_MULT[MAX_INDICES_BSE[i]]}, {SIGMAS[MAX_INDICES_BSE[i]]}:\",\\\n",
    "          f\" ks_stat = {np.mean(ks_stats_bse[i]):.3f} +/- {np.std(ks_stats_bse[i]):.3f}, \", \\\n",
    "          f\"p_value = {np.mean(p_values_bse[i]):.3f}+/-{np.std(p_values_bse[i]):.3f}\")"
   ]
  },
  {
   "cell_type": "code",
   "execution_count": null,
   "metadata": {},
   "outputs": [],
   "source": []
  }
 ],
 "metadata": {
  "kernelspec": {
   "display_name": "Python 3",
   "language": "python",
   "name": "python3"
  },
  "language_info": {
   "codemirror_mode": {
    "name": "ipython",
    "version": 3
   },
   "file_extension": ".py",
   "mimetype": "text/x-python",
   "name": "python",
   "nbconvert_exporter": "python",
   "pygments_lexer": "ipython3",
   "version": "3.7.0"
  },
  "latex_envs": {
   "LaTeX_envs_menu_present": true,
   "autoclose": false,
   "autocomplete": true,
   "bibliofile": "biblio.bib",
   "cite_by": "apalike",
   "current_citInitial": 1,
   "eqLabelWithNumbers": true,
   "eqNumInitial": 1,
   "hotkeys": {
    "equation": "Ctrl-E",
    "itemize": "Ctrl-I"
   },
   "labels_anchors": false,
   "latex_user_defs": false,
   "report_style_numbering": false,
   "user_envs_cfg": false
  },
  "toc": {
   "base_numbering": 1,
   "nav_menu": {},
   "number_sections": true,
   "sideBar": true,
   "skip_h1_title": false,
   "title_cell": "Table of Contents",
   "title_sidebar": "Contents",
   "toc_cell": false,
   "toc_position": {},
   "toc_section_display": true,
   "toc_window_display": false
  }
 },
 "nbformat": 4,
 "nbformat_minor": 2
}
