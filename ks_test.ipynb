{
 "cells": [
  {
   "cell_type": "code",
   "execution_count": 1,
   "metadata": {},
   "outputs": [],
   "source": [
    "import numpy as np\n",
    "import math\n",
    "import matplotlib.pyplot as plt\n",
    "import glob\n",
    "from scipy.stats.kde import gaussian_kde\n",
    "from numpy import linspace\n",
    "import time\n",
    "from scipy import interpolate\n",
    "import seaborn as sns\n",
    "from matplotlib.colors import LogNorm, Normalize\n",
    "from scipy.stats import *\n",
    "\n",
    "from ipywidgets import IntProgress\n",
    "from IPython.display import display"
   ]
  },
  {
   "cell_type": "code",
   "execution_count": 2,
   "metadata": {},
   "outputs": [],
   "source": [
    "from natal_kick_tools import mandel_muller_likelihood_functions as mmf\n",
    "from natal_kick_tools import likelihood_plot_functions as lpf"
   ]
  },
  {
   "cell_type": "code",
   "execution_count": 5,
   "metadata": {},
   "outputs": [],
   "source": [
    "import matplotlib\n",
    "#Set latex environment for plots/labels\n",
    "# matplotlib.rc('font', **{'family': 'serif'})\n",
    "matplotlib.rc('text', usetex=False)\n",
    "matplotlib.rcParams['text.latex.preamble'] = [r'\\boldmath']\n",
    "plt.rcParams.update({'font.family':'serif'})\n",
    "\n",
    "\n",
    "fl=22\n",
    "fm=18\n",
    "fs=16\n",
    "\n",
    "sns.set_style(\"white\")"
   ]
  },
  {
   "cell_type": "code",
   "execution_count": 6,
   "metadata": {},
   "outputs": [],
   "source": [
    "# this is just a little function that we will use to make the plot more beautiful (bigger ticks, labels)\n",
    "# However, you do not have to use this (just uncommoment \"layoutAxes\" everywhere)\n",
    "from matplotlib.ticker import (FormatStrFormatter,\n",
    "                               AutoMinorLocator)\n",
    "\n",
    "def layoutAxes(ax, nameX='', nameY='', \\\n",
    "               labelSizeMajor = 10, fontsize = 18, second=False, labelpad=None, setMinor=True):\n",
    "    \"\"\"\n",
    "    Tiny code to do the layout for axes in matplotlib\n",
    "    \"\"\"\n",
    "    tickLengthMajor = 10\n",
    "    tickLengthMinor = 5\n",
    "    tickWidthMajor  = 1.5\n",
    "    tickWidthMinor  = 1.5\n",
    "    \n",
    "    #rc('axes', linewidth=2)\n",
    "    #label1 always refers to first axis not the twin \n",
    "    if not second:\n",
    "        for tick in ax.xaxis.get_major_ticks():\n",
    "            tick.label1.set_fontsize(fontsize)\n",
    "            #tick.label1.set_fontweight('bold')\n",
    "        for tick in ax.yaxis.get_major_ticks():\n",
    "            tick.label1.set_fontsize(fontsize)\n",
    "            #tick.label1.set_fontweight('bold')\n",
    "    if second:\n",
    "        for tick in ax.xaxis.get_major_ticks():\n",
    "            tick.label2.set_fontsize(fontsize)\n",
    "            #tick.label1.set_fontweight('bold')\n",
    "        for tick in ax.yaxis.get_major_ticks():\n",
    "            tick.label2.set_fontsize(fontsize)\n",
    "            #tick.label1.set_fontweight('bold')\n",
    "    for axis in ['top','bottom','left','right']:\n",
    "        ax.spines[axis].set_linewidth(1.2)\n",
    "    ax.tick_params(length=tickLengthMajor, width=tickWidthMajor, which='major')\n",
    "    ax.tick_params(length=tickLengthMinor, width=tickWidthMinor, which='minor')\n",
    "    ax.set_xlabel(nameX, fontsize=fontsize,labelpad=labelpad)#,fontweight='bold')\n",
    "    ax.set_ylabel(nameY, fontsize=fontsize,labelpad=labelpad)#, fontweight='bold')    \n",
    "    \n",
    "    if setMinor==True:\n",
    "        # add minor ticks:\n",
    "        ax.xaxis.set_minor_locator(AutoMinorLocator())\n",
    "        ax.yaxis.set_minor_locator(AutoMinorLocator())\n",
    "\n",
    "    return ax\n"
   ]
  },
  {
   "cell_type": "code",
   "execution_count": 7,
   "metadata": {},
   "outputs": [],
   "source": [
    "# Define the models of interest\n",
    "bh_kicks=[200]\n",
    "ns_kicks = [400, 450, 500, 550, 600, 650]\n",
    "# ns_kicks = [300, 350, 400, 450, 500, 550, 600, 650, 700]\n",
    "sigmas = [0.1, 0.2, 0.3, 0.4, 0.5]\n",
    "\n",
    "# Define the location of the posterior data\n",
    "pulsar_data_loc = \"../correctedPulsarPosteriors/correctedVtData\""
   ]
  },
  {
   "cell_type": "markdown",
   "metadata": {},
   "source": [
    "# Read Velocity Data"
   ]
  },
  {
   "cell_type": "markdown",
   "metadata": {},
   "source": [
    "## Model Velocities"
   ]
  },
  {
   "cell_type": "code",
   "execution_count": 8,
   "metadata": {},
   "outputs": [],
   "source": [
    "# Define a dictionary to map v_ns and sigma to their arrays\n",
    "kick_models = {}\n",
    "sig = len(sigmas)\n",
    "vns = len(ns_kicks)\n",
    "\n",
    "for i in range(len(ns_kicks)):\n",
    "    kick_models[f\"NS_{ns_kicks[i]}_RANGE\"] = np.arange(i*sig, (i*sig)+sig, 1)\n",
    "\n",
    "for i in range(len(sigmas)):\n",
    "    kick_models[f\"SIGMA_{sigmas[i]}_RANGE\"] = np.arange(i, (vns*sig) + i, sig)\n",
    "\n",
    "kick_models[\"ALL\"] = np.arange(0, vns*sig, 1)"
   ]
  },
  {
   "cell_type": "code",
   "execution_count": 9,
   "metadata": {},
   "outputs": [
    {
     "name": "stdout",
     "output_type": "stream",
     "text": [
      "72.42539429664612 s\n"
     ]
    }
   ],
   "source": [
    "# Read model velocity data (takes ~2 min)\n",
    "\n",
    "start = time.time()\n",
    "\n",
    "NS_KICKS_3D = []\n",
    "NS_KICKS_2D = []\n",
    "NS_KICK_MULT = [] \n",
    "SIGMAS = []\n",
    "\n",
    "for ns_kick in ns_kicks:\n",
    "    for sigma in sigmas:\n",
    "#         fname = f\"model_velocities/vns_{ns_kick}_sigma_{sigma}_velocities\"\n",
    "        fname = f\"model_velocities_bse/vns_{ns_kick}_sigma_{sigma}_velocities\"\n",
    "        v_3d, v_2d = np.loadtxt(fname, skiprows=1, unpack=True)\n",
    "        NS_KICKS_3D.append(v_3d)\n",
    "        NS_KICKS_2D.append(v_2d)\n",
    "        NS_KICK_MULT.append(ns_kick)\n",
    "        SIGMAS.append(sigma)    \n",
    "        \n",
    "end = time.time()\n",
    "print(end - start, \"s\")"
   ]
  },
  {
   "cell_type": "markdown",
   "metadata": {},
   "source": [
    "# Read Likelihood Data"
   ]
  },
  {
   "cell_type": "code",
   "execution_count": 13,
   "metadata": {},
   "outputs": [],
   "source": [
    "p_models = []\n",
    "columns = [] # labels for plotting model likelihoods in next cell\n",
    "for ns_kick in ns_kicks:\n",
    "    for sigma in sigmas:\n",
    "        fname = f\"calculatedModelLikelihoods/vns_{ns_kick}_sigma_{sigma}\"\n",
    "        all_likelihoods = np.loadtxt(fname)\n",
    "        p_models.append(np.prod(all_likelihoods))\n",
    "        \n",
    "        col_name = f\"vns_{ns_kick}_sigma_{sigma}\"\n",
    "        columns.append(col_name)\n",
    "        \n",
    "# normalize the array\n",
    "p_models = p_models/np.sum(p_models)"
   ]
  },
  {
   "cell_type": "code",
   "execution_count": 14,
   "metadata": {},
   "outputs": [
    {
     "name": "stdout",
     "output_type": "stream",
     "text": [
      "[13 12 18  8 17]\n"
     ]
    }
   ],
   "source": [
    "# Identify the 5 most likely models\n",
    "M = sorted(zip(p_models), reverse=True)[:5]\n",
    "MAX_INDICES = np.where(p_models==M)[1]\n",
    "print(MAX_INDICES)"
   ]
  },
  {
   "cell_type": "markdown",
   "metadata": {},
   "source": [
    "# Load Posterior Data"
   ]
  },
  {
   "cell_type": "code",
   "execution_count": 15,
   "metadata": {},
   "outputs": [
    {
     "name": "stdout",
     "output_type": "stream",
     "text": [
      "28.45041036605835 s\n"
     ]
    }
   ],
   "source": [
    "# Takes about 30 s\n",
    "start = time.time()\n",
    "\n",
    "vt_all = []\n",
    "\n",
    "for file in glob.glob('../correctedPulsarPosteriors/correctedVtData/*.bootstraps'):\n",
    "    vt_all.append(np.loadtxt(file, unpack=True, usecols=5))\n",
    "\n",
    "end = time.time()\n",
    "print(end - start, \"s\")"
   ]
  },
  {
   "cell_type": "code",
   "execution_count": 16,
   "metadata": {},
   "outputs": [],
   "source": [
    "PLOT_DATA = [vt_all, NS_KICKS_2D, NS_KICK_MULT, SIGMAS] # Needed to make all the cdf functions work"
   ]
  },
  {
   "cell_type": "markdown",
   "metadata": {},
   "source": [
    "# My KS-Test Implementation"
   ]
  },
  {
   "cell_type": "code",
   "execution_count": 17,
   "metadata": {},
   "outputs": [],
   "source": [
    "N_TESTS = 500\n",
    "ks_stats_me = np.zeros((len(MAX_INDICES), N_TESTS))"
   ]
  },
  {
   "cell_type": "code",
   "execution_count": 18,
   "metadata": {},
   "outputs": [
    {
     "name": "stdout",
     "output_type": "stream",
     "text": [
      "Model CDFs computed in 1.508451 s\n"
     ]
    }
   ],
   "source": [
    "start = time.time()\n",
    "\n",
    "n_bins = 20\n",
    "n_draws = 100000\n",
    "model_cdfs = np.empty((len(MAX_INDICES), n_bins))\n",
    "\n",
    "for i in range(len(MAX_INDICES)):\n",
    "    model = NS_KICKS_2D[MAX_INDICES[i]]\n",
    "    vt_draw, bins, cdf, pdf = lpf.draw_model_cdf(model, vt_all, n_bins=n_bins, n_draws=n_draws)\n",
    "    model_cdfs[i] = cdf\n",
    "\n",
    "end = time.time()\n",
    "print(f\"Model CDFs computed in {end - start:2f} s\")"
   ]
  },
  {
   "cell_type": "code",
   "execution_count": 19,
   "metadata": {},
   "outputs": [
    {
     "name": "stdout",
     "output_type": "stream",
     "text": [
      "Performing KS-Test\n"
     ]
    },
    {
     "data": {
      "application/vnd.jupyter.widget-view+json": {
       "model_id": "8737069693f1445a88ec88728d614a81",
       "version_major": 2,
       "version_minor": 0
      },
      "text/plain": [
       "IntProgress(value=0, max=500)"
      ]
     },
     "metadata": {},
     "output_type": "display_data"
    },
    {
     "name": "stdout",
     "output_type": "stream",
     "text": [
      "KS-Test completed in 24.106123 s\n"
     ]
    }
   ],
   "source": [
    "print(\"Performing KS-Test\")\n",
    "start = time.time()\n",
    "f = IntProgress(min=0, max=N_TESTS) # instantiate the bar\n",
    "display(f) # display the bar\n",
    "\n",
    "for n_test in range(N_TESTS):\n",
    "    f.value += 1 \n",
    "    for i in range(len(MAX_INDICES)):\n",
    "        # Draw posterior sample\n",
    "        vt_draw, bins, posterior_cdf, posterior_pdf = lpf.draw_posterior_cdf(vt_all, n_bins=n_bins)\n",
    "        ks_stats_me[i][n_test] = np.max(np.abs(model_cdfs[i] - posterior_cdf))\n",
    "\n",
    "end = time.time()\n",
    "print(f\"KS-Test completed in {end - start:2f} s\")"
   ]
  },
  {
   "cell_type": "code",
   "execution_count": 20,
   "metadata": {},
   "outputs": [
    {
     "data": {
      "image/png": "[encoded data removed]",
      "text/plain": [
       "<Figure size 864x576 with 1 Axes>"
      ]
     },
     "metadata": {},
     "output_type": "display_data"
    }
   ],
   "source": [
    "f, ax= plt.subplots(1, 1,  figsize=(12,8)) \n",
    "for i in range(len(MAX_INDICES)):\n",
    "    plt.hist(ks_stats_me[i], histtype='step', label=f'({NS_KICK_MULT[MAX_INDICES[i]]}, {SIGMAS[MAX_INDICES[i]]})')\n",
    "\n",
    "plt.title(\"My KS Test Implementation\")\n",
    "layoutAxes(ax=ax, nameX='KS-Statistic',\\\n",
    "                   nameY='Number')\n",
    "plt.legend(fontsize=16)\n",
    "plt.show()"
   ]
  },
  {
   "cell_type": "markdown",
   "metadata": {},
   "source": [
    "# Scipy implementation"
   ]
  },
  {
   "cell_type": "code",
   "execution_count": 21,
   "metadata": {},
   "outputs": [],
   "source": [
    "N_TESTS = 500\n",
    "\n",
    "ks_stats = np.zeros((len(MAX_INDICES), N_TESTS))\n",
    "p_values = np.zeros((len(MAX_INDICES), N_TESTS))"
   ]
  },
  {
   "cell_type": "code",
   "execution_count": 22,
   "metadata": {},
   "outputs": [],
   "source": [
    "model_data = [NS_KICKS_2D[MAX_INDICES[0]], NS_KICKS_2D[MAX_INDICES[1]], NS_KICKS_2D[MAX_INDICES[2]]]"
   ]
  },
  {
   "cell_type": "code",
   "execution_count": 23,
   "metadata": {},
   "outputs": [
    {
     "name": "stdout",
     "output_type": "stream",
     "text": [
      "Performing KS-Test\n"
     ]
    },
    {
     "data": {
      "application/vnd.jupyter.widget-view+json": {
       "model_id": "83669cfdd6ee4926bad8ed3b204d0a28",
       "version_major": 2,
       "version_minor": 0
      },
      "text/plain": [
       "IntProgress(value=0, max=2500)"
      ]
     },
     "metadata": {},
     "output_type": "display_data"
    },
    {
     "name": "stdout",
     "output_type": "stream",
     "text": [
      "KS-Test completed in 95.360050 s\n"
     ]
    }
   ],
   "source": [
    "print(\"Performing KS-Test\")\n",
    "start = time.time()\n",
    "f = IntProgress(min=0, max=len(MAX_INDICES)*N_TESTS) # instantiate the bar\n",
    "display(f) # display the bar\n",
    "\n",
    "for i in range(len(MAX_INDICES)):\n",
    "    model_data = NS_KICKS_2D[MAX_INDICES[i]]\n",
    "    for n_test in range(N_TESTS):\n",
    "        f.value += 1 \n",
    "        # Draw posterior sample\n",
    "        vt_draw = np.zeros(len(vt_all))        \n",
    "        for j in range(len(vt_draw)):\n",
    "            vt_draw[j] = vt_all[j][np.random.randint(len(vt_all[j]))]\n",
    "            \n",
    "        ks_stats[i, n_test], p_values[i, n_test] = ks_2samp(vt_draw, model_data)\n",
    "                             \n",
    "end = time.time()\n",
    "print(f\"KS-Test completed in {end - start:2f} s\")"
   ]
  },
  {
   "cell_type": "code",
   "execution_count": 24,
   "metadata": {},
   "outputs": [
    {
     "data": {
      "image/png": "[encoded data removed]",
      "text/plain": [
       "<Figure size 864x576 with 1 Axes>"
      ]
     },
     "metadata": {},
     "output_type": "display_data"
    }
   ],
   "source": [
    "f, ax= plt.subplots(1, 1,  figsize=(12,8)) \n",
    "for i in range(len(MAX_INDICES)):\n",
    "    plt.hist(ks_stats[i], histtype='step', label=f'({NS_KICK_MULT[MAX_INDICES[i]]}, {SIGMAS[MAX_INDICES[i]]})')\n",
    "\n",
    "layoutAxes(ax=ax, nameX='KS-Statistic',\\\n",
    "                   nameY='Number')\n",
    "plt.legend(fontsize=16)\n",
    "plt.show()"
   ]
  },
  {
   "cell_type": "markdown",
   "metadata": {},
   "source": [
    "## Results"
   ]
  },
  {
   "cell_type": "code",
   "execution_count": 25,
   "metadata": {},
   "outputs": [
    {
     "name": "stdout",
     "output_type": "stream",
     "text": [
      "My KS Test for 500, 0.4:  ks_stat = 0.094 +/- 0.023\n",
      "My KS Test for 500, 0.3:  ks_stat = 0.092 +/- 0.024\n",
      "My KS Test for 550, 0.4:  ks_stat = 0.061 +/- 0.019\n",
      "My KS Test for 450, 0.4:  ks_stat = 0.138 +/- 0.024\n",
      "My KS Test for 550, 0.3:  ks_stat = 0.068 +/- 0.016\n",
      "\n",
      "Sc KS Test for 500, 0.4:  ks_stat = 0.099 +/- 0.021,  p_value = 0.399+/-0.230\n",
      "Sc KS Test for 500, 0.3:  ks_stat = 0.103 +/- 0.021,  p_value = 0.356+/-0.208\n",
      "Sc KS Test for 550, 0.4:  ks_stat = 0.075 +/- 0.012,  p_value = 0.695+/-0.168\n",
      "Sc KS Test for 450, 0.4:  ks_stat = 0.145 +/- 0.021,  p_value = 0.072+/-0.073\n",
      "Sc KS Test for 550, 0.3:  ks_stat = 0.088 +/- 0.010,  p_value = 0.501+/-0.145\n"
     ]
    }
   ],
   "source": [
    "for i in range(len(MAX_INDICES)):\n",
    "    print(f\"My KS Test for {NS_KICK_MULT[MAX_INDICES[i]]}, {SIGMAS[MAX_INDICES[i]]}:\",\\\n",
    "          f\" ks_stat = {np.mean(ks_stats_me[i]):.3f} +/- {np.std(ks_stats_me[i]):.3f}\")  \n",
    "print()\n",
    "for i in range(len(MAX_INDICES)):    \n",
    "    print(f\"Sc KS Test for {NS_KICK_MULT[MAX_INDICES[i]]}, {SIGMAS[MAX_INDICES[i]]}:\",\\\n",
    "          f\" ks_stat = {np.mean(ks_stats[i]):.3f} +/- {np.std(ks_stats[i]):.3f}, \", \\\n",
    "          f\"p_value = {np.mean(p_values[i]):.3f}+/-{np.std(p_values[i]):.3f}\")"
   ]
  },
  {
   "cell_type": "code",
   "execution_count": null,
   "metadata": {},
   "outputs": [],
   "source": []
  }
 ],
 "metadata": {
  "kernelspec": {
   "display_name": "Python 3",
   "language": "python",
   "name": "python3"
  },
  "language_info": {
   "codemirror_mode": {
    "name": "ipython",
    "version": 3
   },
   "file_extension": ".py",
   "mimetype": "text/x-python",
   "name": "python",
   "nbconvert_exporter": "python",
   "pygments_lexer": "ipython3",
   "version": "3.7.0"
  }
 },
 "nbformat": 4,
 "nbformat_minor": 2
}
