{
 "cells": [
  {
   "cell_type": "code",
   "execution_count": 1,
   "metadata": {},
   "outputs": [],
   "source": [
    "import sys \n",
    "\n",
    "pathScripts = '../COMPAS/utils/CosmicIntegration' \n",
    "\n",
    "sys.path.append(pathScripts) "
   ]
  },
  {
   "cell_type": "code",
   "execution_count": 2,
   "metadata": {},
   "outputs": [],
   "source": [
    "import os, sys\n",
    "import numpy as np\n",
    "import matplotlib\n",
    "import matplotlib.pyplot as plt\n",
    "import matplotlib.patches as mpatches\n",
    "import matplotlib.gridspec as gridspec\n",
    "from matplotlib import rc\n",
    "import astropy.units as u\n",
    "from astropy import constants as const\n",
    "from   astropy.cosmology import WMAP9 as cosmology\n",
    "from scipy import stats\n",
    "from   scipy.optimize import newton\n",
    "import warnings\n",
    "import time\n",
    "\n",
    "import h5py as h5 \n",
    "\n",
    "import ClassCOMPAS, ClassMSSFR, ClassCosmicIntegrator \n",
    "import FastCosmicIntegration as FCI \n",
    "import selection_effects"
   ]
  },
  {
   "cell_type": "code",
   "execution_count": 3,
   "metadata": {},
   "outputs": [],
   "source": [
    "#Set latex environment for plots/labels\n",
    "import matplotlib\n",
    "matplotlib.rc('font', **{'family': 'serif'})\n",
    "matplotlib.rc('text', usetex=False)\n",
    "matplotlib.rcParams['text.latex.preamble'] = [r'\\boldmath']\n",
    "plt.rcParams.update({'font.family':'serif'})\n",
    "\n",
    "\n",
    "fl=22\n",
    "fm=18\n",
    "fs=16\n",
    "import seaborn as sns\n",
    "sns.set_style(\"white\")"
   ]
  },
  {
   "cell_type": "code",
   "execution_count": 4,
   "metadata": {},
   "outputs": [],
   "source": [
    "# this is just a little function that we will use to make the plot more beautiful (bigger ticks, labels)\n",
    "# However, you do not have to use this (just uncommoment \"layoutAxes\" everywhere)\n",
    "from matplotlib.ticker import (FormatStrFormatter,\n",
    "                               AutoMinorLocator)\n",
    "\n",
    "def layoutAxes(ax, nameX='', nameY='', \\\n",
    "               labelSizeMajor = 10, fontsize = fm, second=False, labelpad=None, setMinor=True):\n",
    "    matplotlib.rc('font', **{'family': 'serif'})\n",
    "\n",
    "    \"\"\"\n",
    "    Tiny code to do the layout for axes in matplotlib\n",
    "    \"\"\"\n",
    "    tickLengthMajor = 10\n",
    "    tickLengthMinor = 5\n",
    "    tickWidthMajor  = 1.5\n",
    "    tickWidthMinor  = 1.5\n",
    "    \n",
    "    #rc('axes', linewidth=2)\n",
    "    #label1 always refers to first axis not the twin \n",
    "    if not second:\n",
    "        for tick in ax.xaxis.get_major_ticks():\n",
    "            tick.label1.set_fontsize(fontsize)\n",
    "            #tick.label1.set_fontweight('bold')\n",
    "        for tick in ax.yaxis.get_major_ticks():\n",
    "            tick.label1.set_fontsize(fontsize)\n",
    "            #tick.label1.set_fontweight('bold')\n",
    "    if second:\n",
    "        for tick in ax.xaxis.get_major_ticks():\n",
    "            tick.label2.set_fontsize(fontsize)\n",
    "            #tick.label1.set_fontweight('bold')\n",
    "        for tick in ax.yaxis.get_major_ticks():\n",
    "            tick.label2.set_fontsize(fontsize)\n",
    "            #tick.label1.set_fontweight('bold')\n",
    "    for axis in ['top','bottom','left','right']:\n",
    "        ax.spines[axis].set_linewidth(1.2)\n",
    "    ax.tick_params(length=tickLengthMajor, width=tickWidthMajor, which='major')\n",
    "    ax.tick_params(length=tickLengthMinor, width=tickWidthMinor, which='minor')\n",
    "    ax.set_xlabel(nameX, fontsize=fontsize,labelpad=labelpad)#,fontweight='bold')\n",
    "    ax.set_ylabel(nameY, fontsize=fontsize,labelpad=labelpad)#, fontweight='bold')    \n",
    "    \n",
    "    if setMinor==True:\n",
    "        # add minor ticks:\n",
    "        ax.xaxis.set_minor_locator(AutoMinorLocator())\n",
    "        ax.yaxis.set_minor_locator(AutoMinorLocator())\n",
    "\n",
    "    return ax\n"
   ]
  },
  {
   "cell_type": "code",
   "execution_count": 5,
   "metadata": {},
   "outputs": [],
   "source": [
    "bh_kick = 200\n",
    "ns_kick = 500\n",
    "sigma = 0.4\n",
    "\n",
    "hobbs_pathData        = os.environ['SCRATCH']+f'/supernova_remnant_det/hobbs_combined.h5'\n",
    "mm_pathData        = os.environ['SCRATCH'] + f\"/supernova_remnant_det/mullermandel_combined.h5\""
   ]
  },
  {
   "cell_type": "code",
   "execution_count": 31,
   "metadata": {},
   "outputs": [],
   "source": [
    "# First define the parameters\n",
    "\n",
    "# For what DCO would you like the rate?  options: all, BHBH, BHNS, BNS\n",
    "# dco_type        = \"all\"\n",
    "\n",
    "weight_column   = None\n",
    "                        \n",
    "merges_hubble_time     = True\n",
    "pessimistic_CEE        = True\n",
    "no_RLOF_after_CEE      = True\n",
    "\n",
    "# Options for the redshift evolution \n",
    "max_redshift           = 10.0\n",
    "max_redshift_detection = 2.0\n",
    "redshift_step          = 0.001\n",
    "z_first_SF             = 10\n",
    "\n",
    "# Metallicity of the Universe\n",
    "min_logZ               = -12.0 \n",
    "max_logZ               = 0.0 \n",
    "step_logZ              = 0.01\n",
    "\n",
    "#and detector sensitivity\n",
    "sensitivity            = \"O1\" \n",
    "snr_threshold          = 8 \n",
    "\n",
    "Mc_max                 = 300.0 \n",
    "Mc_step                = 0.1 \n",
    "eta_max                = 0.25 \n",
    "eta_step               = 0.01\n",
    "snr_max                = 1000.0 \n",
    "snr_step               = 0.1\n",
    "\n",
    "# Parameters to calculate the representing SF mass (make sure these match YOUR simulation!)\n",
    "m1_min          = 5 * u.Msun \n",
    "m1_max          = 150 * u.Msun\n",
    "m2_min          = 0.1 * u.Msun\n",
    "fbin            = 0.7\n",
    "\n",
    "# Parameters determining dP/dZ and SFR(z), default options from Neijssel 2019\n",
    "aSF             = 0.01 \n",
    "bSF             = 2.77 \n",
    "cSF             = 2.90 \n",
    "dSF             = 4.70\n",
    "#\n",
    "mu0             = 0.035 \n",
    "muz             = -0.23 \n",
    "sigma0          = 0.39\n",
    "sigmaz          = 0. \n",
    "alpha           = 0.0 "
   ]
  },
  {
   "cell_type": "markdown",
   "metadata": {},
   "source": [
    "# Hobbs"
   ]
  },
  {
   "cell_type": "markdown",
   "metadata": {},
   "source": [
    "## BHNS"
   ]
  },
  {
   "cell_type": "code",
   "execution_count": 46,
   "metadata": {},
   "outputs": [
    {
     "name": "stderr",
     "output_type": "stream",
     "text": [
      "/opt/apps/intel19/python3/3.7.0/lib/python3.7/site-packages/ipykernel_launcher.py:16: UserWarning: Maximum chirp mass used for detectability calculation is below maximum binary chirp mass * (1+maximum redshift for detectability calculation)\n",
      "  app.launch_new_instance()\n"
     ]
    },
    {
     "name": "stdout",
     "output_type": "stream",
     "text": [
      "Average_SF_mass_needed =  2964438082.821471 solMass\n"
     ]
    }
   ],
   "source": [
    "dco_type        = \"BHNS\"\n",
    "\n",
    "hobbs_bhns_detection_rate, hobbs_bhns_formation_rate, hobbs_bhns_merger_rate, hobbs_bhns_redshifts, hobbs_bhns_COMPAS = FCI.find_detection_rate(\n",
    "    hobbs_pathData, dco_type=dco_type, weight_column=weight_column,\n",
    "    merges_hubble_time=merges_hubble_time, pessimistic_CEE=pessimistic_CEE,\n",
    "    no_RLOF_after_CEE=no_RLOF_after_CEE, max_redshift=max_redshift,\n",
    "    max_redshift_detection=max_redshift_detection,\n",
    "    redshift_step=redshift_step, z_first_SF=z_first_SF,\n",
    "    m1_min=m1_min, m1_max=m1_max, m2_min=m2_min,\n",
    "    fbin=fbin, aSF=aSF, bSF=bSF, cSF=cSF, dSF=dSF,\n",
    "    mu0=mu0, muz=muz, sigma0=sigma0, alpha=alpha,\n",
    "    min_logZ=min_logZ, max_logZ=max_logZ, step_logZ=step_logZ,\n",
    "    sensitivity=sensitivity, snr_threshold=snr_threshold,\n",
    "    Mc_max=Mc_max, Mc_step=Mc_step,\n",
    "    eta_max=eta_max, eta_step=eta_step,\n",
    "    snr_max=snr_max, snr_step=snr_step)"
   ]
  },
  {
   "cell_type": "code",
   "execution_count": 50,
   "metadata": {},
   "outputs": [],
   "source": [
    "hobbs_bhns_chirp_masses = (hobbs_bhns_COMPAS.mass1*hobbs_bhns_COMPAS.mass2)**(3./5.) / (hobbs_bhns_COMPAS.mass1 + hobbs_bhns_COMPAS.mass2)**(1./5.)\n",
    "\n",
    "# sum things up across binaries\n",
    "hobbs_bhns_total_formation_rate = np.sum(hobbs_bhns_formation_rate, axis=0)\n",
    "hobbs_bhns_total_merger_rate = np.sum(hobbs_bhns_merger_rate, axis=0)\n",
    "hobbs_bhns_merger_rate_by_binary = np.sum(hobbs_bhns_merger_rate, axis=1)\n",
    "hobbs_bhns_total_detection_rate = np.sum(hobbs_bhns_detection_rate, axis=0)\n",
    "\n",
    "# and across redshifts\n",
    "hobbs_bhns_cumulative_detection_rate = np.cumsum(hobbs_bhns_total_detection_rate)\n",
    "hobbs_bhns_detection_rate_by_binary = np.sum(hobbs_bhns_detection_rate, axis=1)"
   ]
  },
  {
   "cell_type": "markdown",
   "metadata": {},
   "source": [
    "## BNS"
   ]
  },
  {
   "cell_type": "code",
   "execution_count": 47,
   "metadata": {},
   "outputs": [
    {
     "name": "stderr",
     "output_type": "stream",
     "text": [
      "/opt/apps/intel19/python3/3.7.0/lib/python3.7/site-packages/ipykernel_launcher.py:16: UserWarning: Maximum chirp mass used for detectability calculation is below maximum binary chirp mass * (1+maximum redshift for detectability calculation)\n",
      "  app.launch_new_instance()\n"
     ]
    },
    {
     "name": "stdout",
     "output_type": "stream",
     "text": [
      "Average_SF_mass_needed =  2962986432.1794915 solMass\n"
     ]
    }
   ],
   "source": [
    "dco_type   =   \"BNS\"\n",
    "\n",
    "hobbs_bns_detection_rate, hobbs_bns_formation_rate, hobbs_bns_merger_rate, hobbs_bns_redshifts, hobbs_bns_COMPAS = FCI.find_detection_rate(\n",
    "    hobbs_pathData, dco_type=dco_type, weight_column=weight_column,\n",
    "    merges_hubble_time=merges_hubble_time, pessimistic_CEE=pessimistic_CEE,\n",
    "    no_RLOF_after_CEE=no_RLOF_after_CEE, max_redshift=max_redshift,\n",
    "    max_redshift_detection=max_redshift_detection,\n",
    "    redshift_step=redshift_step, z_first_SF=z_first_SF,\n",
    "    m1_min=m1_min, m1_max=m1_max, m2_min=m2_min,\n",
    "    fbin=fbin, aSF=aSF, bSF=bSF, cSF=cSF, dSF=dSF,\n",
    "    mu0=mu0, muz=muz, sigma0=sigma0, alpha=alpha,\n",
    "    min_logZ=min_logZ, max_logZ=max_logZ, step_logZ=step_logZ,\n",
    "    sensitivity=sensitivity, snr_threshold=snr_threshold,\n",
    "    Mc_max=Mc_max, Mc_step=Mc_step,\n",
    "    eta_max=eta_max, eta_step=eta_step,\n",
    "    snr_max=snr_max, snr_step=snr_step)"
   ]
  },
  {
   "cell_type": "code",
   "execution_count": 59,
   "metadata": {},
   "outputs": [],
   "source": [
    "hobbs_bns_chirp_masses = (hobbs_bns_COMPAS.mass1*hobbs_bns_COMPAS.mass2)**(3./5.) / (hobbs_bns_COMPAS.mass1 + hobbs_bns_COMPAS.mass2)**(1./5.)\n",
    "\n",
    "# sum things up across binaries\n",
    "hobbs_bns_total_formation_rate = np.sum(hobbs_bns_formation_rate, axis=0)\n",
    "hobbs_bns_total_merger_rate = np.sum(hobbs_bns_merger_rate, axis=0)\n",
    "hobbs_bns_merger_rate_by_binary = np.sum(hobbs_bns_merger_rate, axis=1)\n",
    "hobbs_bns_total_detection_rate = np.sum(hobbs_bns_detection_rate, axis=0)\n",
    "\n",
    "# and across redshifts\n",
    "hobbs_bns_cumulative_detection_rate = np.cumsum(hobbs_bns_total_detection_rate)\n",
    "hobbs_bns_detection_rate_by_binary = np.sum(hobbs_bns_detection_rate, axis=1)"
   ]
  },
  {
   "cell_type": "code",
   "execution_count": 65,
   "metadata": {},
   "outputs": [],
   "source": [
    "# ###########################\n",
    "# #Start plotting\n",
    "\n",
    "# # set some constants for the plots\n",
    "# plt.rc('font', family='serif')\n",
    "# fs = 20\n",
    "# lw = 3\n",
    "\n",
    "# fig, axes = plt.subplots(2, 2, figsize=(20, 20))\n",
    "\n",
    "# axes[0,0].plot(hobbs_redshifts, hobbs_total_formation_rate, lw=lw)\n",
    "# axes[0,0].set_xlabel('Redshift', fontsize=fs)\n",
    "# axes[0,0].set_ylabel(r'Formation rate $[\\rm \\frac{\\mathrm{d}N}{\\mathrm{d}Gpc^3 \\mathrm{d}yr}]$', fontsize=fs)\n",
    "\n",
    "# axes[0,1].plot(hobbs_redshifts, hobbs_total_merger_rate, lw=lw)\n",
    "# axes[0,1].set_xlabel('Redshift', fontsize=fs)\n",
    "# axes[0,1].set_ylabel(r'Merger rate $[\\rm \\frac{\\mathrm{d}N}{\\mathrm{d}Gpc^3 \\mathrm{d}yr}]$', fontsize=fs)\n",
    "\n",
    "# axes[1,0].plot(hobbs_redshifts[:len(hobbs_cumulative_detection_rate)], hobbs_cumulative_detection_rate, lw=lw)\n",
    "# axes[1,0].set_xlabel('Redshift', fontsize=fs)\n",
    "# axes[1,0].set_ylabel(r'Cumulative detection rate $[\\rm \\frac{\\mathrm{d}N}{\\mathrm{d}yr}]$', fontsize=fs)\n",
    "\n",
    "# axes[1,1].hist(hobbs_chirp_masses, weights=hobbs_detection_rate_by_binary, bins=25, range=(0, 50))\n",
    "# axes[1,1].set_xlabel(r'Chirp mass, $\\mathcal{M}_c$', fontsize=fs)\n",
    "# axes[1,1].set_ylabel(r'Mass distrbution of detections $[\\rm \\frac{\\mathrm{d}N}{\\mathrm{d}\\mathcal{M}_c \\mathrm{d}yr}]$', fontsize=fs)\n",
    "\n",
    "# #########################\n",
    "# #Plotvalues\n",
    "\n",
    "# # Add text upper left corner\n",
    "# axes[0,0].text(0.05,0.8, \n",
    "#         \"mu0={} \\nmuz={} \\nsigma0={} \\nsigmaz={} \\nalpha={}\".format(mu0,muz,sigma0,sigmaz,alpha), \n",
    "#         transform=axes[0,0].transAxes, size = fs) \n",
    "\n",
    "# for ax in axes.flatten():\n",
    "#     ax.tick_params(labelsize=0.9*fs)\n",
    "\n",
    "# # Save and show :)\n",
    "# # plt.savefig(imageDir + \"RateInfoHist_mu0{}_muz{}_alpha{}_sigma0{}_sigmaz{}.png\".format(mu0, muz, alpha, sigma0, sigmaz), bbox_inches='tight') \n"
   ]
  },
  {
   "cell_type": "markdown",
   "metadata": {},
   "source": [
    "# MullerMandel"
   ]
  },
  {
   "cell_type": "markdown",
   "metadata": {},
   "source": [
    "## BHNS"
   ]
  },
  {
   "cell_type": "code",
   "execution_count": 60,
   "metadata": {},
   "outputs": [
    {
     "name": "stderr",
     "output_type": "stream",
     "text": [
      "/opt/apps/intel19/python3/3.7.0/lib/python3.7/site-packages/ipykernel_launcher.py:16: UserWarning: Maximum chirp mass used for detectability calculation is below maximum binary chirp mass * (1+maximum redshift for detectability calculation)\n",
      "  app.launch_new_instance()\n"
     ]
    },
    {
     "name": "stdout",
     "output_type": "stream",
     "text": [
      "Average_SF_mass_needed =  2965374545.378311 solMass\n"
     ]
    }
   ],
   "source": [
    "dco_type = \"BHNS\"\n",
    "\n",
    "mm_bhns_detection_rate, mm_bhns_formation_rate, mm_bhns_merger_rate, mm_bhns_redshifts, mm_bhns_COMPAS = FCI.find_detection_rate(\n",
    "    mm_pathData, dco_type=dco_type, weight_column=weight_column,\n",
    "    merges_hubble_time=merges_hubble_time, pessimistic_CEE=pessimistic_CEE,\n",
    "    no_RLOF_after_CEE=no_RLOF_after_CEE, max_redshift=max_redshift,\n",
    "    max_redshift_detection=max_redshift_detection,\n",
    "    redshift_step=redshift_step, z_first_SF=z_first_SF,\n",
    "    m1_min=m1_min, m1_max=m1_max, m2_min=m2_min,\n",
    "    fbin=fbin, aSF=aSF, bSF=bSF, cSF=cSF, dSF=dSF,\n",
    "    mu0=mu0, muz=muz, sigma0=sigma0, alpha=alpha,\n",
    "    min_logZ=min_logZ, max_logZ=max_logZ, step_logZ=step_logZ,\n",
    "    sensitivity=sensitivity, snr_threshold=snr_threshold,\n",
    "    Mc_max=Mc_max, Mc_step=Mc_step,\n",
    "    eta_max=eta_max, eta_step=eta_step,\n",
    "    snr_max=snr_max, snr_step=snr_step)\n"
   ]
  },
  {
   "cell_type": "code",
   "execution_count": 61,
   "metadata": {},
   "outputs": [],
   "source": [
    "mm_bhns_chirp_masses = (mm_bhns_COMPAS.mass1*mm_bhns_COMPAS.mass2)**(3./5.) / (mm_bhns_COMPAS.mass1 + mm_bhns_COMPAS.mass2)**(1./5.)\n",
    "\n",
    "# sum things up across binaries\n",
    "mm_bhns_total_formation_rate = np.sum(mm_bhns_formation_rate, axis=0)\n",
    "mm_bhns_total_merger_rate = np.sum(mm_bhns_merger_rate, axis=0)\n",
    "mm_bhns_merger_rate_by_binary = np.sum(mm_bhns_merger_rate, axis=1)\n",
    "mm_bhns_total_detection_rate = np.sum(mm_bhns_detection_rate, axis=0)\n",
    "\n",
    "# and across redshifts\n",
    "mm_bhns_cumulative_detection_rate = np.cumsum(mm_bhns_total_detection_rate)\n",
    "mm_bhns_detection_rate_by_binary = np.sum(mm_bhns_detection_rate, axis=1)"
   ]
  },
  {
   "cell_type": "markdown",
   "metadata": {},
   "source": [
    "## BNS"
   ]
  },
  {
   "cell_type": "code",
   "execution_count": 62,
   "metadata": {},
   "outputs": [
    {
     "name": "stderr",
     "output_type": "stream",
     "text": [
      "/opt/apps/intel19/python3/3.7.0/lib/python3.7/site-packages/ipykernel_launcher.py:16: UserWarning: Maximum chirp mass used for detectability calculation is below maximum binary chirp mass * (1+maximum redshift for detectability calculation)\n",
      "  app.launch_new_instance()\n"
     ]
    },
    {
     "name": "stdout",
     "output_type": "stream",
     "text": [
      "Average_SF_mass_needed =  2969927584.492167 solMass\n"
     ]
    }
   ],
   "source": [
    "dco_type = \"BNS\"\n",
    "\n",
    "mm_bns_detection_rate, mm_bns_formation_rate, mm_bns_merger_rate, mm_bns_redshifts, mm_bns_COMPAS = FCI.find_detection_rate(\n",
    "    mm_pathData, dco_type=dco_type, weight_column=weight_column,\n",
    "    merges_hubble_time=merges_hubble_time, pessimistic_CEE=pessimistic_CEE,\n",
    "    no_RLOF_after_CEE=no_RLOF_after_CEE, max_redshift=max_redshift,\n",
    "    max_redshift_detection=max_redshift_detection,\n",
    "    redshift_step=redshift_step, z_first_SF=z_first_SF,\n",
    "    m1_min=m1_min, m1_max=m1_max, m2_min=m2_min,\n",
    "    fbin=fbin, aSF=aSF, bSF=bSF, cSF=cSF, dSF=dSF,\n",
    "    mu0=mu0, muz=muz, sigma0=sigma0, alpha=alpha,\n",
    "    min_logZ=min_logZ, max_logZ=max_logZ, step_logZ=step_logZ,\n",
    "    sensitivity=sensitivity, snr_threshold=snr_threshold,\n",
    "    Mc_max=Mc_max, Mc_step=Mc_step,\n",
    "    eta_max=eta_max, eta_step=eta_step,\n",
    "    snr_max=snr_max, snr_step=snr_step)\n"
   ]
  },
  {
   "cell_type": "code",
   "execution_count": 63,
   "metadata": {},
   "outputs": [],
   "source": [
    "mm_bns_chirp_masses = (mm_bns_COMPAS.mass1*mm_bns_COMPAS.mass2)**(3./5.) / (mm_bns_COMPAS.mass1 + mm_bns_COMPAS.mass2)**(1./5.)\n",
    "\n",
    "# sum things up across binaries\n",
    "mm_bns_total_formation_rate = np.sum(mm_bns_formation_rate, axis=0)\n",
    "mm_bns_total_merger_rate = np.sum(mm_bns_merger_rate, axis=0)\n",
    "mm_bns_merger_rate_by_binary = np.sum(mm_bns_merger_rate, axis=1)\n",
    "mm_bns_total_detection_rate = np.sum(mm_bns_detection_rate, axis=0)\n",
    "\n",
    "# and across redshifts\n",
    "mm_bns_cumulative_detection_rate = np.cumsum(mm_bns_total_detection_rate)\n",
    "mm_bns_detection_rate_by_binary = np.sum(mm_bns_detection_rate, axis=1)"
   ]
  },
  {
   "cell_type": "code",
   "execution_count": 64,
   "metadata": {},
   "outputs": [],
   "source": [
    "# ###########################\n",
    "# #Start plotting\n",
    "\n",
    "# # set some constants for the plots\n",
    "# plt.rc('font', family='serif')\n",
    "# fs = 20\n",
    "# lw = 3\n",
    "\n",
    "# fig, axes = plt.subplots(2, 2, figsize=(20, 20))\n",
    "\n",
    "# axes[0,0].plot(mm_redshifts, mm_total_formation_rate, lw=lw)\n",
    "# axes[0,0].set_xlabel('Redshift', fontsize=fs)\n",
    "# axes[0,0].set_ylabel(r'Formation rate $[\\rm \\frac{\\mathrm{d}N}{\\mathrm{d}Gpc^3 \\mathrm{d}yr}]$', fontsize=fs)\n",
    "\n",
    "# axes[0,1].plot(mm_redshifts, mm_total_merger_rate, lw=lw)\n",
    "# axes[0,1].set_xlabel('Redshift', fontsize=fs)\n",
    "# axes[0,1].set_ylabel(r'Merger rate $[\\rm \\frac{\\mathrm{d}N}{\\mathrm{d}Gpc^3 \\mathrm{d}yr}]$', fontsize=fs)\n",
    "\n",
    "# axes[1,0].plot(mm_redshifts[:len(mm_cumulative_detection_rate)], mm_cumulative_detection_rate, lw=lw)\n",
    "# axes[1,0].set_xlabel('Redshift', fontsize=fs)\n",
    "# axes[1,0].set_ylabel(r'Cumulative detection rate $[\\rm \\frac{\\mathrm{d}N}{\\mathrm{d}yr}]$', fontsize=fs)\n",
    "\n",
    "# axes[1,1].hist(mm_chirp_masses, weights=mm_detection_rate_by_binary, bins=25, range=(0, 50))\n",
    "# axes[1,1].set_xlabel(r'Chirp mass, $\\mathcal{M}_c$', fontsize=fs)\n",
    "# axes[1,1].set_ylabel(r'Mass distrbution of detections $[\\rm \\frac{\\mathrm{d}N}{\\mathrm{d}\\mathcal{M}_c \\mathrm{d}yr}]$', fontsize=fs)\n",
    "\n",
    "# #########################\n",
    "# #Plotvalues\n",
    "\n",
    "# # Add text upper left corner\n",
    "# axes[0,0].text(0.05,0.8, \n",
    "#         \"mu0={} \\nmuz={} \\nsigma0={} \\nsigmaz={} \\nalpha={}\".format(mu0,muz,sigma0,sigmaz,alpha), \n",
    "#         transform=axes[0,0].transAxes, size = fs) \n",
    "\n",
    "# for ax in axes.flatten():\n",
    "#     ax.tick_params(labelsize=0.9*fs)\n",
    "\n",
    "# # Save and show :)\n",
    "# # plt.savefig(imageDir + \"RateInfoHist_mu0{}_muz{}_alpha{}_sigma0{}_sigmaz{}.png\".format(mu0, muz, alpha, sigma0, sigmaz), bbox_inches='tight') \n",
    "            "
   ]
  },
  {
   "cell_type": "markdown",
   "metadata": {},
   "source": [
    "# Some Useful Info"
   ]
  },
  {
   "cell_type": "code",
   "execution_count": 66,
   "metadata": {},
   "outputs": [
    {
     "name": "stdout",
     "output_type": "stream",
     "text": [
      "Hobbs Local BHNS Merger Rate: 10.28 / yr/ cubic Gpc\n",
      "MULLERMANDEL Local BHNS Merger Rate: 134.19 / yr / cubic Gpc\n"
     ]
    }
   ],
   "source": [
    "print(f\"Hobbs Local BHNS Merger Rate: {hobbs_bhns_total_merger_rate[0]:.2f} / yr/ cubic Gpc\")\n",
    "print(f\"MULLERMANDEL Local BHNS Merger Rate: {mm_bhns_total_merger_rate[0]:.2f} / yr / cubic Gpc\")"
   ]
  },
  {
   "cell_type": "code",
   "execution_count": 67,
   "metadata": {},
   "outputs": [
    {
     "name": "stdout",
     "output_type": "stream",
     "text": [
      "Number of BHNS mergers in Hobbs : 9168\n",
      "Number of BHNS mergers in MULLERMANDEL: 16661\n"
     ]
    }
   ],
   "source": [
    "print(\"Number of BHNS mergers in Hobbs :\", len(hobbs_bhns_chirp_masses))\n",
    "print(\"Number of BHNS mergers in MULLERMANDEL:\", len(mm_bhns_chirp_masses))"
   ]
  },
  {
   "cell_type": "code",
   "execution_count": 68,
   "metadata": {},
   "outputs": [
    {
     "name": "stdout",
     "output_type": "stream",
     "text": [
      "Hobbs Local BNS Merger Rate: 3.00 / yr/ cubic Gpc\n",
      "MULLERMANDEL Local BNS Merger Rate: 19.48 / yr / cubic Gpc\n"
     ]
    }
   ],
   "source": [
    "print(f\"Hobbs Local BNS Merger Rate: {hobbs_bns_total_merger_rate[0]:.2f} / yr/ cubic Gpc\")\n",
    "print(f\"MULLERMANDEL Local BNS Merger Rate: {mm_bns_total_merger_rate[0]:.2f} / yr / cubic Gpc\")"
   ]
  },
  {
   "cell_type": "code",
   "execution_count": 69,
   "metadata": {},
   "outputs": [
    {
     "name": "stdout",
     "output_type": "stream",
     "text": [
      "Number of BNS mergers in Hobbs : 4514\n",
      "Number of BNS mergers in MULLERMANDEL: 4534\n"
     ]
    }
   ],
   "source": [
    "print(\"Number of BNS mergers in Hobbs :\", len(hobbs_bns_chirp_masses))\n",
    "print(\"Number of BNS mergers in MULLERMANDEL:\", len(mm_bns_chirp_masses))"
   ]
  },
  {
   "cell_type": "markdown",
   "metadata": {},
   "source": [
    "# Get error bars"
   ]
  },
  {
   "cell_type": "code",
   "execution_count": 114,
   "metadata": {},
   "outputs": [],
   "source": [
    "# get error bars via bootstrapping"
   ]
  },
  {
   "cell_type": "code",
   "execution_count": 98,
   "metadata": {},
   "outputs": [],
   "source": [
    "def bootstrap_merger_rate(merger_rate, n_boot = None):\n",
    "    if n_boot is None:\n",
    "        n_boot = merger_rate.shape[0]\n",
    "        \n",
    "    indices = np.random.randint(merger_rate.shape[0], size=n_boot)\n",
    "    bootstrapped_merger_rate = merger_rate[indices]\n",
    "    boot_total_merger_rate = np.sum(bootstrapped_merger_rate, axis=0)\n",
    "\n",
    "    return boot_total_merger_rate[0] # return only local merger rate"
   ]
  },
  {
   "cell_type": "markdown",
   "metadata": {},
   "source": [
    "## Hobbs"
   ]
  },
  {
   "cell_type": "code",
   "execution_count": 113,
   "metadata": {},
   "outputs": [
    {
     "name": "stdout",
     "output_type": "stream",
     "text": [
      "Bootstrapping completed in 64.49 s\n"
     ]
    }
   ],
   "source": [
    "n_samples = 200\n",
    "hobbs_local_bhns_mergers = np.zeros(n_samples)\n",
    "\n",
    "start = time.time()\n",
    "\n",
    "for i in range(n_samples):\n",
    "    hobbs_local_bhns_mergers[i] = bootstrap_merger_rate(hobbs_bhns_merger_rate)\n",
    "    \n",
    "end = time.time()\n",
    "print(f\"Bootstrapping completed in {end-start:.2f} s\")"
   ]
  },
  {
   "cell_type": "code",
   "execution_count": 114,
   "metadata": {},
   "outputs": [
    {
     "name": "stdout",
     "output_type": "stream",
     "text": [
      "Bootstrapping completed in 30.95 s\n"
     ]
    }
   ],
   "source": [
    "n_samples = 200\n",
    "hobbs_local_bns_mergers = np.zeros(n_samples)\n",
    "\n",
    "start = time.time()\n",
    "\n",
    "for i in range(n_samples):\n",
    "    hobbs_local_bns_mergers[i] = bootstrap_merger_rate(hobbs_bns_merger_rate)\n",
    "    \n",
    "end = time.time()\n",
    "print(f\"Bootstrapping completed in {end-start:.2f} s\")"
   ]
  },
  {
   "cell_type": "code",
   "execution_count": 115,
   "metadata": {},
   "outputs": [
    {
     "name": "stdout",
     "output_type": "stream",
     "text": [
      "HOBBS Local BHNS Merger Rate: 10.26 ± 0.30 / yr/ cubic Gpc\n"
     ]
    }
   ],
   "source": [
    "mean = np.average(hobbs_local_bhns_mergers)\n",
    "err = np.std(hobbs_local_bhns_mergers)\n",
    "print(f\"HOBBS Local BHNS Merger Rate: {mean:.2f} ± {err:.2f} / yr/ cubic Gpc\")"
   ]
  },
  {
   "cell_type": "code",
   "execution_count": 116,
   "metadata": {},
   "outputs": [
    {
     "name": "stdout",
     "output_type": "stream",
     "text": [
      "HOBBS Local BNS Merger Rate: 3.00 ± 0.18 / yr/ cubic Gpc\n"
     ]
    }
   ],
   "source": [
    "mean = np.average(hobbs_local_bns_mergers)\n",
    "err = np.std(hobbs_local_bns_mergers)\n",
    "print(f\"HOBBS Local BNS Merger Rate: {mean:.2f} ± {err:.2f} / yr/ cubic Gpc\")"
   ]
  },
  {
   "cell_type": "markdown",
   "metadata": {},
   "source": [
    "## MULLERMANDEL"
   ]
  },
  {
   "cell_type": "code",
   "execution_count": 117,
   "metadata": {},
   "outputs": [
    {
     "name": "stdout",
     "output_type": "stream",
     "text": [
      "Bootstrapping completed in 116.22 s\n"
     ]
    }
   ],
   "source": [
    "n_samples = 200\n",
    "mm_local_bhns_mergers = np.zeros(n_samples)\n",
    "\n",
    "start = time.time()\n",
    "\n",
    "for i in range(n_samples):\n",
    "    mm_local_bhns_mergers[i] = bootstrap_merger_rate(mm_bhns_merger_rate)\n",
    "    \n",
    "end = time.time()\n",
    "print(f\"Bootstrapping completed in {end-start:.2f} s\")"
   ]
  },
  {
   "cell_type": "code",
   "execution_count": 118,
   "metadata": {},
   "outputs": [
    {
     "name": "stdout",
     "output_type": "stream",
     "text": [
      "Bootstrapping completed in 32.33 s\n"
     ]
    }
   ],
   "source": [
    "n_samples = 200\n",
    "mm_local_bns_mergers = np.zeros(n_samples)\n",
    "\n",
    "start = time.time()\n",
    "\n",
    "for i in range(n_samples):\n",
    "    mm_local_bns_mergers[i] = bootstrap_merger_rate(mm_bns_merger_rate)\n",
    "    \n",
    "end = time.time()\n",
    "print(f\"Bootstrapping completed in {end-start:.2f} s\")"
   ]
  },
  {
   "cell_type": "code",
   "execution_count": 119,
   "metadata": {},
   "outputs": [
    {
     "name": "stdout",
     "output_type": "stream",
     "text": [
      "MULLERMANDEL Local BHNS Merger Rate: 134.08 ± 3.07 / yr/ cubic Gpc\n"
     ]
    }
   ],
   "source": [
    "mean = np.average(mm_local_bhns_mergers)\n",
    "err = np.std(mm_local_bhns_mergers)\n",
    "print(f\"MULLERMANDEL Local BHNS Merger Rate: {mean:.2f} ± {err:.2f} / yr/ cubic Gpc\")"
   ]
  },
  {
   "cell_type": "code",
   "execution_count": 120,
   "metadata": {},
   "outputs": [
    {
     "name": "stdout",
     "output_type": "stream",
     "text": [
      "MULLERMANDEL Local BNS Merger Rate: 19.45 ± 0.51 / yr/ cubic Gpc\n"
     ]
    }
   ],
   "source": [
    "mean = np.average(mm_local_bns_mergers)\n",
    "err = np.std(mm_local_bns_mergers)\n",
    "print(f\"MULLERMANDEL Local BNS Merger Rate: {mean:.2f} ± {err:.2f} / yr/ cubic Gpc\")"
   ]
  },
  {
   "cell_type": "markdown",
   "metadata": {},
   "source": [
    "# Get error bars via repeated calculations"
   ]
  },
  {
   "cell_type": "code",
   "execution_count": 17,
   "metadata": {},
   "outputs": [],
   "source": [
    "def get_merger_rates(pathData, n_samples, dco_type):\n",
    "    merger_rates = np.zeros(n_samples)\n",
    "    \n",
    "    for i in range(n_samples):\n",
    "        detection_rate, formation_rate, merger_rate, redshifts, COMPAS = FCI.find_detection_rate(\n",
    "        pathData, dco_type=dco_type, weight_column=weight_column,\n",
    "        merges_hubble_time=merges_hubble_time, pessimistic_CEE=pessimistic_CEE,\n",
    "        no_RLOF_after_CEE=no_RLOF_after_CEE, max_redshift=max_redshift,\n",
    "        max_redshift_detection=max_redshift_detection,\n",
    "        redshift_step=redshift_step, z_first_SF=z_first_SF,\n",
    "        m1_min=m1_min, m1_max=m1_max, m2_min=m2_min,\n",
    "        fbin=fbin, aSF=aSF, bSF=bSF, cSF=cSF, dSF=dSF,\n",
    "        mu0=mu0, muz=muz, sigma0=sigma0, alpha=alpha,\n",
    "        min_logZ=min_logZ, max_logZ=max_logZ, step_logZ=step_logZ,\n",
    "        sensitivity=sensitivity, snr_threshold=snr_threshold,\n",
    "        Mc_max=Mc_max, Mc_step=Mc_step,\n",
    "        eta_max=eta_max, eta_step=eta_step,\n",
    "        snr_max=snr_max, snr_step=snr_step)\n",
    "\n",
    "        total_merger_rate = np.sum(merger_rate, axis=0)\n",
    "\n",
    "        merger_rates[i] = total_merger_rate[0]\n",
    "\n",
    "    return merger_rates"
   ]
  },
  {
   "cell_type": "markdown",
   "metadata": {},
   "source": [
    "## Get average rates"
   ]
  },
  {
   "cell_type": "code",
   "execution_count": 18,
   "metadata": {},
   "outputs": [],
   "source": [
    "n_samples = 10"
   ]
  },
  {
   "cell_type": "markdown",
   "metadata": {},
   "source": [
    "### bhns"
   ]
  },
  {
   "cell_type": "code",
   "execution_count": 19,
   "metadata": {},
   "outputs": [
    {
     "name": "stderr",
     "output_type": "stream",
     "text": [
      "/opt/apps/intel19/python3/3.7.0/lib/python3.7/site-packages/ipykernel_launcher.py:18: UserWarning: Maximum chirp mass used for detectability calculation is below maximum binary chirp mass * (1+maximum redshift for detectability calculation)\n"
     ]
    },
    {
     "name": "stdout",
     "output_type": "stream",
     "text": [
      "Average_SF_mass_needed =  2972723529.5440054 solMass\n",
      "Average_SF_mass_needed =  2955722514.379613 solMass\n",
      "Average_SF_mass_needed =  2956626343.247209 solMass\n",
      "Average_SF_mass_needed =  2970170933.2462234 solMass\n",
      "Average_SF_mass_needed =  2962524225.857595 solMass\n",
      "Average_SF_mass_needed =  2953327355.134318 solMass\n",
      "Average_SF_mass_needed =  2963990188.9540963 solMass\n",
      "Average_SF_mass_needed =  2972095948.120815 solMass\n",
      "Average_SF_mass_needed =  2952359160.0158467 solMass\n",
      "Average_SF_mass_needed =  2955498507.9563494 solMass\n",
      "10 samples computed in 133.10 s\n"
     ]
    }
   ],
   "source": [
    "# takes about 13s per sample\n",
    "start = time.time()\n",
    "\n",
    "hobbs_merger_rates_bhns = get_merger_rates(hobbs_pathData, n_samples, \"BHNS\")\n",
    "    \n",
    "end = time.time()\n",
    "print(f\"{n_samples} samples computed in {end-start:.2f} s\")"
   ]
  },
  {
   "cell_type": "code",
   "execution_count": 23,
   "metadata": {},
   "outputs": [
    {
     "name": "stderr",
     "output_type": "stream",
     "text": [
      "/opt/apps/intel19/python3/3.7.0/lib/python3.7/site-packages/ipykernel_launcher.py:18: UserWarning: Maximum chirp mass used for detectability calculation is below maximum binary chirp mass * (1+maximum redshift for detectability calculation)\n"
     ]
    },
    {
     "name": "stdout",
     "output_type": "stream",
     "text": [
      "Average_SF_mass_needed =  2946517296.2547746 solMass\n",
      "Average_SF_mass_needed =  2960094434.0261683 solMass\n",
      "Average_SF_mass_needed =  2968567320.4671073 solMass\n",
      "Average_SF_mass_needed =  2955758741.4546123 solMass\n",
      "Average_SF_mass_needed =  2979883670.605425 solMass\n",
      "Average_SF_mass_needed =  2961750519.6334515 solMass\n",
      "Average_SF_mass_needed =  2957701455.8413563 solMass\n",
      "Average_SF_mass_needed =  2960268133.933047 solMass\n",
      "Average_SF_mass_needed =  2960138097.98005 solMass\n",
      "Average_SF_mass_needed =  2965230997.028992 solMass\n",
      "10 samples computed in 172.81 s\n"
     ]
    }
   ],
   "source": [
    "# takes about 9s per sample\n",
    "start = time.time()\n",
    "\n",
    "mm_merger_rates_bhns = get_merger_rates(mm_pathData, n_samples, \"BHNS\")\n",
    "    \n",
    "end = time.time()\n",
    "print(f\"{n_samples} samples computed in {end-start:.2f} s\")"
   ]
  },
  {
   "cell_type": "code",
   "execution_count": 21,
   "metadata": {},
   "outputs": [
    {
     "name": "stdout",
     "output_type": "stream",
     "text": [
      "Hobbs Local BHNS Merger Rate: 10.29 ± 0.03 / yr/ cubic Gpc\n"
     ]
    }
   ],
   "source": [
    "mean = np.average(hobbs_merger_rates_bhns)\n",
    "err = np.std(hobbs_merger_rates_bhns)\n",
    "print(f\"Hobbs Local BHNS Merger Rate: {mean:.2f} ± {err:.2f} / yr/ cubic Gpc\")"
   ]
  },
  {
   "cell_type": "code",
   "execution_count": 25,
   "metadata": {},
   "outputs": [
    {
     "name": "stdout",
     "output_type": "stream",
     "text": [
      "MULLERMANDEL Local BHNS Merger Rate: 134.36 ± 0.37 / yr/ cubic Gpc\n"
     ]
    }
   ],
   "source": [
    "mean = np.average(mm_merger_rates_bhns)\n",
    "err = np.std(mm_merger_rates_bhns)\n",
    "print(f\"MULLERMANDEL Local BHNS Merger Rate: {mean:.2f} ± {err:.2f} / yr/ cubic Gpc\")"
   ]
  },
  {
   "cell_type": "markdown",
   "metadata": {},
   "source": [
    "### bns"
   ]
  },
  {
   "cell_type": "code",
   "execution_count": 20,
   "metadata": {},
   "outputs": [
    {
     "name": "stderr",
     "output_type": "stream",
     "text": [
      "/opt/apps/intel19/python3/3.7.0/lib/python3.7/site-packages/ipykernel_launcher.py:18: UserWarning: Maximum chirp mass used for detectability calculation is below maximum binary chirp mass * (1+maximum redshift for detectability calculation)\n"
     ]
    },
    {
     "name": "stdout",
     "output_type": "stream",
     "text": [
      "Average_SF_mass_needed =  2966240905.603248 solMass\n",
      "Average_SF_mass_needed =  2959520630.2159166 solMass\n",
      "Average_SF_mass_needed =  2965239453.3448453 solMass\n",
      "Average_SF_mass_needed =  2962737657.412197 solMass\n",
      "Average_SF_mass_needed =  2963867656.458713 solMass\n",
      "Average_SF_mass_needed =  2957788606.9145875 solMass\n",
      "Average_SF_mass_needed =  2954231998.0346017 solMass\n",
      "Average_SF_mass_needed =  2967581608.156464 solMass\n",
      "Average_SF_mass_needed =  2945786195.069662 solMass\n",
      "Average_SF_mass_needed =  2958656103.3547144 solMass\n",
      "10 samples computed in 111.32 s\n"
     ]
    }
   ],
   "source": [
    "# takes about 11s per sample\n",
    "start = time.time()\n",
    "\n",
    "hobbs_merger_rates_nsns = get_merger_rates(hobbs_pathData, n_samples, \"BNS\")\n",
    "    \n",
    "end = time.time()\n",
    "print(f\"{n_samples} samples computed in {end-start:.2f} s\")"
   ]
  },
  {
   "cell_type": "code",
   "execution_count": 24,
   "metadata": {},
   "outputs": [
    {
     "name": "stderr",
     "output_type": "stream",
     "text": [
      "/opt/apps/intel19/python3/3.7.0/lib/python3.7/site-packages/ipykernel_launcher.py:18: UserWarning: Maximum chirp mass used for detectability calculation is below maximum binary chirp mass * (1+maximum redshift for detectability calculation)\n"
     ]
    },
    {
     "name": "stdout",
     "output_type": "stream",
     "text": [
      "Average_SF_mass_needed =  2972631109.242405 solMass\n",
      "Average_SF_mass_needed =  2953971205.9021893 solMass\n",
      "Average_SF_mass_needed =  2954106637.4025483 solMass\n",
      "Average_SF_mass_needed =  2965724262.1587834 solMass\n",
      "Average_SF_mass_needed =  2956157902.104527 solMass\n",
      "Average_SF_mass_needed =  2957833005.854383 solMass\n",
      "Average_SF_mass_needed =  2961601815.2723293 solMass\n",
      "Average_SF_mass_needed =  2949351380.5835676 solMass\n",
      "Average_SF_mass_needed =  2966122468.909926 solMass\n",
      "Average_SF_mass_needed =  2952906210.0878944 solMass\n",
      "10 samples computed in 111.73 s\n"
     ]
    }
   ],
   "source": [
    "# takes about 7s per sample\n",
    "start = time.time()\n",
    "\n",
    "mm_merger_rates_nsns = get_merger_rates(mm_pathData, n_samples, \"BNS\")\n",
    "    \n",
    "end = time.time()\n",
    "print(f\"{n_samples} samples computed in {end-start:.2f} s\")"
   ]
  },
  {
   "cell_type": "code",
   "execution_count": 22,
   "metadata": {},
   "outputs": [
    {
     "name": "stdout",
     "output_type": "stream",
     "text": [
      "Hobbs Local BNS Merger Rate: 3.00 ± 0.01 / yr/ cubic Gpc\n"
     ]
    }
   ],
   "source": [
    "mean = np.average(hobbs_merger_rates_nsns)\n",
    "err = np.std(hobbs_merger_rates_nsns)\n",
    "print(f\"Hobbs Local BNS Merger Rate: {mean:.2f} ± {err:.2f} / yr/ cubic Gpc\")"
   ]
  },
  {
   "cell_type": "code",
   "execution_count": 26,
   "metadata": {},
   "outputs": [
    {
     "name": "stdout",
     "output_type": "stream",
     "text": [
      "MULLERMANDEL Local BNS Merger Rate: 19.55 ± 0.05 / yr/ cubic Gpc\n"
     ]
    }
   ],
   "source": [
    "mean = np.average(mm_merger_rates_nsns)\n",
    "err = np.std(mm_merger_rates_nsns)\n",
    "print(f\"MULLERMANDEL Local BNS Merger Rate: {mean:.2f} ± {err:.2f} / yr/ cubic Gpc\")"
   ]
  },
  {
   "cell_type": "markdown",
   "metadata": {},
   "source": [
    "### bbh"
   ]
  },
  {
   "cell_type": "code",
   "execution_count": 28,
   "metadata": {},
   "outputs": [
    {
     "name": "stderr",
     "output_type": "stream",
     "text": [
      "/opt/apps/intel19/python3/3.7.0/lib/python3.7/site-packages/ipykernel_launcher.py:18: UserWarning: Maximum chirp mass used for detectability calculation is below maximum binary chirp mass * (1+maximum redshift for detectability calculation)\n"
     ]
    },
    {
     "name": "stdout",
     "output_type": "stream",
     "text": [
      "Average_SF_mass_needed =  2962356323.3991523 solMass\n",
      "Average_SF_mass_needed =  2969522250.434693 solMass\n"
     ]
    }
   ],
   "source": [
    "mm_merger_rates_bbh = get_merger_rates(mm_pathData, 1, \"BBH\")\n",
    "hobbs_merger_rates_bbh = get_merger_rates(hobbs_pathData, 1, \"BBH\")"
   ]
  },
  {
   "cell_type": "code",
   "execution_count": 29,
   "metadata": {},
   "outputs": [
    {
     "name": "stdout",
     "output_type": "stream",
     "text": [
      "MULLERMANDEL Local BBH Merger Rate: 198.87  / yr/ cubic Gpc\n",
      "Hobbs Local BBH Merger Rate: 24.66  / yr/ cubic Gpc\n"
     ]
    }
   ],
   "source": [
    "print(f\"MULLERMANDEL Local BBH Merger Rate: {mm_merger_rates_bbh[0]:.2f}  / yr/ cubic Gpc\")\n",
    "print(f\"Hobbs Local BBH Merger Rate: {hobbs_merger_rates_bbh[0]:.2f}  / yr/ cubic Gpc\")"
   ]
  },
  {
   "cell_type": "markdown",
   "metadata": {},
   "source": [
    "# Period-Eccentricity Distribution"
   ]
  },
  {
   "cell_type": "markdown",
   "metadata": {},
   "source": [
    "The H5 file contains ALL the DCOs. The COMPAS object only contains the DCOs that merge within hubble time AND are of type type_dco.\n",
    "\n",
    "To get the eccentricity-period distribution of BNSs, we set dco_type='bns' above, and will select the set of DCOs from the H5 file whose Merges_Hubble_Time==True, Stellar_Type(1)'+ 'Stellar_Type(2)==26."
   ]
  },
  {
   "cell_type": "code",
   "execution_count": 30,
   "metadata": {},
   "outputs": [],
   "source": [
    "def mask_type(data, st_type1, st_type2, dco_type='BBH', merge=None):\n",
    "    masked_data = data\n",
    "    \n",
    "    if merge is not None:\n",
    "        mask_hubble = (merge==True)\n",
    "        masked_data = masked_data[mask_hubble]\n",
    "        st_type1 = st_type1[mask_hubble]\n",
    "        st_type2 = st_type2[mask_hubble]\n",
    "        \n",
    "    if dco_type=='BBH':\n",
    "        st_type_sum = 28\n",
    "    if dco_type=='BNS':\n",
    "        st_type_sum = 26\n",
    "    if dco_type=='BHNS':\n",
    "        st_type_sum = 27\n",
    "    if dco_type=='all':\n",
    "        return masked_data\n",
    "    \n",
    "    mask = (st_type1 + st_type2==st_type_sum)\n",
    "    return masked_data[mask]"
   ]
  },
  {
   "cell_type": "code",
   "execution_count": 31,
   "metadata": {},
   "outputs": [],
   "source": [
    "# sma in AU\n",
    "# m1 in M_sun \n",
    "# m2 in M_sun\n",
    "# period in yr\n",
    "\n",
    "def sma_to_period(sma, m1, m2):\n",
    "    sma = sma*u.au\n",
    "    m1 = m1*const.M_sun\n",
    "    m2 = m2*const.M_sun\n",
    "    \n",
    "    return 2*np.pi*np.sqrt((sma**3)/(const.G*(m1+m2))).to(u.yr).value"
   ]
  },
  {
   "cell_type": "code",
   "execution_count": null,
   "metadata": {},
   "outputs": [],
   "source": []
  },
  {
   "cell_type": "code",
   "execution_count": 62,
   "metadata": {},
   "outputs": [],
   "source": [
    "hobbs_fdata = h5.File(hobbs_pathData, 'r')\n",
    "hobbs_merge = hobbs_fdata['BSE_Double_Compact_Objects'][\"Merges_Hubble_Time\"][()]\n",
    "\n",
    "hobbs_m1_ALL = hobbs_fdata['BSE_Double_Compact_Objects'][\"Mass(1)\"][()]\n",
    "hobbs_m2_ALL = hobbs_fdata['BSE_Double_Compact_Objects'][\"Mass(2)\"][()]\n",
    "\n",
    "hobbs_type1_ALL = hobbs_fdata['BSE_Double_Compact_Objects'][\"Stellar_Type(1)\"][()]\n",
    "hobbs_type2_ALL = hobbs_fdata['BSE_Double_Compact_Objects'][\"Stellar_Type(2)\"][()]\n",
    "\n",
    "hobbs_ecc_ALL = hobbs_fdata['BSE_Double_Compact_Objects'][\"Eccentricity@DCO\"][()]\n",
    "hobbs_sma_ALL = hobbs_fdata['BSE_Double_Compact_Objects'][\"SemiMajorAxis@DCO\"][()]\n",
    "\n",
    "hobbs_fdata.close()"
   ]
  },
  {
   "cell_type": "code",
   "execution_count": 63,
   "metadata": {},
   "outputs": [],
   "source": [
    "mm_fdata = h5.File(mm_pathData, 'r')\n",
    "mm_merge = mm_fdata['BSE_Double_Compact_Objects'][\"Merges_Hubble_Time\"][()]\n",
    "\n",
    "mm_m1_ALL = mm_fdata['BSE_Double_Compact_Objects'][\"Mass(1)\"][()]\n",
    "mm_m2_ALL = mm_fdata['BSE_Double_Compact_Objects'][\"Mass(2)\"][()]\n",
    "\n",
    "mm_type1_ALL = mm_fdata['BSE_Double_Compact_Objects'][\"Stellar_Type(1)\"][()]\n",
    "mm_type2_ALL = mm_fdata['BSE_Double_Compact_Objects'][\"Stellar_Type(2)\"][()]\n",
    "\n",
    "mm_ecc_ALL = mm_fdata['BSE_Double_Compact_Objects'][\"Eccentricity@DCO\"][()]\n",
    "mm_sma_ALL = mm_fdata['BSE_Double_Compact_Objects'][\"SemiMajorAxis@DCO\"][()]\n",
    "mm_fdata.close()"
   ]
  },
  {
   "cell_type": "code",
   "execution_count": 64,
   "metadata": {},
   "outputs": [],
   "source": [
    "dco_type='BHNS'\n",
    "# dco_type='BNS'"
   ]
  },
  {
   "cell_type": "code",
   "execution_count": 65,
   "metadata": {},
   "outputs": [
    {
     "name": "stdout",
     "output_type": "stream",
     "text": [
      "9168\n",
      "[0.000812   0.00296969 0.00131532 ... 0.0033904  0.00132757 0.00257512]\n"
     ]
    }
   ],
   "source": [
    "hobbs_ecc = mask_type(hobbs_ecc_ALL, hobbs_type1_ALL, hobbs_type2_ALL, dco_type=dco_type, merge=hobbs_merge)\n",
    "hobbs_sma = mask_type(hobbs_sma_ALL, hobbs_type1_ALL, hobbs_type2_ALL, dco_type=dco_type, merge=hobbs_merge)\n",
    "hobbs_m1 = mask_type(hobbs_m1_ALL, hobbs_type1_ALL, hobbs_type2_ALL, dco_type=dco_type, merge=hobbs_merge)\n",
    "hobbs_m2 = mask_type(hobbs_m2_ALL, hobbs_type1_ALL, hobbs_type2_ALL, dco_type=dco_type, merge=hobbs_merge)\n",
    "\n",
    "print(len(hobbs_ecc))\n",
    "\n",
    "hobbs_period = sma_to_period(hobbs_sma, hobbs_m1, hobbs_m2)\n",
    "print((hobbs_period))"
   ]
  },
  {
   "cell_type": "code",
   "execution_count": 66,
   "metadata": {},
   "outputs": [
    {
     "name": "stdout",
     "output_type": "stream",
     "text": [
      "16661\n"
     ]
    }
   ],
   "source": [
    "mm_ecc = mask_type(mm_ecc_ALL, mm_type1_ALL, mm_type2_ALL, dco_type=dco_type, merge=mm_merge)\n",
    "mm_sma = mask_type(mm_sma_ALL, mm_type1_ALL, mm_type2_ALL, dco_type=dco_type, merge=mm_merge)\n",
    "mm_m1 = mask_type(mm_m1_ALL, mm_type1_ALL, mm_type2_ALL, dco_type=dco_type, merge=mm_merge)\n",
    "mm_m2 = mask_type(mm_m2_ALL, mm_type1_ALL, mm_type2_ALL, dco_type=dco_type, merge=mm_merge)\n",
    "\n",
    "print(len(mm_ecc))\n",
    "\n",
    "mm_period = sma_to_period(mm_sma, mm_m1, mm_m2)\n",
    "# print((mm_period))"
   ]
  },
  {
   "cell_type": "code",
   "execution_count": 67,
   "metadata": {},
   "outputs": [
    {
     "data": {
      "image/png": "[encoded data removed]",
      "text/plain": [
       "<Figure size 576x576 with 1 Axes>"
      ]
     },
     "metadata": {},
     "output_type": "display_data"
    }
   ],
   "source": [
    "f, ax= plt.subplots(1, 1,  figsize=(8,8)) \n",
    "\n",
    "ms=10\n",
    "\n",
    "\n",
    "layoutAxes(ax=ax, nameX='Eccentricity',\\\n",
    "           nameY='Semi-major axis [AU]')\n",
    "\n",
    "plt.scatter(hobbs_ecc, hobbs_sma, s=ms, label='Hobbs')\n",
    "plt.scatter(mm_ecc, mm_sma, s=ms, label='Mandel Muller')\n",
    "\n",
    "plt.title(f\"{dco_type} mergers\", fontsize=fm)\n",
    "\n",
    "lgnd = plt.legend(bbox_to_anchor=(1, 1), scatterpoints=1, fontsize=fs)\n",
    "lgnd.legendHandles[0]._sizes = [20]\n",
    "lgnd.legendHandles[1]._sizes = [20]\n",
    "    \n",
    "plt.semilogy()\n",
    "# plt.ylim(1e-3, 1e-1)\n",
    "# plt.xlim(0.4, 0.6)\n",
    "plt.grid()\n",
    "plt.show()\n"
   ]
  },
  {
   "cell_type": "code",
   "execution_count": 68,
   "metadata": {},
   "outputs": [
    {
     "data": {
      "image/png": "[encoded data removed]",
      "text/plain": [
       "<Figure size 576x576 with 1 Axes>"
      ]
     },
     "metadata": {},
     "output_type": "display_data"
    }
   ],
   "source": [
    "f, ax= plt.subplots(1, 1,  figsize=(8,8)) \n",
    "\n",
    "ms=10\n",
    "\n",
    "\n",
    "layoutAxes(ax=ax, nameX='Eccentricity',\\\n",
    "           nameY='Period [yr]')\n",
    "\n",
    "plt.scatter(hobbs_ecc, hobbs_period, s=ms, label='Hobbs')\n",
    "plt.scatter(mm_ecc, mm_period, s=ms, label='Mandel Muller')\n",
    "\n",
    "plt.title(f\"{dco_type} mergers\", fontsize=fm)\n",
    "\n",
    "\n",
    "lgnd = plt.legend(bbox_to_anchor=(1, 1), scatterpoints=1, fontsize=fs)\n",
    "lgnd.legendHandles[0]._sizes = [20]\n",
    "lgnd.legendHandles[1]._sizes = [20]\n",
    "    \n",
    "# plt.loglog()\n",
    "plt.semilogy()\n",
    "# plt.ylim(1e-5, 1e-1)\n",
    "plt.grid()\n",
    "plt.show()"
   ]
  },
  {
   "cell_type": "code",
   "execution_count": null,
   "metadata": {},
   "outputs": [],
   "source": []
  },
  {
   "cell_type": "code",
   "execution_count": null,
   "metadata": {},
   "outputs": [],
   "source": []
  }
 ],
 "metadata": {
  "kernelspec": {
   "display_name": "Python 3",
   "language": "python",
   "name": "python3"
  },
  "language_info": {
   "codemirror_mode": {
    "name": "ipython",
    "version": 3
   },
   "file_extension": ".py",
   "mimetype": "text/x-python",
   "name": "python",
   "nbconvert_exporter": "python",
   "pygments_lexer": "ipython3",
   "version": "3.7.0"
  }
 },
 "nbformat": 4,
 "nbformat_minor": 2
}
