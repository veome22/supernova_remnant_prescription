{
 "cells": [
  {
   "cell_type": "code",
   "execution_count": 1,
   "metadata": {},
   "outputs": [],
   "source": [
    "import os, sys\n",
    "import numpy as np\n",
    "import matplotlib\n",
    "import matplotlib.pyplot as plt\n",
    "import matplotlib.patches as mpatches\n",
    "import matplotlib.gridspec as gridspec\n",
    "from matplotlib import rc\n",
    "import astropy.units as u\n",
    "from astropy import constants as const\n",
    "from   astropy.cosmology import WMAP9 as cosmology\n",
    "from scipy import stats\n",
    "from   scipy.optimize import newton\n",
    "import warnings\n",
    "import time\n",
    "\n",
    "from scipy.stats.kde import gaussian_kde\n",
    "from numpy import linspace\n",
    "\n",
    "import h5py as h5 \n"
   ]
  },
  {
   "cell_type": "code",
   "execution_count": 2,
   "metadata": {},
   "outputs": [],
   "source": [
    "#Set latex environment for plots/labels\n",
    "# matplotlib.rc('font', **{'family': 'serif'})\n",
    "matplotlib.rc('text', usetex=False)\n",
    "matplotlib.rcParams['text.latex.preamble'] = [r'\\boldmath']\n",
    "plt.rcParams.update({'font.family':'serif'})\n",
    "\n",
    "\n",
    "fl=22\n",
    "fm=18\n",
    "fs=16\n"
   ]
  },
  {
   "cell_type": "code",
   "execution_count": 3,
   "metadata": {},
   "outputs": [],
   "source": [
    "# this is just a little function that we will use to make the plot more beautiful (bigger ticks, labels)\n",
    "# However, you do not have to use this (just uncommoment \"layoutAxes\" everywhere)\n",
    "from matplotlib.ticker import (FormatStrFormatter,\n",
    "                               AutoMinorLocator)\n",
    "\n",
    "def layoutAxes(ax, nameX='', nameY='', \\\n",
    "               labelSizeMajor = 10, fontsize = fm, second=False, labelpad=None, setMinor=True):\n",
    "#     matplotlib.rc('font', **{'family': 'serif'})\n",
    "\n",
    "    \"\"\"\n",
    "    Tiny code to do the layout for axes in matplotlib\n",
    "    \"\"\"\n",
    "    tickLengthMajor = 10\n",
    "    tickLengthMinor = 5\n",
    "    tickWidthMajor  = 1.5\n",
    "    tickWidthMinor  = 1.5\n",
    "    \n",
    "    #rc('axes', linewidth=2)\n",
    "    #label1 always refers to first axis not the twin \n",
    "    if not second:\n",
    "        for tick in ax.xaxis.get_major_ticks():\n",
    "            tick.label1.set_fontsize(fontsize)\n",
    "            #tick.label1.set_fontweight('bold')\n",
    "        for tick in ax.yaxis.get_major_ticks():\n",
    "            tick.label1.set_fontsize(fontsize)\n",
    "            #tick.label1.set_fontweight('bold')\n",
    "    if second:\n",
    "        for tick in ax.xaxis.get_major_ticks():\n",
    "            tick.label2.set_fontsize(fontsize)\n",
    "            #tick.label1.set_fontweight('bold')\n",
    "        for tick in ax.yaxis.get_major_ticks():\n",
    "            tick.label2.set_fontsize(fontsize)\n",
    "            #tick.label1.set_fontweight('bold')\n",
    "    for axis in ['top','bottom','left','right']:\n",
    "        ax.spines[axis].set_linewidth(1.2)\n",
    "    ax.tick_params(length=tickLengthMajor, width=tickWidthMajor, which='major')\n",
    "    ax.tick_params(length=tickLengthMinor, width=tickWidthMinor, which='minor')\n",
    "    ax.set_xlabel(nameX, fontsize=fontsize,labelpad=labelpad)#,fontweight='bold')\n",
    "    ax.set_ylabel(nameY, fontsize=fontsize,labelpad=labelpad)#, fontweight='bold')    \n",
    "    \n",
    "    if setMinor==True:\n",
    "        # add minor ticks:\n",
    "        ax.xaxis.set_minor_locator(AutoMinorLocator())\n",
    "        ax.yaxis.set_minor_locator(AutoMinorLocator())\n",
    "\n",
    "    return ax\n"
   ]
  },
  {
   "cell_type": "code",
   "execution_count": 13,
   "metadata": {},
   "outputs": [],
   "source": [
    "hobbs_pathData        = os.environ['SCRATCH']+f'/supernova_remnant_merger_rates/hobbs_2e7_combined.h5'\n",
    "mm_pathData        = os.environ['SCRATCH'] + f\"/supernova_remnant_merger_rates/mm20_2e7_combined.h5\""
   ]
  },
  {
   "cell_type": "code",
   "execution_count": 14,
   "metadata": {},
   "outputs": [
    {
     "name": "stdout",
     "output_type": "stream",
     "text": [
      "20000064\n",
      "20000064\n"
     ]
    }
   ],
   "source": [
    "fdata = h5.File(hobbs_pathData, 'r')\n",
    "\n",
    "SEED = fdata['BSE_System_Parameters'][\"SEED\"][...].squeeze() \n",
    "unique, counts = np.unique(SEED, return_counts=True)\n",
    "print(len(SEED))\n",
    "print(len(unique))\n",
    "\n",
    "fdata.close()"
   ]
  },
  {
   "cell_type": "code",
   "execution_count": 15,
   "metadata": {},
   "outputs": [
    {
     "name": "stdout",
     "output_type": "stream",
     "text": [
      "20000064\n",
      "20000064\n"
     ]
    }
   ],
   "source": [
    "fdata = h5.File(mm_pathData, 'r')\n",
    "\n",
    "SEED = fdata['BSE_System_Parameters'][\"SEED\"][...].squeeze() \n",
    "unique, counts = np.unique(SEED, return_counts=True)\n",
    "print(len(SEED))\n",
    "print(len(unique))\n",
    "\n",
    "fdata.close()"
   ]
  },
  {
   "cell_type": "markdown",
   "metadata": {},
   "source": [
    "# Investigate properties of mergers"
   ]
  },
  {
   "cell_type": "markdown",
   "metadata": {},
   "source": [
    "To get the eccentricity-period distribution of BNSs, we set dco_type='bns' above, and will select the set of DCOs from the H5 file whose Merges_Hubble_Time==True, Stellar_Type(1)'+ 'Stellar_Type(2)==26."
   ]
  },
  {
   "cell_type": "code",
   "execution_count": 16,
   "metadata": {},
   "outputs": [],
   "source": [
    "def mask_type(data, st_type1, st_type2, dco_type='BNS', merge=None):\n",
    "    masked_data = data\n",
    "    \n",
    "    if merge is not None:\n",
    "        mask_hubble = (merge==True)\n",
    "        masked_data = masked_data[mask_hubble]\n",
    "        st_type1 = st_type1[mask_hubble]\n",
    "        st_type2 = st_type2[mask_hubble]\n",
    "        \n",
    "    if dco_type=='BBH':\n",
    "        st_type_sum = 28\n",
    "    if dco_type=='BNS':\n",
    "        st_type_sum = 26\n",
    "    if dco_type=='BHNS':\n",
    "        st_type_sum = 27\n",
    "    if dco_type=='all':\n",
    "        return masked_data\n",
    "    \n",
    "    mask = (st_type1 + st_type2==st_type_sum)\n",
    "    return masked_data[mask]"
   ]
  },
  {
   "cell_type": "code",
   "execution_count": 17,
   "metadata": {},
   "outputs": [],
   "source": [
    "# sma in AU\n",
    "# m1 in M_sun \n",
    "# m2 in M_sun\n",
    "# period in yr\n",
    "\n",
    "def sma_to_period(sma, m1, m2):\n",
    "    sma = sma*u.au\n",
    "    m1 = m1*const.M_sun\n",
    "    m2 = m2*const.M_sun\n",
    "    \n",
    "    return 2*np.pi*np.sqrt((sma**3)/(const.G*(m1+m2))).to(u.yr).value"
   ]
  },
  {
   "cell_type": "code",
   "execution_count": 18,
   "metadata": {},
   "outputs": [],
   "source": [
    "hobbs_fdata = h5.File(hobbs_pathData, 'r')\n",
    "hobbs_merge = hobbs_fdata['BSE_Double_Compact_Objects'][\"Merges_Hubble_Time\"][()]\n",
    "\n",
    "hobbs_m1_ALL = hobbs_fdata['BSE_Double_Compact_Objects'][\"Mass(1)\"][()]\n",
    "hobbs_m2_ALL = hobbs_fdata['BSE_Double_Compact_Objects'][\"Mass(2)\"][()]\n",
    "\n",
    "hobbs_type1_ALL = hobbs_fdata['BSE_Double_Compact_Objects'][\"Stellar_Type(1)\"][()]\n",
    "hobbs_type2_ALL = hobbs_fdata['BSE_Double_Compact_Objects'][\"Stellar_Type(2)\"][()]\n",
    "\n",
    "hobbs_ecc_ALL = hobbs_fdata['BSE_Double_Compact_Objects'][\"Eccentricity@DCO\"][()]\n",
    "hobbs_sma_ALL = hobbs_fdata['BSE_Double_Compact_Objects'][\"SemiMajorAxis@DCO\"][()]\n",
    "hobbs_dco_seed = hobbs_fdata['BSE_Double_Compact_Objects'][\"SEED\"][()]\n",
    "\n",
    "hobbs_unbound_ALL = hobbs_fdata['BSE_Supernovae'][\"Unbound\"][()]\n",
    "hobbs_kicks_ALL = hobbs_fdata['BSE_Supernovae'][\"Applied_Kick_Magnitude(SN)\"][()]\n",
    "hobbs_sn_stellartype = hobbs_fdata['BSE_Supernovae'][\"Stellar_Type(SN)\"][()]\n",
    "hobbs_sn_orbital_v = hobbs_fdata['BSE_Supernovae'][\"Orb_Velocity<SN\"][()]\n",
    "hobbs_sn_seed = hobbs_fdata['BSE_Supernovae'][\"SEED\"][()]\n",
    "\n",
    "hobbs_fdata.close()"
   ]
  },
  {
   "cell_type": "code",
   "execution_count": 19,
   "metadata": {},
   "outputs": [],
   "source": [
    "mm_fdata = h5.File(mm_pathData, 'r')\n",
    "mm_merge = mm_fdata['BSE_Double_Compact_Objects'][\"Merges_Hubble_Time\"][()]\n",
    "\n",
    "mm_m1_ALL = mm_fdata['BSE_Double_Compact_Objects'][\"Mass(1)\"][()]\n",
    "mm_m2_ALL = mm_fdata['BSE_Double_Compact_Objects'][\"Mass(2)\"][()]\n",
    "\n",
    "mm_type1_ALL = mm_fdata['BSE_Double_Compact_Objects'][\"Stellar_Type(1)\"][()]\n",
    "mm_type2_ALL = mm_fdata['BSE_Double_Compact_Objects'][\"Stellar_Type(2)\"][()]\n",
    "\n",
    "mm_ecc_ALL = mm_fdata['BSE_Double_Compact_Objects'][\"Eccentricity@DCO\"][()]\n",
    "mm_sma_ALL = mm_fdata['BSE_Double_Compact_Objects'][\"SemiMajorAxis@DCO\"][()]\n",
    "mm_dco_seed = mm_fdata['BSE_Double_Compact_Objects'][\"SEED\"][()]\n",
    "\n",
    "mm_unbound_ALL = mm_fdata['BSE_Supernovae'][\"Unbound\"][()]\n",
    "mm_kicks_ALL = mm_fdata['BSE_Supernovae'][\"Applied_Kick_Magnitude(SN)\"][()]\n",
    "mm_sn_stellartype = mm_fdata['BSE_Supernovae'][\"Stellar_Type(SN)\"][()]\n",
    "mm_sn_orbital_v = mm_fdata['BSE_Supernovae'][\"Orb_Velocity<SN\"][()]\n",
    "mm_sn_seed = mm_fdata['BSE_Supernovae'][\"SEED\"][()]\n",
    "\n",
    "mm_fdata.close()\n"
   ]
  },
  {
   "cell_type": "markdown",
   "metadata": {},
   "source": [
    "## See the period distribution of unbound objects"
   ]
  },
  {
   "cell_type": "code",
   "execution_count": 20,
   "metadata": {},
   "outputs": [],
   "source": [
    "hobbs_unbound_ns_kicks = hobbs_kicks_ALL[((hobbs_sn_stellartype ==13)*(hobbs_unbound_ALL == 1))]\n",
    "mm_unbound_ns_kicks = mm_kicks_ALL[((mm_sn_stellartype ==13)*(mm_unbound_ALL == 1))]\n",
    "\n",
    "hobbs_bound_ns_kicks = hobbs_kicks_ALL[((hobbs_sn_stellartype ==13)*(hobbs_unbound_ALL == 0))]\n",
    "mm_bound_ns_kicks = mm_kicks_ALL[((mm_sn_stellartype ==13)*(mm_unbound_ALL == 0))]"
   ]
  },
  {
   "cell_type": "code",
   "execution_count": 23,
   "metadata": {},
   "outputs": [
    {
     "data": {
      "image/png": "[encoded data removed]",
      "text/plain": [
       "<Figure size 576x576 with 2 Axes>"
      ]
     },
     "metadata": {
      "needs_background": "light"
     },
     "output_type": "display_data"
    }
   ],
   "source": [
    "f, (ax1, ax2)= plt.subplots(2, 1,  figsize=(8,8)) \n",
    "\n",
    "layoutAxes(ax=ax1, nameX='Applied Kicks',\\\n",
    "           nameY='Probability')\n",
    "\n",
    "layoutAxes(ax=ax2, nameX='Applied Kicks',\\\n",
    "           nameY='Probability')\n",
    "\n",
    "\n",
    "bins = np.linspace(0, 1000, 100)\n",
    "\n",
    "ax1.hist(hobbs_unbound_ns_kicks, bins=bins, histtype='step', label=\"Hobbs\")\n",
    "ax1.hist(mm_unbound_ns_kicks, bins=bins, histtype='step',  label=\"MM20\")\n",
    "ax1.legend(fontsize=fm)\n",
    "ax1.set_title(\"Applied Kick Dist for Unbound NSs\", fontsize=fm)\n",
    "ax1.set_xlim(0, 300)\n",
    "\n",
    "ax2.hist(hobbs_bound_ns_kicks, bins=bins, histtype='step', label=\"Hobbs\")\n",
    "ax2.hist(mm_bound_ns_kicks, bins=bins, histtype='step',  label=\"MM20\")\n",
    "ax2.legend(fontsize=fm)\n",
    "ax2.set_title(\"Applied Kick Dist for Bound NSs\", fontsize=fm)\n",
    "ax2.set_xlim(0, 300)\n",
    "plt.tight_layout()\n",
    "plt.show()"
   ]
  },
  {
   "cell_type": "code",
   "execution_count": 24,
   "metadata": {},
   "outputs": [],
   "source": [
    "hobbs_unbound_orbital_v = hobbs_sn_orbital_v[((hobbs_sn_stellartype ==13)*(hobbs_unbound_ALL == 1))]\n",
    "mm_unbound_orbital_v = mm_sn_orbital_v[((mm_sn_stellartype ==13)*(mm_unbound_ALL == 1))]\n",
    "\n",
    "hobbs_bound_orbital_v = hobbs_sn_orbital_v[((hobbs_sn_stellartype ==13)*(hobbs_unbound_ALL == 0))]\n",
    "mm_bound_orbital_v = mm_sn_orbital_v[((mm_sn_stellartype ==13)*(mm_unbound_ALL == 0))]"
   ]
  },
  {
   "cell_type": "code",
   "execution_count": 25,
   "metadata": {},
   "outputs": [
    {
     "data": {
      "image/png": "[encoded data removed]",
      "text/plain": [
       "<Figure size 576x576 with 2 Axes>"
      ]
     },
     "metadata": {
      "needs_background": "light"
     },
     "output_type": "display_data"
    }
   ],
   "source": [
    "f, (ax1, ax2)= plt.subplots(2, 1,  figsize=(8,8)) \n",
    "\n",
    "layoutAxes(ax=ax1, nameX='Applied Kicks',\\\n",
    "           nameY='Probability')\n",
    "layoutAxes(ax=ax2, nameX='Applied Kicks',\\\n",
    "           nameY='Probability')\n",
    "\n",
    "bins = np.linspace(0, 1000, 100)\n",
    "\n",
    "ax1.hist(hobbs_unbound_orbital_v, bins=bins, histtype='step', label=\"Hobbs\")\n",
    "ax1.hist(mm_unbound_orbital_v, bins=bins, histtype='step',  label=\"MM20\")\n",
    "ax1.legend(fontsize=fm)\n",
    "ax1.set_title(\"Initial Orbital Velocity Dist for Unbound NSs\", fontsize=fm)\n",
    "\n",
    "ax2.hist(hobbs_bound_orbital_v, bins=bins, histtype='step', label=\"Hobbs\")\n",
    "ax2.hist(mm_bound_orbital_v, bins=bins, histtype='step',  label=\"MM20\")\n",
    "ax2.legend(fontsize=fm)\n",
    "ax2.set_title(\"Initial Orbital Velocity Dist for Bound NSs\", fontsize=fm)\n",
    "\n",
    "plt.tight_layout()\n",
    "plt.show()"
   ]
  },
  {
   "cell_type": "markdown",
   "metadata": {},
   "source": [
    "## What percentage of Supernovae keep (future) BNS systems intact in the two cases?"
   ]
  },
  {
   "cell_type": "code",
   "execution_count": 26,
   "metadata": {},
   "outputs": [
    {
     "name": "stdout",
     "output_type": "stream",
     "text": [
      "[18667016 18681776 18689693 ... 24646600 24654812 24673454]\n",
      "2014\n",
      "[18667016 18667016 18681776 ... 24654812 24673454 24673454]\n",
      "4028\n"
     ]
    }
   ],
   "source": [
    "mm_future_bns_seeds_dco = mask_type(mm_dco_seed, mm_type1_ALL, mm_type2_ALL, dco_type='BNS', merge=mm_merge)\n",
    "print(mm_future_bns_seeds_dco)\n",
    "print(len(mm_future_bns_seeds_dco))\n",
    "\n",
    "mm_future_bns_seeds_sn_mask = np.in1d(mm_sn_seed, mm_future_bns_seeds_dco)\n",
    "mm_future_bns_seeds_sn = mm_sn_seed[mm_future_bns_seeds_sn_mask]\n",
    "\n",
    "print(mm_future_bns_seeds_sn)\n",
    "print(len(mm_future_bns_seeds_sn)) # should be double the number of dcos because 2 supernovae per binary system"
   ]
  },
  {
   "cell_type": "code",
   "execution_count": 27,
   "metadata": {},
   "outputs": [
    {
     "name": "stdout",
     "output_type": "stream",
     "text": [
      "[18665943 18667016 18674379 ... 24673454 24680667 24684340]\n",
      "3344\n",
      "[18665943 18665943 18667016 ... 24680667 24684340 24684340]\n",
      "6688\n"
     ]
    }
   ],
   "source": [
    "hobbs_future_bns_seeds_dco = mask_type(hobbs_dco_seed, hobbs_type1_ALL, hobbs_type2_ALL, dco_type='BNS', merge=hobbs_merge)\n",
    "print(hobbs_future_bns_seeds_dco)\n",
    "print(len(hobbs_future_bns_seeds_dco))\n",
    "\n",
    "hobbs_future_bns_seeds_sn_mask = np.in1d(hobbs_sn_seed, hobbs_future_bns_seeds_dco)\n",
    "hobbs_future_bns_seeds_sn = hobbs_sn_seed[hobbs_future_bns_seeds_sn_mask]\n",
    "\n",
    "print(hobbs_future_bns_seeds_sn)\n",
    "print(len(hobbs_future_bns_seeds_sn)) # should be double the number of dcos because 2 supernovae per binary system"
   ]
  },
  {
   "cell_type": "code",
   "execution_count": 28,
   "metadata": {},
   "outputs": [
    {
     "name": "stdout",
     "output_type": "stream",
     "text": [
      "0.05% of MM20 SNe that produce NSs leave the binary intact, where the final system is a BNS\n",
      "0.08% of Hobbs SNe that produce NSs leave the binary intact, where the final system is a BNS\n"
     ]
    }
   ],
   "source": [
    "mm_kicks_ns = mm_kicks_ALL[(mm_sn_stellartype ==13)]\n",
    "mm_kicks_bns_bound = mm_kicks_ALL[(mm_sn_stellartype ==13) * (mm_unbound_ALL == 0) * mm_future_bns_seeds_sn_mask]\n",
    "\n",
    "mm_bns_percentage = (len(mm_kicks_bns_bound)/len(mm_kicks_ns)*100)\n",
    "print(f\"{mm_bns_percentage:.2f}% of MM20 SNe that produce NSs leave the binary intact, where the final system is a BNS\")\n",
    "\n",
    "hobbs_kicks_ns = hobbs_kicks_ALL[(hobbs_sn_stellartype ==13)]\n",
    "hobbs_kicks_bns_bound = hobbs_kicks_ALL[(hobbs_sn_stellartype ==13) * (hobbs_unbound_ALL == 0) * hobbs_future_bns_seeds_sn_mask]\n",
    "\n",
    "hobbs_bns_percentage = (len(hobbs_kicks_bns_bound)/len(hobbs_kicks_ns)*100)\n",
    "\n",
    "print(f\"{hobbs_bns_percentage:.2f}% of Hobbs SNe that produce NSs leave the binary intact, where the final system is a BNS\")\n"
   ]
  },
  {
   "cell_type": "markdown",
   "metadata": {},
   "source": [
    "## What percentage of Supernovae keep (future) BHNS systems intact in the two cases?"
   ]
  },
  {
   "cell_type": "code",
   "execution_count": 29,
   "metadata": {},
   "outputs": [
    {
     "name": "stdout",
     "output_type": "stream",
     "text": [
      "[18661387 18662094 18662992 ... 24681463 24682191 24685182]\n",
      "11061\n",
      "[18661387 18661387 18662094 ... 24682191 24685182 24685182]\n",
      "22122\n"
     ]
    }
   ],
   "source": [
    "mm_future_bhns_seeds_dco = mask_type(mm_dco_seed, mm_type1_ALL, mm_type2_ALL, dco_type='BHNS', merge=mm_merge)\n",
    "print(mm_future_bhns_seeds_dco)\n",
    "print(len(mm_future_bhns_seeds_dco))\n",
    "\n",
    "mm_future_bhns_seeds_sn_mask = np.in1d(mm_sn_seed, mm_future_bhns_seeds_dco)\n",
    "mm_future_bhns_seeds_sn = mm_sn_seed[mm_future_bhns_seeds_sn_mask]\n",
    "\n",
    "print(mm_future_bhns_seeds_sn)\n",
    "print(len(mm_future_bhns_seeds_sn)) # should be double the number of dcos because 2 supernovae per binary system"
   ]
  },
  {
   "cell_type": "code",
   "execution_count": 30,
   "metadata": {},
   "outputs": [
    {
     "name": "stdout",
     "output_type": "stream",
     "text": [
      "[18661287 18665543 18666364 ... 24671380 24673753 24680230]\n",
      "6622\n",
      "[18661287 18661287 18665543 ... 24673753 24680230 24680230]\n",
      "13244\n"
     ]
    }
   ],
   "source": [
    "hobbs_future_bhns_seeds_dco = mask_type(hobbs_dco_seed, hobbs_type1_ALL, hobbs_type2_ALL, dco_type='BHNS', merge=hobbs_merge)\n",
    "print(hobbs_future_bhns_seeds_dco)\n",
    "print(len(hobbs_future_bhns_seeds_dco))\n",
    "\n",
    "hobbs_future_bhns_seeds_sn_mask = np.in1d(hobbs_sn_seed, hobbs_future_bhns_seeds_dco)\n",
    "hobbs_future_bhns_seeds_sn = hobbs_sn_seed[hobbs_future_bhns_seeds_sn_mask]\n",
    "\n",
    "print(hobbs_future_bhns_seeds_sn)\n",
    "print(len(hobbs_future_bhns_seeds_sn)) # should be double the number of dcos because 2 supernovae per binary system"
   ]
  },
  {
   "cell_type": "code",
   "execution_count": 31,
   "metadata": {},
   "outputs": [
    {
     "name": "stdout",
     "output_type": "stream",
     "text": [
      "0.14% of MM20 SNe that produce NSs leave the binary intact, where the final system is a BHNS\n",
      "0.08% of Hobbs SNe that produce NSs leave the binary intact, where the final system is a BHNS\n"
     ]
    }
   ],
   "source": [
    "mm_kicks_ns = mm_kicks_ALL[(mm_sn_stellartype ==13)]\n",
    "mm_kicks_bhns_bound = mm_kicks_ALL[(mm_sn_stellartype ==13) * (mm_unbound_ALL == 0) * mm_future_bhns_seeds_sn_mask]\n",
    "\n",
    "mm_bhns_percentage = (len(mm_kicks_bhns_bound)/len(mm_kicks_ns)*100)\n",
    "print(f\"{mm_bhns_percentage:.2f}% of MM20 SNe that produce NSs leave the binary intact, where the final system is a BHNS\")\n",
    "\n",
    "hobbs_kicks_ns = hobbs_kicks_ALL[(hobbs_sn_stellartype ==13)]\n",
    "hobbs_kicks_bhns_bound = hobbs_kicks_ALL[(hobbs_sn_stellartype ==13) * (hobbs_unbound_ALL == 0) * hobbs_future_bhns_seeds_sn_mask]\n",
    "\n",
    "hobbs_bhns_percentage = (len(hobbs_kicks_bhns_bound)/len(hobbs_kicks_ns)*100)\n",
    "\n",
    "print(f\"{hobbs_bhns_percentage:.2f}% of Hobbs SNe that produce NSs leave the binary intact, where the final system is a BHNS\")\n"
   ]
  },
  {
   "cell_type": "markdown",
   "metadata": {},
   "source": [
    "I don't get it. Why should the number of BNS and BHNS systems left intact by Hobbs be the same? Shouldn't more BHNS systems survive due to higher required kicks to disrupt?"
   ]
  },
  {
   "cell_type": "markdown",
   "metadata": {},
   "source": [
    "# Period-Eccentricity Distribution"
   ]
  },
  {
   "cell_type": "code",
   "execution_count": 32,
   "metadata": {},
   "outputs": [],
   "source": [
    "dco_type='BHNS'\n",
    "# dco_type='BNS'"
   ]
  },
  {
   "cell_type": "code",
   "execution_count": 33,
   "metadata": {},
   "outputs": [
    {
     "name": "stdout",
     "output_type": "stream",
     "text": [
      "6622\n",
      "[0.0011286  0.00202565 0.00167708 ... 0.00221799 0.0009781  0.00090037]\n"
     ]
    }
   ],
   "source": [
    "hobbs_ecc = mask_type(hobbs_ecc_ALL, hobbs_type1_ALL, hobbs_type2_ALL, dco_type=dco_type, merge=hobbs_merge)\n",
    "hobbs_sma = mask_type(hobbs_sma_ALL, hobbs_type1_ALL, hobbs_type2_ALL, dco_type=dco_type, merge=hobbs_merge)\n",
    "hobbs_m1 = mask_type(hobbs_m1_ALL, hobbs_type1_ALL, hobbs_type2_ALL, dco_type=dco_type, merge=hobbs_merge)\n",
    "hobbs_m2 = mask_type(hobbs_m2_ALL, hobbs_type1_ALL, hobbs_type2_ALL, dco_type=dco_type, merge=hobbs_merge)\n",
    "\n",
    "print(len(hobbs_ecc))\n",
    "\n",
    "hobbs_period = sma_to_period(hobbs_sma, hobbs_m1, hobbs_m2)\n",
    "print((hobbs_period))"
   ]
  },
  {
   "cell_type": "code",
   "execution_count": null,
   "metadata": {},
   "outputs": [],
   "source": [
    "mm_ecc = mask_type(mm_ecc_ALL, mm_type1_ALL, mm_type2_ALL, dco_type=dco_type, merge=mm_merge)\n",
    "mm_sma = mask_type(mm_sma_ALL, mm_type1_ALL, mm_type2_ALL, dco_type=dco_type, merge=mm_merge)\n",
    "mm_m1 = mask_type(mm_m1_ALL, mm_type1_ALL, mm_type2_ALL, dco_type=dco_type, merge=mm_merge)\n",
    "mm_m2 = mask_type(mm_m2_ALL, mm_type1_ALL, mm_type2_ALL, dco_type=dco_type, merge=mm_merge)\n",
    "\n",
    "print(len(mm_ecc))\n",
    "\n",
    "mm_period = sma_to_period(mm_sma, mm_m1, mm_m2)\n",
    "# print((mm_period))"
   ]
  },
  {
   "cell_type": "code",
   "execution_count": null,
   "metadata": {},
   "outputs": [],
   "source": [
    "f, ax= plt.subplots(1, 1,  figsize=(8,8)) \n",
    "\n",
    "ms=10\n",
    "\n",
    "\n",
    "layoutAxes(ax=ax, nameX='Eccentricity',\\\n",
    "           nameY='Semi-major axis [AU]')\n",
    "\n",
    "plt.scatter(hobbs_ecc, hobbs_sma, s=ms, label='Hobbs')\n",
    "plt.scatter(mm_ecc, mm_sma, s=ms, label='Mandel Muller')\n",
    "\n",
    "plt.title(f\"{dco_type} mergers\", fontsize=fm)\n",
    "\n",
    "lgnd = plt.legend(bbox_to_anchor=(1, 1), scatterpoints=1, fontsize=fs)\n",
    "lgnd.legendHandles[0]._sizes = [20]\n",
    "lgnd.legendHandles[1]._sizes = [20]\n",
    "    \n",
    "# plt.semilogy()\n",
    "plt.ylim(1e-3, 1e-1)\n",
    "# plt.xlim(0.4, 0.6)\n",
    "plt.grid()\n",
    "plt.show()\n"
   ]
  },
  {
   "cell_type": "code",
   "execution_count": null,
   "metadata": {},
   "outputs": [],
   "source": [
    "f, ax= plt.subplots(1, 1,  figsize=(8,8)) \n",
    "\n",
    "ms=10\n",
    "\n",
    "\n",
    "layoutAxes(ax=ax, nameX='Eccentricity',\\\n",
    "           nameY='Period [yr]')\n",
    "\n",
    "plt.scatter(hobbs_ecc, hobbs_period, s=ms, label='Hobbs')\n",
    "plt.scatter(mm_ecc, mm_period, s=ms, label='Mandel Muller')\n",
    "\n",
    "plt.title(f\"{dco_type} mergers\", fontsize=fm)\n",
    "\n",
    "\n",
    "lgnd = plt.legend(bbox_to_anchor=(1, 1), scatterpoints=1, fontsize=fs)\n",
    "lgnd.legendHandles[0]._sizes = [20]\n",
    "lgnd.legendHandles[1]._sizes = [20]\n",
    "    \n",
    "# plt.loglog()\n",
    "# plt.semilogy()\n",
    "plt.ylim(-1e-5, 1e-2)\n",
    "plt.grid()\n",
    "plt.show()"
   ]
  },
  {
   "cell_type": "code",
   "execution_count": null,
   "metadata": {},
   "outputs": [],
   "source": []
  },
  {
   "cell_type": "code",
   "execution_count": null,
   "metadata": {},
   "outputs": [],
   "source": []
  }
 ],
 "metadata": {
  "kernelspec": {
   "display_name": "Python 3",
   "language": "python",
   "name": "python3"
  },
  "language_info": {
   "codemirror_mode": {
    "name": "ipython",
    "version": 3
   },
   "file_extension": ".py",
   "mimetype": "text/x-python",
   "name": "python",
   "nbconvert_exporter": "python",
   "pygments_lexer": "ipython3",
   "version": "3.7.0"
  }
 },
 "nbformat": 4,
 "nbformat_minor": 2
}
