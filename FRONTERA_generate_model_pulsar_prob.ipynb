{
 "cells": [
  {
   "cell_type": "code",
   "execution_count": 1,
   "metadata": {},
   "outputs": [],
   "source": [
    "import numpy as np\n",
    "import matplotlib.pyplot as plt\n",
    "import glob\n",
    "from scipy.stats.kde import gaussian_kde\n",
    "from numpy import linspace\n",
    "import time\n",
    "from scipy import interpolate"
   ]
  },
  {
   "cell_type": "code",
   "execution_count": 2,
   "metadata": {},
   "outputs": [],
   "source": [
    "from natal_kick_tools import mandel_muller_sim_functions as msf"
   ]
  },
  {
   "cell_type": "markdown",
   "metadata": {},
   "source": [
    "# Probability from COMPAS simulated models"
   ]
  },
  {
   "cell_type": "code",
   "execution_count": 3,
   "metadata": {},
   "outputs": [],
   "source": [
    "# Define the models of interest\n",
    "bh_kicks=[200]\n",
    "ns_kicks = [400]\n",
    "sigmas = [0.3]\n",
    "\n",
    "# Define the location of the posterior data\n",
    "pulsar_data_loc = \"../correctedPulsarPosteriors/correctedVtData\""
   ]
  },
  {
   "cell_type": "code",
   "execution_count": 4,
   "metadata": {},
   "outputs": [
    {
     "name": "stdout",
     "output_type": "stream",
     "text": [
      "Loading Mandel Muller model data from /work2/08178/vkapil/frontera/supernova_remnant/bh_200_ns_400_sigma_0.3_combined.h5\n",
      "Successfully read 89 data files\n",
      "Likelihood calculation for vns_400_sigma_0.3 completed in: 0.20595169067382812 s\n",
      "Writing pulsar probabilities to file: ../calculatedModelLikelihoods/vns_400_sigma_0.3\n",
      "Calculation Complete!\n",
      "Calculation completed in: 37.39892911911011 s\n"
     ]
    }
   ],
   "source": [
    "start = time.time() \n",
    "p_pulsar_given_model = msf.get_pulsar_probability(pulsar_data_loc, bh_kicks=bh_kicks, ns_kicks=ns_kicks, sigmas=sigmas)\n",
    "end = time.time()\n",
    "print(\"Calculation completed in:\", end - start, \"s\")"
   ]
  },
  {
   "cell_type": "code",
   "execution_count": 5,
   "metadata": {},
   "outputs": [
    {
     "data": {
      "text/plain": [
       "2.2823605919771655e-254"
      ]
     },
     "execution_count": 5,
     "metadata": {},
     "output_type": "execute_result"
    }
   ],
   "source": [
    "p_pulsar_given_model"
   ]
  },
  {
   "cell_type": "code",
   "execution_count": null,
   "metadata": {},
   "outputs": [],
   "source": []
  }
 ],
 "metadata": {
  "kernelspec": {
   "display_name": "Python 3",
   "language": "python",
   "name": "python3"
  },
  "language_info": {
   "codemirror_mode": {
    "name": "ipython",
    "version": 3
   },
   "file_extension": ".py",
   "mimetype": "text/x-python",
   "name": "python",
   "nbconvert_exporter": "python",
   "pygments_lexer": "ipython3",
   "version": "3.7.0"
  }
 },
 "nbformat": 4,
 "nbformat_minor": 2
}
